{
 "cells": [
  {
   "cell_type": "code",
   "execution_count": 105,
   "metadata": {},
   "outputs": [],
   "source": [
    "using DataFrames, Statistics, CSV, Plots, MLJ, MLJLinearModels, CategoricalArrays"
   ]
  },
  {
   "cell_type": "code",
   "execution_count": 24,
   "metadata": {},
   "outputs": [
    {
     "data": {
      "text/html": [
       "<div><div style = \"float: left;\"><span>284807×31 DataFrame</span></div><div style = \"float: right;\"><span style = \"font-style: italic;\">284782 rows omitted</span></div><div style = \"clear: both;\"></div></div><div class = \"data-frame\" style = \"overflow-x: scroll;\"><table class = \"data-frame\" style = \"margin-bottom: 6px;\"><thead><tr class = \"header\"><th class = \"rowNumber\" style = \"font-weight: bold; text-align: right;\">Row</th><th style = \"text-align: left;\">Time</th><th style = \"text-align: left;\">V1</th><th style = \"text-align: left;\">V2</th><th style = \"text-align: left;\">V3</th><th style = \"text-align: left;\">V4</th><th style = \"text-align: left;\">V5</th><th style = \"text-align: left;\">V6</th><th style = \"text-align: left;\">V7</th><th style = \"text-align: left;\">V8</th><th style = \"text-align: left;\">V9</th><th style = \"text-align: left;\">V10</th><th style = \"text-align: left;\">V11</th><th style = \"text-align: left;\">V12</th><th style = \"text-align: left;\">V13</th><th style = \"text-align: left;\">V14</th><th style = \"text-align: left;\">V15</th><th style = \"text-align: left;\">V16</th><th style = \"text-align: left;\">V17</th><th style = \"text-align: left;\">V18</th><th style = \"text-align: left;\">V19</th><th style = \"text-align: left;\">V20</th><th style = \"text-align: left;\">V21</th><th style = \"text-align: left;\">V22</th><th style = \"text-align: left;\">V23</th><th style = \"text-align: left;\">V24</th><th style = \"text-align: left;\">V25</th><th style = \"text-align: left;\">V26</th><th style = \"text-align: left;\">V27</th><th style = \"text-align: left;\">V28</th><th style = \"text-align: left;\">Amount</th><th style = \"text-align: left;\">Class</th></tr><tr class = \"subheader headerLastRow\"><th class = \"rowNumber\" style = \"font-weight: bold; text-align: right;\"></th><th title = \"Float64\" style = \"text-align: left;\">Float64</th><th title = \"Float64\" style = \"text-align: left;\">Float64</th><th title = \"Float64\" style = \"text-align: left;\">Float64</th><th title = \"Float64\" style = \"text-align: left;\">Float64</th><th title = \"Float64\" style = \"text-align: left;\">Float64</th><th title = \"Float64\" style = \"text-align: left;\">Float64</th><th title = \"Float64\" style = \"text-align: left;\">Float64</th><th title = \"Float64\" style = \"text-align: left;\">Float64</th><th title = \"Float64\" style = \"text-align: left;\">Float64</th><th title = \"Float64\" style = \"text-align: left;\">Float64</th><th title = \"Float64\" style = \"text-align: left;\">Float64</th><th title = \"Float64\" style = \"text-align: left;\">Float64</th><th title = \"Float64\" style = \"text-align: left;\">Float64</th><th title = \"Float64\" style = \"text-align: left;\">Float64</th><th title = \"Float64\" style = \"text-align: left;\">Float64</th><th title = \"Float64\" style = \"text-align: left;\">Float64</th><th title = \"Float64\" style = \"text-align: left;\">Float64</th><th title = \"Float64\" style = \"text-align: left;\">Float64</th><th title = \"Float64\" style = \"text-align: left;\">Float64</th><th title = \"Float64\" style = \"text-align: left;\">Float64</th><th title = \"Float64\" style = \"text-align: left;\">Float64</th><th title = \"Float64\" style = \"text-align: left;\">Float64</th><th title = \"Float64\" style = \"text-align: left;\">Float64</th><th title = \"Float64\" style = \"text-align: left;\">Float64</th><th title = \"Float64\" style = \"text-align: left;\">Float64</th><th title = \"Float64\" style = \"text-align: left;\">Float64</th><th title = \"Float64\" style = \"text-align: left;\">Float64</th><th title = \"Float64\" style = \"text-align: left;\">Float64</th><th title = \"Float64\" style = \"text-align: left;\">Float64</th><th title = \"Float64\" style = \"text-align: left;\">Float64</th><th title = \"Int64\" style = \"text-align: left;\">Int64</th></tr></thead><tbody><tr><td class = \"rowNumber\" style = \"font-weight: bold; text-align: right;\">1</td><td style = \"text-align: right;\">0.0</td><td style = \"text-align: right;\">-1.35981</td><td style = \"text-align: right;\">-0.0727812</td><td style = \"text-align: right;\">2.53635</td><td style = \"text-align: right;\">1.37816</td><td style = \"text-align: right;\">-0.338321</td><td style = \"text-align: right;\">0.462388</td><td style = \"text-align: right;\">0.239599</td><td style = \"text-align: right;\">0.0986979</td><td style = \"text-align: right;\">0.363787</td><td style = \"text-align: right;\">0.0907942</td><td style = \"text-align: right;\">-0.5516</td><td style = \"text-align: right;\">-0.617801</td><td style = \"text-align: right;\">-0.99139</td><td style = \"text-align: right;\">-0.311169</td><td style = \"text-align: right;\">1.46818</td><td style = \"text-align: right;\">-0.470401</td><td style = \"text-align: right;\">0.207971</td><td style = \"text-align: right;\">0.0257906</td><td style = \"text-align: right;\">0.403993</td><td style = \"text-align: right;\">0.251412</td><td style = \"text-align: right;\">-0.0183068</td><td style = \"text-align: right;\">0.277838</td><td style = \"text-align: right;\">-0.110474</td><td style = \"text-align: right;\">0.0669281</td><td style = \"text-align: right;\">0.128539</td><td style = \"text-align: right;\">-0.189115</td><td style = \"text-align: right;\">0.133558</td><td style = \"text-align: right;\">-0.0210531</td><td style = \"text-align: right;\">149.62</td><td style = \"text-align: right;\">0</td></tr><tr><td class = \"rowNumber\" style = \"font-weight: bold; text-align: right;\">2</td><td style = \"text-align: right;\">0.0</td><td style = \"text-align: right;\">1.19186</td><td style = \"text-align: right;\">0.266151</td><td style = \"text-align: right;\">0.16648</td><td style = \"text-align: right;\">0.448154</td><td style = \"text-align: right;\">0.0600176</td><td style = \"text-align: right;\">-0.0823608</td><td style = \"text-align: right;\">-0.078803</td><td style = \"text-align: right;\">0.0851017</td><td style = \"text-align: right;\">-0.255425</td><td style = \"text-align: right;\">-0.166974</td><td style = \"text-align: right;\">1.61273</td><td style = \"text-align: right;\">1.06524</td><td style = \"text-align: right;\">0.489095</td><td style = \"text-align: right;\">-0.143772</td><td style = \"text-align: right;\">0.635558</td><td style = \"text-align: right;\">0.463917</td><td style = \"text-align: right;\">-0.114805</td><td style = \"text-align: right;\">-0.183361</td><td style = \"text-align: right;\">-0.145783</td><td style = \"text-align: right;\">-0.0690831</td><td style = \"text-align: right;\">-0.225775</td><td style = \"text-align: right;\">-0.638672</td><td style = \"text-align: right;\">0.101288</td><td style = \"text-align: right;\">-0.339846</td><td style = \"text-align: right;\">0.16717</td><td style = \"text-align: right;\">0.125895</td><td style = \"text-align: right;\">-0.0089831</td><td style = \"text-align: right;\">0.0147242</td><td style = \"text-align: right;\">2.69</td><td style = \"text-align: right;\">0</td></tr><tr><td class = \"rowNumber\" style = \"font-weight: bold; text-align: right;\">3</td><td style = \"text-align: right;\">1.0</td><td style = \"text-align: right;\">-1.35835</td><td style = \"text-align: right;\">-1.34016</td><td style = \"text-align: right;\">1.77321</td><td style = \"text-align: right;\">0.37978</td><td style = \"text-align: right;\">-0.503198</td><td style = \"text-align: right;\">1.8005</td><td style = \"text-align: right;\">0.791461</td><td style = \"text-align: right;\">0.247676</td><td style = \"text-align: right;\">-1.51465</td><td style = \"text-align: right;\">0.207643</td><td style = \"text-align: right;\">0.624501</td><td style = \"text-align: right;\">0.0660837</td><td style = \"text-align: right;\">0.717293</td><td style = \"text-align: right;\">-0.165946</td><td style = \"text-align: right;\">2.34586</td><td style = \"text-align: right;\">-2.89008</td><td style = \"text-align: right;\">1.10997</td><td style = \"text-align: right;\">-0.121359</td><td style = \"text-align: right;\">-2.26186</td><td style = \"text-align: right;\">0.52498</td><td style = \"text-align: right;\">0.247998</td><td style = \"text-align: right;\">0.771679</td><td style = \"text-align: right;\">0.909412</td><td style = \"text-align: right;\">-0.689281</td><td style = \"text-align: right;\">-0.327642</td><td style = \"text-align: right;\">-0.139097</td><td style = \"text-align: right;\">-0.0553528</td><td style = \"text-align: right;\">-0.0597518</td><td style = \"text-align: right;\">378.66</td><td style = \"text-align: right;\">0</td></tr><tr><td class = \"rowNumber\" style = \"font-weight: bold; text-align: right;\">4</td><td style = \"text-align: right;\">1.0</td><td style = \"text-align: right;\">-0.966272</td><td style = \"text-align: right;\">-0.185226</td><td style = \"text-align: right;\">1.79299</td><td style = \"text-align: right;\">-0.863291</td><td style = \"text-align: right;\">-0.0103089</td><td style = \"text-align: right;\">1.2472</td><td style = \"text-align: right;\">0.237609</td><td style = \"text-align: right;\">0.377436</td><td style = \"text-align: right;\">-1.38702</td><td style = \"text-align: right;\">-0.0549519</td><td style = \"text-align: right;\">-0.226487</td><td style = \"text-align: right;\">0.178228</td><td style = \"text-align: right;\">0.507757</td><td style = \"text-align: right;\">-0.287924</td><td style = \"text-align: right;\">-0.631418</td><td style = \"text-align: right;\">-1.05965</td><td style = \"text-align: right;\">-0.684093</td><td style = \"text-align: right;\">1.96578</td><td style = \"text-align: right;\">-1.23262</td><td style = \"text-align: right;\">-0.208038</td><td style = \"text-align: right;\">-0.1083</td><td style = \"text-align: right;\">0.0052736</td><td style = \"text-align: right;\">-0.190321</td><td style = \"text-align: right;\">-1.17558</td><td style = \"text-align: right;\">0.647376</td><td style = \"text-align: right;\">-0.221929</td><td style = \"text-align: right;\">0.0627228</td><td style = \"text-align: right;\">0.0614576</td><td style = \"text-align: right;\">123.5</td><td style = \"text-align: right;\">0</td></tr><tr><td class = \"rowNumber\" style = \"font-weight: bold; text-align: right;\">5</td><td style = \"text-align: right;\">2.0</td><td style = \"text-align: right;\">-1.15823</td><td style = \"text-align: right;\">0.877737</td><td style = \"text-align: right;\">1.54872</td><td style = \"text-align: right;\">0.403034</td><td style = \"text-align: right;\">-0.407193</td><td style = \"text-align: right;\">0.0959215</td><td style = \"text-align: right;\">0.592941</td><td style = \"text-align: right;\">-0.270533</td><td style = \"text-align: right;\">0.817739</td><td style = \"text-align: right;\">0.753074</td><td style = \"text-align: right;\">-0.822843</td><td style = \"text-align: right;\">0.538196</td><td style = \"text-align: right;\">1.34585</td><td style = \"text-align: right;\">-1.11967</td><td style = \"text-align: right;\">0.175121</td><td style = \"text-align: right;\">-0.451449</td><td style = \"text-align: right;\">-0.237033</td><td style = \"text-align: right;\">-0.0381948</td><td style = \"text-align: right;\">0.803487</td><td style = \"text-align: right;\">0.408542</td><td style = \"text-align: right;\">-0.0094307</td><td style = \"text-align: right;\">0.798278</td><td style = \"text-align: right;\">-0.137458</td><td style = \"text-align: right;\">0.141267</td><td style = \"text-align: right;\">-0.20601</td><td style = \"text-align: right;\">0.502292</td><td style = \"text-align: right;\">0.219422</td><td style = \"text-align: right;\">0.215153</td><td style = \"text-align: right;\">69.99</td><td style = \"text-align: right;\">0</td></tr><tr><td class = \"rowNumber\" style = \"font-weight: bold; text-align: right;\">6</td><td style = \"text-align: right;\">2.0</td><td style = \"text-align: right;\">-0.425966</td><td style = \"text-align: right;\">0.960523</td><td style = \"text-align: right;\">1.14111</td><td style = \"text-align: right;\">-0.168252</td><td style = \"text-align: right;\">0.420987</td><td style = \"text-align: right;\">-0.0297276</td><td style = \"text-align: right;\">0.476201</td><td style = \"text-align: right;\">0.260314</td><td style = \"text-align: right;\">-0.568671</td><td style = \"text-align: right;\">-0.371407</td><td style = \"text-align: right;\">1.34126</td><td style = \"text-align: right;\">0.359894</td><td style = \"text-align: right;\">-0.358091</td><td style = \"text-align: right;\">-0.137134</td><td style = \"text-align: right;\">0.517617</td><td style = \"text-align: right;\">0.401726</td><td style = \"text-align: right;\">-0.0581328</td><td style = \"text-align: right;\">0.0686531</td><td style = \"text-align: right;\">-0.0331938</td><td style = \"text-align: right;\">0.0849677</td><td style = \"text-align: right;\">-0.208254</td><td style = \"text-align: right;\">-0.559825</td><td style = \"text-align: right;\">-0.0263977</td><td style = \"text-align: right;\">-0.371427</td><td style = \"text-align: right;\">-0.232794</td><td style = \"text-align: right;\">0.105915</td><td style = \"text-align: right;\">0.253844</td><td style = \"text-align: right;\">0.0810803</td><td style = \"text-align: right;\">3.67</td><td style = \"text-align: right;\">0</td></tr><tr><td class = \"rowNumber\" style = \"font-weight: bold; text-align: right;\">7</td><td style = \"text-align: right;\">4.0</td><td style = \"text-align: right;\">1.22966</td><td style = \"text-align: right;\">0.141004</td><td style = \"text-align: right;\">0.0453708</td><td style = \"text-align: right;\">1.20261</td><td style = \"text-align: right;\">0.191881</td><td style = \"text-align: right;\">0.272708</td><td style = \"text-align: right;\">-0.005159</td><td style = \"text-align: right;\">0.0812129</td><td style = \"text-align: right;\">0.46496</td><td style = \"text-align: right;\">-0.0992543</td><td style = \"text-align: right;\">-1.41691</td><td style = \"text-align: right;\">-0.153826</td><td style = \"text-align: right;\">-0.751063</td><td style = \"text-align: right;\">0.167372</td><td style = \"text-align: right;\">0.0501436</td><td style = \"text-align: right;\">-0.443587</td><td style = \"text-align: right;\">0.00282051</td><td style = \"text-align: right;\">-0.611987</td><td style = \"text-align: right;\">-0.045575</td><td style = \"text-align: right;\">-0.219633</td><td style = \"text-align: right;\">-0.167716</td><td style = \"text-align: right;\">-0.27071</td><td style = \"text-align: right;\">-0.154104</td><td style = \"text-align: right;\">-0.780055</td><td style = \"text-align: right;\">0.750137</td><td style = \"text-align: right;\">-0.257237</td><td style = \"text-align: right;\">0.0345074</td><td style = \"text-align: right;\">0.00516777</td><td style = \"text-align: right;\">4.99</td><td style = \"text-align: right;\">0</td></tr><tr><td class = \"rowNumber\" style = \"font-weight: bold; text-align: right;\">8</td><td style = \"text-align: right;\">7.0</td><td style = \"text-align: right;\">-0.644269</td><td style = \"text-align: right;\">1.41796</td><td style = \"text-align: right;\">1.07438</td><td style = \"text-align: right;\">-0.492199</td><td style = \"text-align: right;\">0.948934</td><td style = \"text-align: right;\">0.428118</td><td style = \"text-align: right;\">1.12063</td><td style = \"text-align: right;\">-3.80786</td><td style = \"text-align: right;\">0.615375</td><td style = \"text-align: right;\">1.24938</td><td style = \"text-align: right;\">-0.619468</td><td style = \"text-align: right;\">0.291474</td><td style = \"text-align: right;\">1.75796</td><td style = \"text-align: right;\">-1.32387</td><td style = \"text-align: right;\">0.686133</td><td style = \"text-align: right;\">-0.076127</td><td style = \"text-align: right;\">-1.22213</td><td style = \"text-align: right;\">-0.358222</td><td style = \"text-align: right;\">0.324505</td><td style = \"text-align: right;\">-0.156742</td><td style = \"text-align: right;\">1.94347</td><td style = \"text-align: right;\">-1.01545</td><td style = \"text-align: right;\">0.0575035</td><td style = \"text-align: right;\">-0.649709</td><td style = \"text-align: right;\">-0.415267</td><td style = \"text-align: right;\">-0.0516343</td><td style = \"text-align: right;\">-1.20692</td><td style = \"text-align: right;\">-1.08534</td><td style = \"text-align: right;\">40.8</td><td style = \"text-align: right;\">0</td></tr><tr><td class = \"rowNumber\" style = \"font-weight: bold; text-align: right;\">9</td><td style = \"text-align: right;\">7.0</td><td style = \"text-align: right;\">-0.894286</td><td style = \"text-align: right;\">0.286157</td><td style = \"text-align: right;\">-0.113192</td><td style = \"text-align: right;\">-0.271526</td><td style = \"text-align: right;\">2.6696</td><td style = \"text-align: right;\">3.72182</td><td style = \"text-align: right;\">0.370145</td><td style = \"text-align: right;\">0.851084</td><td style = \"text-align: right;\">-0.392048</td><td style = \"text-align: right;\">-0.41043</td><td style = \"text-align: right;\">-0.705117</td><td style = \"text-align: right;\">-0.110452</td><td style = \"text-align: right;\">-0.286254</td><td style = \"text-align: right;\">0.0743554</td><td style = \"text-align: right;\">-0.328783</td><td style = \"text-align: right;\">-0.210077</td><td style = \"text-align: right;\">-0.499768</td><td style = \"text-align: right;\">0.118765</td><td style = \"text-align: right;\">0.570328</td><td style = \"text-align: right;\">0.0527357</td><td style = \"text-align: right;\">-0.0734251</td><td style = \"text-align: right;\">-0.268092</td><td style = \"text-align: right;\">-0.204233</td><td style = \"text-align: right;\">1.01159</td><td style = \"text-align: right;\">0.373205</td><td style = \"text-align: right;\">-0.384157</td><td style = \"text-align: right;\">0.0117474</td><td style = \"text-align: right;\">0.142404</td><td style = \"text-align: right;\">93.2</td><td style = \"text-align: right;\">0</td></tr><tr><td class = \"rowNumber\" style = \"font-weight: bold; text-align: right;\">10</td><td style = \"text-align: right;\">9.0</td><td style = \"text-align: right;\">-0.338262</td><td style = \"text-align: right;\">1.11959</td><td style = \"text-align: right;\">1.04437</td><td style = \"text-align: right;\">-0.222187</td><td style = \"text-align: right;\">0.499361</td><td style = \"text-align: right;\">-0.246761</td><td style = \"text-align: right;\">0.651583</td><td style = \"text-align: right;\">0.0695386</td><td style = \"text-align: right;\">-0.736727</td><td style = \"text-align: right;\">-0.366846</td><td style = \"text-align: right;\">1.01761</td><td style = \"text-align: right;\">0.83639</td><td style = \"text-align: right;\">1.00684</td><td style = \"text-align: right;\">-0.443523</td><td style = \"text-align: right;\">0.150219</td><td style = \"text-align: right;\">0.739453</td><td style = \"text-align: right;\">-0.54098</td><td style = \"text-align: right;\">0.476677</td><td style = \"text-align: right;\">0.451773</td><td style = \"text-align: right;\">0.203711</td><td style = \"text-align: right;\">-0.246914</td><td style = \"text-align: right;\">-0.633753</td><td style = \"text-align: right;\">-0.120794</td><td style = \"text-align: right;\">-0.38505</td><td style = \"text-align: right;\">-0.069733</td><td style = \"text-align: right;\">0.0941988</td><td style = \"text-align: right;\">0.246219</td><td style = \"text-align: right;\">0.0830756</td><td style = \"text-align: right;\">3.68</td><td style = \"text-align: right;\">0</td></tr><tr><td class = \"rowNumber\" style = \"font-weight: bold; text-align: right;\">11</td><td style = \"text-align: right;\">10.0</td><td style = \"text-align: right;\">1.44904</td><td style = \"text-align: right;\">-1.17634</td><td style = \"text-align: right;\">0.91386</td><td style = \"text-align: right;\">-1.37567</td><td style = \"text-align: right;\">-1.97138</td><td style = \"text-align: right;\">-0.629152</td><td style = \"text-align: right;\">-1.42324</td><td style = \"text-align: right;\">0.0484559</td><td style = \"text-align: right;\">-1.72041</td><td style = \"text-align: right;\">1.62666</td><td style = \"text-align: right;\">1.19964</td><td style = \"text-align: right;\">-0.67144</td><td style = \"text-align: right;\">-0.513947</td><td style = \"text-align: right;\">-0.095045</td><td style = \"text-align: right;\">0.23093</td><td style = \"text-align: right;\">0.0319675</td><td style = \"text-align: right;\">0.253415</td><td style = \"text-align: right;\">0.854344</td><td style = \"text-align: right;\">-0.221365</td><td style = \"text-align: right;\">-0.387226</td><td style = \"text-align: right;\">-0.0093019</td><td style = \"text-align: right;\">0.313894</td><td style = \"text-align: right;\">0.0277402</td><td style = \"text-align: right;\">0.500512</td><td style = \"text-align: right;\">0.251367</td><td style = \"text-align: right;\">-0.129478</td><td style = \"text-align: right;\">0.0428499</td><td style = \"text-align: right;\">0.0162533</td><td style = \"text-align: right;\">7.8</td><td style = \"text-align: right;\">0</td></tr><tr><td class = \"rowNumber\" style = \"font-weight: bold; text-align: right;\">12</td><td style = \"text-align: right;\">10.0</td><td style = \"text-align: right;\">0.384978</td><td style = \"text-align: right;\">0.616109</td><td style = \"text-align: right;\">-0.8743</td><td style = \"text-align: right;\">-0.0940186</td><td style = \"text-align: right;\">2.92458</td><td style = \"text-align: right;\">3.31703</td><td style = \"text-align: right;\">0.470455</td><td style = \"text-align: right;\">0.538247</td><td style = \"text-align: right;\">-0.558895</td><td style = \"text-align: right;\">0.309755</td><td style = \"text-align: right;\">-0.259116</td><td style = \"text-align: right;\">-0.326143</td><td style = \"text-align: right;\">-0.0900467</td><td style = \"text-align: right;\">0.362832</td><td style = \"text-align: right;\">0.928904</td><td style = \"text-align: right;\">-0.129487</td><td style = \"text-align: right;\">-0.809979</td><td style = \"text-align: right;\">0.359985</td><td style = \"text-align: right;\">0.707664</td><td style = \"text-align: right;\">0.125992</td><td style = \"text-align: right;\">0.0499237</td><td style = \"text-align: right;\">0.238422</td><td style = \"text-align: right;\">0.00912987</td><td style = \"text-align: right;\">0.99671</td><td style = \"text-align: right;\">-0.767315</td><td style = \"text-align: right;\">-0.492208</td><td style = \"text-align: right;\">0.0424724</td><td style = \"text-align: right;\">-0.0543374</td><td style = \"text-align: right;\">9.99</td><td style = \"text-align: right;\">0</td></tr><tr><td class = \"rowNumber\" style = \"font-weight: bold; text-align: right;\">13</td><td style = \"text-align: right;\">10.0</td><td style = \"text-align: right;\">1.25</td><td style = \"text-align: right;\">-1.22164</td><td style = \"text-align: right;\">0.38393</td><td style = \"text-align: right;\">-1.2349</td><td style = \"text-align: right;\">-1.48542</td><td style = \"text-align: right;\">-0.75323</td><td style = \"text-align: right;\">-0.689405</td><td style = \"text-align: right;\">-0.227487</td><td style = \"text-align: right;\">-2.09401</td><td style = \"text-align: right;\">1.32373</td><td style = \"text-align: right;\">0.227666</td><td style = \"text-align: right;\">-0.242682</td><td style = \"text-align: right;\">1.20542</td><td style = \"text-align: right;\">-0.317631</td><td style = \"text-align: right;\">0.725675</td><td style = \"text-align: right;\">-0.815612</td><td style = \"text-align: right;\">0.873936</td><td style = \"text-align: right;\">-0.847789</td><td style = \"text-align: right;\">-0.683193</td><td style = \"text-align: right;\">-0.102756</td><td style = \"text-align: right;\">-0.231809</td><td style = \"text-align: right;\">-0.483285</td><td style = \"text-align: right;\">0.0846677</td><td style = \"text-align: right;\">0.392831</td><td style = \"text-align: right;\">0.161135</td><td style = \"text-align: right;\">-0.35499</td><td style = \"text-align: right;\">0.0264155</td><td style = \"text-align: right;\">0.0424221</td><td style = \"text-align: right;\">121.5</td><td style = \"text-align: right;\">0</td></tr><tr><td style = \"text-align: right;\">&vellip;</td><td style = \"text-align: right;\">&vellip;</td><td style = \"text-align: right;\">&vellip;</td><td style = \"text-align: right;\">&vellip;</td><td style = \"text-align: right;\">&vellip;</td><td style = \"text-align: right;\">&vellip;</td><td style = \"text-align: right;\">&vellip;</td><td style = \"text-align: right;\">&vellip;</td><td style = \"text-align: right;\">&vellip;</td><td style = \"text-align: right;\">&vellip;</td><td style = \"text-align: right;\">&vellip;</td><td style = \"text-align: right;\">&vellip;</td><td style = \"text-align: right;\">&vellip;</td><td style = \"text-align: right;\">&vellip;</td><td style = \"text-align: right;\">&vellip;</td><td style = \"text-align: right;\">&vellip;</td><td style = \"text-align: right;\">&vellip;</td><td style = \"text-align: right;\">&vellip;</td><td style = \"text-align: right;\">&vellip;</td><td style = \"text-align: right;\">&vellip;</td><td style = \"text-align: right;\">&vellip;</td><td style = \"text-align: right;\">&vellip;</td><td style = \"text-align: right;\">&vellip;</td><td style = \"text-align: right;\">&vellip;</td><td style = \"text-align: right;\">&vellip;</td><td style = \"text-align: right;\">&vellip;</td><td style = \"text-align: right;\">&vellip;</td><td style = \"text-align: right;\">&vellip;</td><td style = \"text-align: right;\">&vellip;</td><td style = \"text-align: right;\">&vellip;</td><td style = \"text-align: right;\">&vellip;</td><td style = \"text-align: right;\">&vellip;</td></tr><tr><td class = \"rowNumber\" style = \"font-weight: bold; text-align: right;\">284796</td><td style = \"text-align: right;\">172778.0</td><td style = \"text-align: right;\">-12.5167</td><td style = \"text-align: right;\">10.1878</td><td style = \"text-align: right;\">-8.47667</td><td style = \"text-align: right;\">-2.51047</td><td style = \"text-align: right;\">-4.58667</td><td style = \"text-align: right;\">-1.39446</td><td style = \"text-align: right;\">-3.63252</td><td style = \"text-align: right;\">5.49858</td><td style = \"text-align: right;\">4.89309</td><td style = \"text-align: right;\">8.65532</td><td style = \"text-align: right;\">-1.05236</td><td style = \"text-align: right;\">2.83486</td><td style = \"text-align: right;\">1.08814</td><td style = \"text-align: right;\">1.2884</td><td style = \"text-align: right;\">-0.931503</td><td style = \"text-align: right;\">1.06786</td><td style = \"text-align: right;\">0.586179</td><td style = \"text-align: right;\">-0.0855241</td><td style = \"text-align: right;\">-0.571605</td><td style = \"text-align: right;\">3.49007</td><td style = \"text-align: right;\">-0.944759</td><td style = \"text-align: right;\">-1.56503</td><td style = \"text-align: right;\">0.890675</td><td style = \"text-align: right;\">-1.25328</td><td style = \"text-align: right;\">1.78672</td><td style = \"text-align: right;\">0.320763</td><td style = \"text-align: right;\">2.09071</td><td style = \"text-align: right;\">1.23286</td><td style = \"text-align: right;\">9.87</td><td style = \"text-align: right;\">0</td></tr><tr><td class = \"rowNumber\" style = \"font-weight: bold; text-align: right;\">284797</td><td style = \"text-align: right;\">172780.0</td><td style = \"text-align: right;\">1.88485</td><td style = \"text-align: right;\">-0.14354</td><td style = \"text-align: right;\">-0.999943</td><td style = \"text-align: right;\">1.50677</td><td style = \"text-align: right;\">-0.0352995</td><td style = \"text-align: right;\">-0.613638</td><td style = \"text-align: right;\">0.190241</td><td style = \"text-align: right;\">-0.249058</td><td style = \"text-align: right;\">0.666458</td><td style = \"text-align: right;\">0.120908</td><td style = \"text-align: right;\">-1.13418</td><td style = \"text-align: right;\">0.677729</td><td style = \"text-align: right;\">0.345928</td><td style = \"text-align: right;\">0.00201925</td><td style = \"text-align: right;\">-0.679626</td><td style = \"text-align: right;\">-0.549982</td><td style = \"text-align: right;\">-0.19995</td><td style = \"text-align: right;\">-0.420551</td><td style = \"text-align: right;\">-0.283278</td><td style = \"text-align: right;\">-0.153997</td><td style = \"text-align: right;\">0.144008</td><td style = \"text-align: right;\">0.634646</td><td style = \"text-align: right;\">-0.0421142</td><td style = \"text-align: right;\">-0.0532056</td><td style = \"text-align: right;\">0.316403</td><td style = \"text-align: right;\">-0.461441</td><td style = \"text-align: right;\">0.0182648</td><td style = \"text-align: right;\">-0.0410684</td><td style = \"text-align: right;\">60.0</td><td style = \"text-align: right;\">0</td></tr><tr><td class = \"rowNumber\" style = \"font-weight: bold; text-align: right;\">284798</td><td style = \"text-align: right;\">172782.0</td><td style = \"text-align: right;\">-0.241923</td><td style = \"text-align: right;\">0.712247</td><td style = \"text-align: right;\">0.399806</td><td style = \"text-align: right;\">-0.463406</td><td style = \"text-align: right;\">0.244531</td><td style = \"text-align: right;\">-1.34367</td><td style = \"text-align: right;\">0.929369</td><td style = \"text-align: right;\">-0.20621</td><td style = \"text-align: right;\">0.106234</td><td style = \"text-align: right;\">-0.284708</td><td style = \"text-align: right;\">-0.612982</td><td style = \"text-align: right;\">-0.0666547</td><td style = \"text-align: right;\">-0.732987</td><td style = \"text-align: right;\">0.237948</td><td style = \"text-align: right;\">-0.293959</td><td style = \"text-align: right;\">-0.245496</td><td style = \"text-align: right;\">-0.174846</td><td style = \"text-align: right;\">-0.891169</td><td style = \"text-align: right;\">-0.290491</td><td style = \"text-align: right;\">-0.139512</td><td style = \"text-align: right;\">-0.228876</td><td style = \"text-align: right;\">-0.514376</td><td style = \"text-align: right;\">0.279598</td><td style = \"text-align: right;\">0.371441</td><td style = \"text-align: right;\">-0.559238</td><td style = \"text-align: right;\">0.113144</td><td style = \"text-align: right;\">0.131507</td><td style = \"text-align: right;\">0.0812651</td><td style = \"text-align: right;\">5.49</td><td style = \"text-align: right;\">0</td></tr><tr><td class = \"rowNumber\" style = \"font-weight: bold; text-align: right;\">284799</td><td style = \"text-align: right;\">172782.0</td><td style = \"text-align: right;\">0.219529</td><td style = \"text-align: right;\">0.881246</td><td style = \"text-align: right;\">-0.635891</td><td style = \"text-align: right;\">0.960928</td><td style = \"text-align: right;\">-0.152971</td><td style = \"text-align: right;\">-1.01431</td><td style = \"text-align: right;\">0.427126</td><td style = \"text-align: right;\">0.12134</td><td style = \"text-align: right;\">-0.28567</td><td style = \"text-align: right;\">-0.11164</td><td style = \"text-align: right;\">-1.10923</td><td style = \"text-align: right;\">-0.453235</td><td style = \"text-align: right;\">-1.04695</td><td style = \"text-align: right;\">1.12267</td><td style = \"text-align: right;\">1.24352</td><td style = \"text-align: right;\">-1.4319</td><td style = \"text-align: right;\">0.939328</td><td style = \"text-align: right;\">-0.00237255</td><td style = \"text-align: right;\">2.89495</td><td style = \"text-align: right;\">0.00666603</td><td style = \"text-align: right;\">0.0999359</td><td style = \"text-align: right;\">0.33712</td><td style = \"text-align: right;\">0.251791</td><td style = \"text-align: right;\">0.0576878</td><td style = \"text-align: right;\">-1.50837</td><td style = \"text-align: right;\">0.144023</td><td style = \"text-align: right;\">0.181205</td><td style = \"text-align: right;\">0.215243</td><td style = \"text-align: right;\">24.05</td><td style = \"text-align: right;\">0</td></tr><tr><td class = \"rowNumber\" style = \"font-weight: bold; text-align: right;\">284800</td><td style = \"text-align: right;\">172783.0</td><td style = \"text-align: right;\">-1.77513</td><td style = \"text-align: right;\">-0.0042354</td><td style = \"text-align: right;\">1.18979</td><td style = \"text-align: right;\">0.331096</td><td style = \"text-align: right;\">1.19606</td><td style = \"text-align: right;\">5.51998</td><td style = \"text-align: right;\">-1.51818</td><td style = \"text-align: right;\">2.08083</td><td style = \"text-align: right;\">1.1595</td><td style = \"text-align: right;\">-0.594242</td><td style = \"text-align: right;\">-1.26407</td><td style = \"text-align: right;\">0.453596</td><td style = \"text-align: right;\">-0.243142</td><td style = \"text-align: right;\">-0.858719</td><td style = \"text-align: right;\">-0.766554</td><td style = \"text-align: right;\">-0.644646</td><td style = \"text-align: right;\">0.447184</td><td style = \"text-align: right;\">0.388721</td><td style = \"text-align: right;\">0.792135</td><td style = \"text-align: right;\">0.348176</td><td style = \"text-align: right;\">0.103302</td><td style = \"text-align: right;\">0.65485</td><td style = \"text-align: right;\">-0.348929</td><td style = \"text-align: right;\">0.745323</td><td style = \"text-align: right;\">0.704545</td><td style = \"text-align: right;\">-0.127579</td><td style = \"text-align: right;\">0.454379</td><td style = \"text-align: right;\">0.130308</td><td style = \"text-align: right;\">79.99</td><td style = \"text-align: right;\">0</td></tr><tr><td class = \"rowNumber\" style = \"font-weight: bold; text-align: right;\">284801</td><td style = \"text-align: right;\">172784.0</td><td style = \"text-align: right;\">2.03956</td><td style = \"text-align: right;\">-0.175233</td><td style = \"text-align: right;\">-1.19683</td><td style = \"text-align: right;\">0.23458</td><td style = \"text-align: right;\">-0.0087133</td><td style = \"text-align: right;\">-0.726571</td><td style = \"text-align: right;\">0.0170496</td><td style = \"text-align: right;\">-0.118228</td><td style = \"text-align: right;\">0.435402</td><td style = \"text-align: right;\">0.267772</td><td style = \"text-align: right;\">0.523316</td><td style = \"text-align: right;\">0.559047</td><td style = \"text-align: right;\">-0.83466</td><td style = \"text-align: right;\">0.626211</td><td style = \"text-align: right;\">-0.541494</td><td style = \"text-align: right;\">0.225361</td><td style = \"text-align: right;\">-0.605252</td><td style = \"text-align: right;\">-0.163049</td><td style = \"text-align: right;\">0.561695</td><td style = \"text-align: right;\">-0.256922</td><td style = \"text-align: right;\">-0.268048</td><td style = \"text-align: right;\">-0.717211</td><td style = \"text-align: right;\">0.29793</td><td style = \"text-align: right;\">-0.359769</td><td style = \"text-align: right;\">-0.31561</td><td style = \"text-align: right;\">0.201114</td><td style = \"text-align: right;\">-0.0808258</td><td style = \"text-align: right;\">-0.0750705</td><td style = \"text-align: right;\">2.68</td><td style = \"text-align: right;\">0</td></tr><tr><td class = \"rowNumber\" style = \"font-weight: bold; text-align: right;\">284802</td><td style = \"text-align: right;\">172785.0</td><td style = \"text-align: right;\">0.120316</td><td style = \"text-align: right;\">0.931005</td><td style = \"text-align: right;\">-0.546012</td><td style = \"text-align: right;\">-0.745097</td><td style = \"text-align: right;\">1.13031</td><td style = \"text-align: right;\">-0.235973</td><td style = \"text-align: right;\">0.812722</td><td style = \"text-align: right;\">0.115093</td><td style = \"text-align: right;\">-0.204064</td><td style = \"text-align: right;\">-0.657422</td><td style = \"text-align: right;\">0.644837</td><td style = \"text-align: right;\">0.190916</td><td style = \"text-align: right;\">-0.546329</td><td style = \"text-align: right;\">-0.731707</td><td style = \"text-align: right;\">-0.808036</td><td style = \"text-align: right;\">0.599628</td><td style = \"text-align: right;\">0.0704408</td><td style = \"text-align: right;\">0.37311</td><td style = \"text-align: right;\">0.128904</td><td style = \"text-align: right;\">0.000675833</td><td style = \"text-align: right;\">-0.314205</td><td style = \"text-align: right;\">-0.80852</td><td style = \"text-align: right;\">0.0503427</td><td style = \"text-align: right;\">0.1028</td><td style = \"text-align: right;\">-0.43587</td><td style = \"text-align: right;\">0.124079</td><td style = \"text-align: right;\">0.21794</td><td style = \"text-align: right;\">0.0688033</td><td style = \"text-align: right;\">2.69</td><td style = \"text-align: right;\">0</td></tr><tr><td class = \"rowNumber\" style = \"font-weight: bold; text-align: right;\">284803</td><td style = \"text-align: right;\">172786.0</td><td style = \"text-align: right;\">-11.8811</td><td style = \"text-align: right;\">10.0718</td><td style = \"text-align: right;\">-9.83478</td><td style = \"text-align: right;\">-2.06666</td><td style = \"text-align: right;\">-5.36447</td><td style = \"text-align: right;\">-2.60684</td><td style = \"text-align: right;\">-4.91822</td><td style = \"text-align: right;\">7.30533</td><td style = \"text-align: right;\">1.91443</td><td style = \"text-align: right;\">4.35617</td><td style = \"text-align: right;\">-1.59311</td><td style = \"text-align: right;\">2.71194</td><td style = \"text-align: right;\">-0.689256</td><td style = \"text-align: right;\">4.62694</td><td style = \"text-align: right;\">-0.924459</td><td style = \"text-align: right;\">1.10764</td><td style = \"text-align: right;\">1.99169</td><td style = \"text-align: right;\">0.510632</td><td style = \"text-align: right;\">-0.68292</td><td style = \"text-align: right;\">1.47583</td><td style = \"text-align: right;\">0.213454</td><td style = \"text-align: right;\">0.111864</td><td style = \"text-align: right;\">1.01448</td><td style = \"text-align: right;\">-0.509348</td><td style = \"text-align: right;\">1.43681</td><td style = \"text-align: right;\">0.250034</td><td style = \"text-align: right;\">0.943651</td><td style = \"text-align: right;\">0.823731</td><td style = \"text-align: right;\">0.77</td><td style = \"text-align: right;\">0</td></tr><tr><td class = \"rowNumber\" style = \"font-weight: bold; text-align: right;\">284804</td><td style = \"text-align: right;\">172787.0</td><td style = \"text-align: right;\">-0.732789</td><td style = \"text-align: right;\">-0.0550805</td><td style = \"text-align: right;\">2.03503</td><td style = \"text-align: right;\">-0.738589</td><td style = \"text-align: right;\">0.868229</td><td style = \"text-align: right;\">1.05842</td><td style = \"text-align: right;\">0.0243297</td><td style = \"text-align: right;\">0.294869</td><td style = \"text-align: right;\">0.5848</td><td style = \"text-align: right;\">-0.975926</td><td style = \"text-align: right;\">-0.150189</td><td style = \"text-align: right;\">0.915802</td><td style = \"text-align: right;\">1.21476</td><td style = \"text-align: right;\">-0.675143</td><td style = \"text-align: right;\">1.16493</td><td style = \"text-align: right;\">-0.711757</td><td style = \"text-align: right;\">-0.0256929</td><td style = \"text-align: right;\">-1.22118</td><td style = \"text-align: right;\">-1.54556</td><td style = \"text-align: right;\">0.0596159</td><td style = \"text-align: right;\">0.214205</td><td style = \"text-align: right;\">0.924384</td><td style = \"text-align: right;\">0.012463</td><td style = \"text-align: right;\">-1.01623</td><td style = \"text-align: right;\">-0.606624</td><td style = \"text-align: right;\">-0.395255</td><td style = \"text-align: right;\">0.0684725</td><td style = \"text-align: right;\">-0.0535274</td><td style = \"text-align: right;\">24.79</td><td style = \"text-align: right;\">0</td></tr><tr><td class = \"rowNumber\" style = \"font-weight: bold; text-align: right;\">284805</td><td style = \"text-align: right;\">172788.0</td><td style = \"text-align: right;\">1.91957</td><td style = \"text-align: right;\">-0.301254</td><td style = \"text-align: right;\">-3.24964</td><td style = \"text-align: right;\">-0.557828</td><td style = \"text-align: right;\">2.63052</td><td style = \"text-align: right;\">3.03126</td><td style = \"text-align: right;\">-0.296827</td><td style = \"text-align: right;\">0.708417</td><td style = \"text-align: right;\">0.432454</td><td style = \"text-align: right;\">-0.484782</td><td style = \"text-align: right;\">0.411614</td><td style = \"text-align: right;\">0.0631189</td><td style = \"text-align: right;\">-0.183699</td><td style = \"text-align: right;\">-0.510602</td><td style = \"text-align: right;\">1.32928</td><td style = \"text-align: right;\">0.140716</td><td style = \"text-align: right;\">0.313502</td><td style = \"text-align: right;\">0.395652</td><td style = \"text-align: right;\">-0.577252</td><td style = \"text-align: right;\">0.00139597</td><td style = \"text-align: right;\">0.232045</td><td style = \"text-align: right;\">0.578229</td><td style = \"text-align: right;\">-0.0375009</td><td style = \"text-align: right;\">0.640134</td><td style = \"text-align: right;\">0.265745</td><td style = \"text-align: right;\">-0.0873706</td><td style = \"text-align: right;\">0.00445477</td><td style = \"text-align: right;\">-0.0265608</td><td style = \"text-align: right;\">67.88</td><td style = \"text-align: right;\">0</td></tr><tr><td class = \"rowNumber\" style = \"font-weight: bold; text-align: right;\">284806</td><td style = \"text-align: right;\">172788.0</td><td style = \"text-align: right;\">-0.24044</td><td style = \"text-align: right;\">0.530483</td><td style = \"text-align: right;\">0.70251</td><td style = \"text-align: right;\">0.689799</td><td style = \"text-align: right;\">-0.377961</td><td style = \"text-align: right;\">0.623708</td><td style = \"text-align: right;\">-0.68618</td><td style = \"text-align: right;\">0.679145</td><td style = \"text-align: right;\">0.392087</td><td style = \"text-align: right;\">-0.399126</td><td style = \"text-align: right;\">-1.93385</td><td style = \"text-align: right;\">-0.962886</td><td style = \"text-align: right;\">-1.04208</td><td style = \"text-align: right;\">0.449624</td><td style = \"text-align: right;\">1.96256</td><td style = \"text-align: right;\">-0.608577</td><td style = \"text-align: right;\">0.509928</td><td style = \"text-align: right;\">1.11398</td><td style = \"text-align: right;\">2.89785</td><td style = \"text-align: right;\">0.127434</td><td style = \"text-align: right;\">0.265245</td><td style = \"text-align: right;\">0.800049</td><td style = \"text-align: right;\">-0.163298</td><td style = \"text-align: right;\">0.123205</td><td style = \"text-align: right;\">-0.569159</td><td style = \"text-align: right;\">0.546668</td><td style = \"text-align: right;\">0.108821</td><td style = \"text-align: right;\">0.104533</td><td style = \"text-align: right;\">10.0</td><td style = \"text-align: right;\">0</td></tr><tr><td class = \"rowNumber\" style = \"font-weight: bold; text-align: right;\">284807</td><td style = \"text-align: right;\">172792.0</td><td style = \"text-align: right;\">-0.533413</td><td style = \"text-align: right;\">-0.189733</td><td style = \"text-align: right;\">0.703337</td><td style = \"text-align: right;\">-0.506271</td><td style = \"text-align: right;\">-0.0125457</td><td style = \"text-align: right;\">-0.649617</td><td style = \"text-align: right;\">1.57701</td><td style = \"text-align: right;\">-0.41465</td><td style = \"text-align: right;\">0.48618</td><td style = \"text-align: right;\">-0.915427</td><td style = \"text-align: right;\">-1.04046</td><td style = \"text-align: right;\">-0.0315131</td><td style = \"text-align: right;\">-0.188093</td><td style = \"text-align: right;\">-0.0843165</td><td style = \"text-align: right;\">0.0413335</td><td style = \"text-align: right;\">-0.30262</td><td style = \"text-align: right;\">-0.660377</td><td style = \"text-align: right;\">0.16743</td><td style = \"text-align: right;\">-0.256117</td><td style = \"text-align: right;\">0.382948</td><td style = \"text-align: right;\">0.261057</td><td style = \"text-align: right;\">0.643078</td><td style = \"text-align: right;\">0.376777</td><td style = \"text-align: right;\">0.00879738</td><td style = \"text-align: right;\">-0.473649</td><td style = \"text-align: right;\">-0.818267</td><td style = \"text-align: right;\">-0.00241531</td><td style = \"text-align: right;\">0.0136489</td><td style = \"text-align: right;\">217.0</td><td style = \"text-align: right;\">0</td></tr></tbody></table></div>"
      ],
      "text/latex": [
       "\\begin{tabular}{r|cccccccc}\n",
       "\t& Time & V1 & V2 & V3 & V4 & V5 & V6 & \\\\\n",
       "\t\\hline\n",
       "\t& Float64 & Float64 & Float64 & Float64 & Float64 & Float64 & Float64 & \\\\\n",
       "\t\\hline\n",
       "\t1 & 0.0 & -1.35981 & -0.0727812 & 2.53635 & 1.37816 & -0.338321 & 0.462388 & $\\dots$ \\\\\n",
       "\t2 & 0.0 & 1.19186 & 0.266151 & 0.16648 & 0.448154 & 0.0600176 & -0.0823608 & $\\dots$ \\\\\n",
       "\t3 & 1.0 & -1.35835 & -1.34016 & 1.77321 & 0.37978 & -0.503198 & 1.8005 & $\\dots$ \\\\\n",
       "\t4 & 1.0 & -0.966272 & -0.185226 & 1.79299 & -0.863291 & -0.0103089 & 1.2472 & $\\dots$ \\\\\n",
       "\t5 & 2.0 & -1.15823 & 0.877737 & 1.54872 & 0.403034 & -0.407193 & 0.0959215 & $\\dots$ \\\\\n",
       "\t6 & 2.0 & -0.425966 & 0.960523 & 1.14111 & -0.168252 & 0.420987 & -0.0297276 & $\\dots$ \\\\\n",
       "\t7 & 4.0 & 1.22966 & 0.141004 & 0.0453708 & 1.20261 & 0.191881 & 0.272708 & $\\dots$ \\\\\n",
       "\t8 & 7.0 & -0.644269 & 1.41796 & 1.07438 & -0.492199 & 0.948934 & 0.428118 & $\\dots$ \\\\\n",
       "\t9 & 7.0 & -0.894286 & 0.286157 & -0.113192 & -0.271526 & 2.6696 & 3.72182 & $\\dots$ \\\\\n",
       "\t10 & 9.0 & -0.338262 & 1.11959 & 1.04437 & -0.222187 & 0.499361 & -0.246761 & $\\dots$ \\\\\n",
       "\t11 & 10.0 & 1.44904 & -1.17634 & 0.91386 & -1.37567 & -1.97138 & -0.629152 & $\\dots$ \\\\\n",
       "\t12 & 10.0 & 0.384978 & 0.616109 & -0.8743 & -0.0940186 & 2.92458 & 3.31703 & $\\dots$ \\\\\n",
       "\t13 & 10.0 & 1.25 & -1.22164 & 0.38393 & -1.2349 & -1.48542 & -0.75323 & $\\dots$ \\\\\n",
       "\t14 & 11.0 & 1.06937 & 0.287722 & 0.828613 & 2.71252 & -0.178398 & 0.337544 & $\\dots$ \\\\\n",
       "\t15 & 12.0 & -2.79185 & -0.327771 & 1.64175 & 1.76747 & -0.136588 & 0.807596 & $\\dots$ \\\\\n",
       "\t16 & 12.0 & -0.752417 & 0.345485 & 2.05732 & -1.46864 & -1.15839 & -0.0778498 & $\\dots$ \\\\\n",
       "\t17 & 12.0 & 1.10322 & -0.0402962 & 1.26733 & 1.28909 & -0.735997 & 0.288069 & $\\dots$ \\\\\n",
       "\t18 & 13.0 & -0.436905 & 0.918966 & 0.924591 & -0.727219 & 0.915679 & -0.127867 & $\\dots$ \\\\\n",
       "\t19 & 14.0 & -5.40126 & -5.45015 & 1.1863 & 1.73624 & 3.04911 & -1.76341 & $\\dots$ \\\\\n",
       "\t20 & 15.0 & 1.49294 & -1.02935 & 0.454795 & -1.43803 & -1.55543 & -0.720961 & $\\dots$ \\\\\n",
       "\t21 & 16.0 & 0.694885 & -1.36182 & 1.02922 & 0.834159 & -1.19121 & 1.30911 & $\\dots$ \\\\\n",
       "\t22 & 17.0 & 0.962496 & 0.328461 & -0.171479 & 2.1092 & 1.12957 & 1.69604 & $\\dots$ \\\\\n",
       "\t23 & 18.0 & 1.16662 & 0.50212 & -0.0673003 & 2.26157 & 0.428804 & 0.0894735 & $\\dots$ \\\\\n",
       "\t24 & 18.0 & 0.247491 & 0.277666 & 1.18547 & -0.0926025 & -1.31439 & -0.150116 & $\\dots$ \\\\\n",
       "\t$\\dots$ & $\\dots$ & $\\dots$ & $\\dots$ & $\\dots$ & $\\dots$ & $\\dots$ & $\\dots$ &  \\\\\n",
       "\\end{tabular}\n"
      ],
      "text/plain": [
       "\u001b[1m284807×31 DataFrame\u001b[0m\n",
       "\u001b[1m    Row \u001b[0m│\u001b[1m Time     \u001b[0m\u001b[1m V1         \u001b[0m\u001b[1m V2         \u001b[0m\u001b[1m V3         \u001b[0m\u001b[1m V4        \u001b[0m\u001b[1m V5         \u001b[0m\u001b[1m\u001b[0m ⋯\n",
       "        │\u001b[90m Float64  \u001b[0m\u001b[90m Float64    \u001b[0m\u001b[90m Float64    \u001b[0m\u001b[90m Float64    \u001b[0m\u001b[90m Float64   \u001b[0m\u001b[90m Float64    \u001b[0m\u001b[90m\u001b[0m ⋯\n",
       "────────┼───────────────────────────────────────────────────────────────────────\n",
       "      1 │      0.0   -1.35981   -0.0727812   2.53635     1.37816   -0.338321   ⋯\n",
       "      2 │      0.0    1.19186    0.266151    0.16648     0.448154   0.0600176\n",
       "      3 │      1.0   -1.35835   -1.34016     1.77321     0.37978   -0.503198\n",
       "      4 │      1.0   -0.966272  -0.185226    1.79299    -0.863291  -0.0103089\n",
       "      5 │      2.0   -1.15823    0.877737    1.54872     0.403034  -0.407193   ⋯\n",
       "      6 │      2.0   -0.425966   0.960523    1.14111    -0.168252   0.420987\n",
       "      7 │      4.0    1.22966    0.141004    0.0453708   1.20261    0.191881\n",
       "      8 │      7.0   -0.644269   1.41796     1.07438    -0.492199   0.948934\n",
       "   ⋮    │    ⋮          ⋮           ⋮           ⋮           ⋮          ⋮       ⋱\n",
       " 284801 │ 172784.0    2.03956   -0.175233   -1.19683     0.23458   -0.0087133  ⋯\n",
       " 284802 │ 172785.0    0.120316   0.931005   -0.546012   -0.745097   1.13031\n",
       " 284803 │ 172786.0  -11.8811    10.0718     -9.83478    -2.06666   -5.36447\n",
       " 284804 │ 172787.0   -0.732789  -0.0550805   2.03503    -0.738589   0.868229\n",
       " 284805 │ 172788.0    1.91957   -0.301254   -3.24964    -0.557828   2.63052    ⋯\n",
       " 284806 │ 172788.0   -0.24044    0.530483    0.70251     0.689799  -0.377961\n",
       " 284807 │ 172792.0   -0.533413  -0.189733    0.703337   -0.506271  -0.0125457\n",
       "\u001b[36m                                              25 columns and 284792 rows omitted\u001b[0m"
      ]
     },
     "metadata": {},
     "output_type": "display_data"
    }
   ],
   "source": [
    "df = DataFrame(CSV.File(\"data/creditcard.csv\"))\n",
    "df"
   ]
  },
  {
   "cell_type": "code",
   "execution_count": 25,
   "metadata": {},
   "outputs": [
    {
     "data": {
      "text/html": [
       "<div><div style = \"float: left;\"><span>31×7 DataFrame</span></div><div style = \"float: right;\"><span style = \"font-style: italic;\">6 rows omitted</span></div><div style = \"clear: both;\"></div></div><div class = \"data-frame\" style = \"overflow-x: scroll;\"><table class = \"data-frame\" style = \"margin-bottom: 6px;\"><thead><tr class = \"header\"><th class = \"rowNumber\" style = \"font-weight: bold; text-align: right;\">Row</th><th style = \"text-align: left;\">variable</th><th style = \"text-align: left;\">mean</th><th style = \"text-align: left;\">min</th><th style = \"text-align: left;\">median</th><th style = \"text-align: left;\">max</th><th style = \"text-align: left;\">nmissing</th><th style = \"text-align: left;\">eltype</th></tr><tr class = \"subheader headerLastRow\"><th class = \"rowNumber\" style = \"font-weight: bold; text-align: right;\"></th><th title = \"Symbol\" style = \"text-align: left;\">Symbol</th><th title = \"Float64\" style = \"text-align: left;\">Float64</th><th title = \"Real\" style = \"text-align: left;\">Real</th><th title = \"Float64\" style = \"text-align: left;\">Float64</th><th title = \"Real\" style = \"text-align: left;\">Real</th><th title = \"Int64\" style = \"text-align: left;\">Int64</th><th title = \"DataType\" style = \"text-align: left;\">DataType</th></tr></thead><tbody><tr><td class = \"rowNumber\" style = \"font-weight: bold; text-align: right;\">1</td><td style = \"text-align: left;\">Time</td><td style = \"text-align: right;\">94813.9</td><td style = \"text-align: right;\">0.0</td><td style = \"text-align: right;\">84692.0</td><td style = \"text-align: right;\">172792.0</td><td style = \"text-align: right;\">0</td><td style = \"text-align: left;\">Float64</td></tr><tr><td class = \"rowNumber\" style = \"font-weight: bold; text-align: right;\">2</td><td style = \"text-align: left;\">V1</td><td style = \"text-align: right;\">1.17516e-15</td><td style = \"text-align: right;\">-56.4075</td><td style = \"text-align: right;\">0.0181088</td><td style = \"text-align: right;\">2.45493</td><td style = \"text-align: right;\">0</td><td style = \"text-align: left;\">Float64</td></tr><tr><td class = \"rowNumber\" style = \"font-weight: bold; text-align: right;\">3</td><td style = \"text-align: left;\">V2</td><td style = \"text-align: right;\">3.35304e-16</td><td style = \"text-align: right;\">-72.7157</td><td style = \"text-align: right;\">0.0654856</td><td style = \"text-align: right;\">22.0577</td><td style = \"text-align: right;\">0</td><td style = \"text-align: left;\">Float64</td></tr><tr><td class = \"rowNumber\" style = \"font-weight: bold; text-align: right;\">4</td><td style = \"text-align: left;\">V3</td><td style = \"text-align: right;\">-1.43063e-15</td><td style = \"text-align: right;\">-48.3256</td><td style = \"text-align: right;\">0.179846</td><td style = \"text-align: right;\">9.38256</td><td style = \"text-align: right;\">0</td><td style = \"text-align: left;\">Float64</td></tr><tr><td class = \"rowNumber\" style = \"font-weight: bold; text-align: right;\">5</td><td style = \"text-align: left;\">V4</td><td style = \"text-align: right;\">2.08208e-15</td><td style = \"text-align: right;\">-5.68317</td><td style = \"text-align: right;\">-0.0198465</td><td style = \"text-align: right;\">16.8753</td><td style = \"text-align: right;\">0</td><td style = \"text-align: left;\">Float64</td></tr><tr><td class = \"rowNumber\" style = \"font-weight: bold; text-align: right;\">6</td><td style = \"text-align: left;\">V5</td><td style = \"text-align: right;\">1.02188e-15</td><td style = \"text-align: right;\">-113.743</td><td style = \"text-align: right;\">-0.0543358</td><td style = \"text-align: right;\">34.8017</td><td style = \"text-align: right;\">0</td><td style = \"text-align: left;\">Float64</td></tr><tr><td class = \"rowNumber\" style = \"font-weight: bold; text-align: right;\">7</td><td style = \"text-align: left;\">V6</td><td style = \"text-align: right;\">1.48811e-15</td><td style = \"text-align: right;\">-26.1605</td><td style = \"text-align: right;\">-0.274187</td><td style = \"text-align: right;\">73.3016</td><td style = \"text-align: right;\">0</td><td style = \"text-align: left;\">Float64</td></tr><tr><td class = \"rowNumber\" style = \"font-weight: bold; text-align: right;\">8</td><td style = \"text-align: left;\">V7</td><td style = \"text-align: right;\">-5.62033e-16</td><td style = \"text-align: right;\">-43.5572</td><td style = \"text-align: right;\">0.0401031</td><td style = \"text-align: right;\">120.589</td><td style = \"text-align: right;\">0</td><td style = \"text-align: left;\">Float64</td></tr><tr><td class = \"rowNumber\" style = \"font-weight: bold; text-align: right;\">9</td><td style = \"text-align: left;\">V8</td><td style = \"text-align: right;\">1.14961e-16</td><td style = \"text-align: right;\">-73.2167</td><td style = \"text-align: right;\">0.022358</td><td style = \"text-align: right;\">20.0072</td><td style = \"text-align: right;\">0</td><td style = \"text-align: left;\">Float64</td></tr><tr><td class = \"rowNumber\" style = \"font-weight: bold; text-align: right;\">10</td><td style = \"text-align: left;\">V9</td><td style = \"text-align: right;\">-2.42058e-15</td><td style = \"text-align: right;\">-13.4341</td><td style = \"text-align: right;\">-0.0514287</td><td style = \"text-align: right;\">15.595</td><td style = \"text-align: right;\">0</td><td style = \"text-align: left;\">Float64</td></tr><tr><td class = \"rowNumber\" style = \"font-weight: bold; text-align: right;\">11</td><td style = \"text-align: left;\">V10</td><td style = \"text-align: right;\">2.23855e-15</td><td style = \"text-align: right;\">-24.5883</td><td style = \"text-align: right;\">-0.0929174</td><td style = \"text-align: right;\">23.7451</td><td style = \"text-align: right;\">0</td><td style = \"text-align: left;\">Float64</td></tr><tr><td class = \"rowNumber\" style = \"font-weight: bold; text-align: right;\">12</td><td style = \"text-align: left;\">V11</td><td style = \"text-align: right;\">1.69887e-15</td><td style = \"text-align: right;\">-4.79747</td><td style = \"text-align: right;\">-0.0327574</td><td style = \"text-align: right;\">12.0189</td><td style = \"text-align: right;\">0</td><td style = \"text-align: left;\">Float64</td></tr><tr><td class = \"rowNumber\" style = \"font-weight: bold; text-align: right;\">13</td><td style = \"text-align: left;\">V12</td><td style = \"text-align: right;\">-1.24542e-15</td><td style = \"text-align: right;\">-18.6837</td><td style = \"text-align: right;\">0.140033</td><td style = \"text-align: right;\">7.84839</td><td style = \"text-align: right;\">0</td><td style = \"text-align: left;\">Float64</td></tr><tr><td style = \"text-align: right;\">&vellip;</td><td style = \"text-align: right;\">&vellip;</td><td style = \"text-align: right;\">&vellip;</td><td style = \"text-align: right;\">&vellip;</td><td style = \"text-align: right;\">&vellip;</td><td style = \"text-align: right;\">&vellip;</td><td style = \"text-align: right;\">&vellip;</td><td style = \"text-align: right;\">&vellip;</td></tr><tr><td class = \"rowNumber\" style = \"font-weight: bold; text-align: right;\">20</td><td style = \"text-align: left;\">V19</td><td style = \"text-align: right;\">1.03625e-15</td><td style = \"text-align: right;\">-7.21353</td><td style = \"text-align: right;\">0.00373482</td><td style = \"text-align: right;\">5.59197</td><td style = \"text-align: right;\">0</td><td style = \"text-align: left;\">Float64</td></tr><tr><td class = \"rowNumber\" style = \"font-weight: bold; text-align: right;\">21</td><td style = \"text-align: left;\">V20</td><td style = \"text-align: right;\">6.41868e-16</td><td style = \"text-align: right;\">-54.4977</td><td style = \"text-align: right;\">-0.0624811</td><td style = \"text-align: right;\">39.4209</td><td style = \"text-align: right;\">0</td><td style = \"text-align: left;\">Float64</td></tr><tr><td class = \"rowNumber\" style = \"font-weight: bold; text-align: right;\">22</td><td style = \"text-align: left;\">V21</td><td style = \"text-align: right;\">1.62862e-16</td><td style = \"text-align: right;\">-34.8304</td><td style = \"text-align: right;\">-0.0294502</td><td style = \"text-align: right;\">27.2028</td><td style = \"text-align: right;\">0</td><td style = \"text-align: left;\">Float64</td></tr><tr><td class = \"rowNumber\" style = \"font-weight: bold; text-align: right;\">23</td><td style = \"text-align: left;\">V22</td><td style = \"text-align: right;\">-3.57658e-16</td><td style = \"text-align: right;\">-10.9331</td><td style = \"text-align: right;\">0.00678194</td><td style = \"text-align: right;\">10.5031</td><td style = \"text-align: right;\">0</td><td style = \"text-align: left;\">Float64</td></tr><tr><td class = \"rowNumber\" style = \"font-weight: bold; text-align: right;\">24</td><td style = \"text-align: left;\">V23</td><td style = \"text-align: right;\">2.61857e-16</td><td style = \"text-align: right;\">-44.8077</td><td style = \"text-align: right;\">-0.0111929</td><td style = \"text-align: right;\">22.5284</td><td style = \"text-align: right;\">0</td><td style = \"text-align: left;\">Float64</td></tr><tr><td class = \"rowNumber\" style = \"font-weight: bold; text-align: right;\">25</td><td style = \"text-align: left;\">V24</td><td style = \"text-align: right;\">4.47312e-15</td><td style = \"text-align: right;\">-2.83663</td><td style = \"text-align: right;\">0.0409761</td><td style = \"text-align: right;\">4.58455</td><td style = \"text-align: right;\">0</td><td style = \"text-align: left;\">Float64</td></tr><tr><td class = \"rowNumber\" style = \"font-weight: bold; text-align: right;\">26</td><td style = \"text-align: left;\">V25</td><td style = \"text-align: right;\">5.1094e-16</td><td style = \"text-align: right;\">-10.2954</td><td style = \"text-align: right;\">0.0165935</td><td style = \"text-align: right;\">7.51959</td><td style = \"text-align: right;\">0</td><td style = \"text-align: left;\">Float64</td></tr><tr><td class = \"rowNumber\" style = \"font-weight: bold; text-align: right;\">27</td><td style = \"text-align: left;\">V26</td><td style = \"text-align: right;\">1.6877e-15</td><td style = \"text-align: right;\">-2.60455</td><td style = \"text-align: right;\">-0.0521391</td><td style = \"text-align: right;\">3.51735</td><td style = \"text-align: right;\">0</td><td style = \"text-align: left;\">Float64</td></tr><tr><td class = \"rowNumber\" style = \"font-weight: bold; text-align: right;\">28</td><td style = \"text-align: left;\">V27</td><td style = \"text-align: right;\">-3.64943e-16</td><td style = \"text-align: right;\">-22.5657</td><td style = \"text-align: right;\">0.00134215</td><td style = \"text-align: right;\">31.6122</td><td style = \"text-align: right;\">0</td><td style = \"text-align: left;\">Float64</td></tr><tr><td class = \"rowNumber\" style = \"font-weight: bold; text-align: right;\">29</td><td style = \"text-align: left;\">V28</td><td style = \"text-align: right;\">-1.22146e-16</td><td style = \"text-align: right;\">-15.4301</td><td style = \"text-align: right;\">0.0112438</td><td style = \"text-align: right;\">33.8478</td><td style = \"text-align: right;\">0</td><td style = \"text-align: left;\">Float64</td></tr><tr><td class = \"rowNumber\" style = \"font-weight: bold; text-align: right;\">30</td><td style = \"text-align: left;\">Amount</td><td style = \"text-align: right;\">88.3496</td><td style = \"text-align: right;\">0.0</td><td style = \"text-align: right;\">22.0</td><td style = \"text-align: right;\">25691.2</td><td style = \"text-align: right;\">0</td><td style = \"text-align: left;\">Float64</td></tr><tr><td class = \"rowNumber\" style = \"font-weight: bold; text-align: right;\">31</td><td style = \"text-align: left;\">Class</td><td style = \"text-align: right;\">0.00172749</td><td style = \"text-align: right;\">0</td><td style = \"text-align: right;\">0.0</td><td style = \"text-align: right;\">1</td><td style = \"text-align: right;\">0</td><td style = \"text-align: left;\">Int64</td></tr></tbody></table></div>"
      ],
      "text/latex": [
       "\\begin{tabular}{r|ccccccc}\n",
       "\t& variable & mean & min & median & max & nmissing & eltype\\\\\n",
       "\t\\hline\n",
       "\t& Symbol & Float64 & Real & Float64 & Real & Int64 & DataType\\\\\n",
       "\t\\hline\n",
       "\t1 & Time & 94813.9 & 0.0 & 84692.0 & 172792.0 & 0 & Float64 \\\\\n",
       "\t2 & V1 & 1.17516e-15 & -56.4075 & 0.0181088 & 2.45493 & 0 & Float64 \\\\\n",
       "\t3 & V2 & 3.35304e-16 & -72.7157 & 0.0654856 & 22.0577 & 0 & Float64 \\\\\n",
       "\t4 & V3 & -1.43063e-15 & -48.3256 & 0.179846 & 9.38256 & 0 & Float64 \\\\\n",
       "\t5 & V4 & 2.08208e-15 & -5.68317 & -0.0198465 & 16.8753 & 0 & Float64 \\\\\n",
       "\t6 & V5 & 1.02188e-15 & -113.743 & -0.0543358 & 34.8017 & 0 & Float64 \\\\\n",
       "\t7 & V6 & 1.48811e-15 & -26.1605 & -0.274187 & 73.3016 & 0 & Float64 \\\\\n",
       "\t8 & V7 & -5.62033e-16 & -43.5572 & 0.0401031 & 120.589 & 0 & Float64 \\\\\n",
       "\t9 & V8 & 1.14961e-16 & -73.2167 & 0.022358 & 20.0072 & 0 & Float64 \\\\\n",
       "\t10 & V9 & -2.42058e-15 & -13.4341 & -0.0514287 & 15.595 & 0 & Float64 \\\\\n",
       "\t11 & V10 & 2.23855e-15 & -24.5883 & -0.0929174 & 23.7451 & 0 & Float64 \\\\\n",
       "\t12 & V11 & 1.69887e-15 & -4.79747 & -0.0327574 & 12.0189 & 0 & Float64 \\\\\n",
       "\t13 & V12 & -1.24542e-15 & -18.6837 & 0.140033 & 7.84839 & 0 & Float64 \\\\\n",
       "\t14 & V13 & 8.30277e-16 & -5.79188 & -0.0135681 & 7.12688 & 0 & Float64 \\\\\n",
       "\t15 & V14 & 1.2039e-15 & -19.2143 & 0.0506013 & 10.5268 & 0 & Float64 \\\\\n",
       "\t16 & V15 & 4.87947e-15 & -4.49894 & 0.0480715 & 8.87774 & 0 & Float64 \\\\\n",
       "\t17 & V16 & 1.43782e-15 & -14.1299 & 0.0664133 & 17.3151 & 0 & Float64 \\\\\n",
       "\t18 & V17 & -3.70431e-16 & -25.1628 & -0.0656758 & 9.25353 & 0 & Float64 \\\\\n",
       "\t19 & V18 & 9.70785e-16 & -9.49875 & -0.00363631 & 5.04107 & 0 & Float64 \\\\\n",
       "\t20 & V19 & 1.03625e-15 & -7.21353 & 0.00373482 & 5.59197 & 0 & Float64 \\\\\n",
       "\t21 & V20 & 6.41868e-16 & -54.4977 & -0.0624811 & 39.4209 & 0 & Float64 \\\\\n",
       "\t22 & V21 & 1.62862e-16 & -34.8304 & -0.0294502 & 27.2028 & 0 & Float64 \\\\\n",
       "\t23 & V22 & -3.57658e-16 & -10.9331 & 0.00678194 & 10.5031 & 0 & Float64 \\\\\n",
       "\t24 & V23 & 2.61857e-16 & -44.8077 & -0.0111929 & 22.5284 & 0 & Float64 \\\\\n",
       "\t$\\dots$ & $\\dots$ & $\\dots$ & $\\dots$ & $\\dots$ & $\\dots$ & $\\dots$ & $\\dots$ \\\\\n",
       "\\end{tabular}\n"
      ],
      "text/plain": [
       "\u001b[1m31×7 DataFrame\u001b[0m\n",
       "\u001b[1m Row \u001b[0m│\u001b[1m variable \u001b[0m\u001b[1m mean            \u001b[0m\u001b[1m min        \u001b[0m\u001b[1m median         \u001b[0m\u001b[1m max          \u001b[0m\u001b[1m nm\u001b[0m ⋯\n",
       "     │\u001b[90m Symbol   \u001b[0m\u001b[90m Float64         \u001b[0m\u001b[90m Real       \u001b[0m\u001b[90m Float64        \u001b[0m\u001b[90m Real         \u001b[0m\u001b[90m In\u001b[0m ⋯\n",
       "─────┼──────────────────────────────────────────────────────────────────────────\n",
       "   1 │ Time      94813.9             0.0      84692.0         172792.0         ⋯\n",
       "   2 │ V1            1.17516e-15   -56.4075       0.0181088        2.45493\n",
       "   3 │ V2            3.35304e-16   -72.7157       0.0654856       22.0577\n",
       "   4 │ V3           -1.43063e-15   -48.3256       0.179846         9.38256\n",
       "   5 │ V4            2.08208e-15    -5.68317     -0.0198465       16.8753      ⋯\n",
       "   6 │ V5            1.02188e-15  -113.743       -0.0543358       34.8017\n",
       "   7 │ V6            1.48811e-15   -26.1605      -0.274187        73.3016\n",
       "   8 │ V7           -5.62033e-16   -43.5572       0.0401031      120.589\n",
       "  ⋮  │    ⋮             ⋮             ⋮             ⋮              ⋮           ⋱\n",
       "  25 │ V24           4.47312e-15    -2.83663      0.0409761        4.58455     ⋯\n",
       "  26 │ V25           5.1094e-16    -10.2954       0.0165935        7.51959\n",
       "  27 │ V26           1.6877e-15     -2.60455     -0.0521391        3.51735\n",
       "  28 │ V27          -3.64943e-16   -22.5657       0.00134215      31.6122\n",
       "  29 │ V28          -1.22146e-16   -15.4301       0.0112438       33.8478      ⋯\n",
       "  30 │ Amount       88.3496          0.0         22.0          25691.2\n",
       "  31 │ Class         0.00172749      0            0.0              1\n",
       "\u001b[36m                                                   2 columns and 16 rows omitted\u001b[0m"
      ]
     },
     "metadata": {},
     "output_type": "display_data"
    }
   ],
   "source": [
    "describe(df)"
   ]
  },
  {
   "cell_type": "code",
   "execution_count": 131,
   "metadata": {},
   "outputs": [
    {
     "data": {
      "text/plain": [
       "┌───────┬────────────┬─────────┐\n",
       "│\u001b[22m names \u001b[0m│\u001b[22m scitypes   \u001b[0m│\u001b[22m types   \u001b[0m│\n",
       "├───────┼────────────┼─────────┤\n",
       "│ Time  │ Continuous │ Float64 │\n",
       "│ V1    │ Continuous │ Float64 │\n",
       "│ V2    │ Continuous │ Float64 │\n",
       "│ V3    │ Continuous │ Float64 │\n",
       "│ V4    │ Continuous │ Float64 │\n",
       "│ V5    │ Continuous │ Float64 │\n",
       "│ V6    │ Continuous │ Float64 │\n",
       "│ V7    │ Continuous │ Float64 │\n",
       "│ V8    │ Continuous │ Float64 │\n",
       "│ V9    │ Continuous │ Float64 │\n",
       "│ V10   │ Continuous │ Float64 │\n",
       "│ V11   │ Continuous │ Float64 │\n",
       "│ V12   │ Continuous │ Float64 │\n",
       "│ V13   │ Continuous │ Float64 │\n",
       "│ V14   │ Continuous │ Float64 │\n",
       "│ V15   │ Continuous │ Float64 │\n",
       "│   ⋮   │     ⋮      │    ⋮    │\n",
       "└───────┴────────────┴─────────┘\n",
       "\u001b[36m                 15 rows omitted\u001b[0m\n"
      ]
     },
     "metadata": {},
     "output_type": "display_data"
    }
   ],
   "source": [
    "schema(df)"
   ]
  },
  {
   "cell_type": "code",
   "execution_count": 33,
   "metadata": {},
   "outputs": [
    {
     "data": {
      "text/plain": [
       "31×31 Matrix{Float64}:\n",
       "  1.0          0.117396     -0.0105933    …  -0.0105964   -0.0123226\n",
       "  0.117396     1.0          -6.47926e-17     -0.227709    -0.101347\n",
       " -0.0105933   -6.47926e-17   1.0             -0.531409     0.0912887\n",
       " -0.419618    -5.93575e-16   8.58512e-17     -0.21088     -0.192961\n",
       " -0.10526     -3.33285e-16  -1.9634e-16       0.0987317    0.133447\n",
       "  0.173072     3.30075e-16   9.96744e-17  …  -0.386356    -0.0949743\n",
       " -0.0630165    1.76688e-16   3.80123e-16      0.215981    -0.0436432\n",
       "  0.0847144    1.52176e-16  -1.45428e-16      0.397311    -0.187257\n",
       " -0.0369494   -8.23728e-17  -2.03913e-17     -0.103079     0.0198751\n",
       " -0.00866043   4.61893e-17  -1.05284e-16     -0.0442456   -0.0977327\n",
       "  ⋮                                       ⋱                ⋮\n",
       "  0.144059     7.51646e-17   1.81295e-16     -0.0648006    0.000805318\n",
       "  0.0511424    1.76833e-16   1.50535e-16     -0.112633    -0.00268516\n",
       " -0.0161819   -7.62469e-17  -1.1576e-16       0.00514622  -0.00722091\n",
       " -0.233083    -1.98409e-16   1.9936e-16   …  -0.0478369    0.00330771\n",
       " -0.0414071   -1.35936e-16   2.49297e-16     -0.00320804   0.0044554\n",
       " -0.00513459   1.02653e-16  -5.1628e-16       0.0288255    0.0175797\n",
       " -0.00941269   3.65408e-16  -3.76008e-16      0.0102582    0.00953604\n",
       " -0.0105964   -0.227709     -0.531409         1.0          0.00563175\n",
       " -0.0123226   -0.101347      0.0912887    …   0.00563175   1.0"
      ]
     },
     "metadata": {},
     "output_type": "display_data"
    }
   ],
   "source": [
    "cor_matrix = cor(Matrix(df))"
   ]
  },
  {
   "cell_type": "code",
   "execution_count": 62,
   "metadata": {},
   "outputs": [
    {
     "data": {
      "text/plain": [
       "0.8"
      ]
     },
     "metadata": {},
     "output_type": "display_data"
    }
   ],
   "source": [
    "threshold = 0.8"
   ]
  },
  {
   "cell_type": "markdown",
   "metadata": {},
   "source": [
    "Attempting to find columns with high correlation in order to reduce dimensionality"
   ]
  },
  {
   "cell_type": "code",
   "execution_count": 63,
   "metadata": {},
   "outputs": [
    {
     "data": {
      "text/plain": [
       "correlation_cols (generic function with 1 method)"
      ]
     },
     "metadata": {},
     "output_type": "display_data"
    }
   ],
   "source": [
    "function correlation_cols(threshold, corr_matrix)\n",
    "    high_correlations = []\n",
    "\n",
    "    for i in 1:size(cor_matrix, 1)\n",
    "        for j in (i+1):size(cor_matrix, 2)\n",
    "            if abs(cor_matrix[i, j]) > threshold\n",
    "                push!(high_correlations, (i, j))  # Store the pair of highly correlated columns\n",
    "            end\n",
    "        end\n",
    "    end\n",
    "    return high_correlations\n",
    "end"
   ]
  },
  {
   "cell_type": "code",
   "execution_count": 64,
   "metadata": {},
   "outputs": [
    {
     "data": {
      "text/plain": [
       "Any[]"
      ]
     },
     "metadata": {},
     "output_type": "display_data"
    }
   ],
   "source": [
    "correlation_cols(threshold, corr_matrix)"
   ]
  },
  {
   "cell_type": "markdown",
   "metadata": {},
   "source": [
    "We don't get any very highly correlated features, so instead, let's lower the threshold to 0.5 to ensure there are not too many moderately correlated features"
   ]
  },
  {
   "cell_type": "code",
   "execution_count": 65,
   "metadata": {},
   "outputs": [
    {
     "data": {
      "text/plain": [
       "0.5"
      ]
     },
     "metadata": {},
     "output_type": "display_data"
    }
   ],
   "source": [
    "threshold = 0.5"
   ]
  },
  {
   "cell_type": "code",
   "execution_count": 66,
   "metadata": {},
   "outputs": [
    {
     "data": {
      "text/plain": [
       "1-element Vector{Any}:\n",
       " (3, 30)"
      ]
     },
     "metadata": {},
     "output_type": "display_data"
    }
   ],
   "source": [
    "correlation_cols(threshold, corr_matrix)"
   ]
  },
  {
   "cell_type": "code",
   "execution_count": 69,
   "metadata": {},
   "outputs": [
    {
     "data": {
      "text/plain": [
       "-0.5314089393280326"
      ]
     },
     "metadata": {},
     "output_type": "display_data"
    }
   ],
   "source": [
    "corr_matrix[3, 30]"
   ]
  },
  {
   "cell_type": "markdown",
   "metadata": {},
   "source": [
    "We have a single pair of columns that have a magnitude of correlation more than 0.5"
   ]
  },
  {
   "cell_type": "code",
   "execution_count": 71,
   "metadata": {},
   "outputs": [
    {
     "data": {
      "text/plain": [
       "1081-element Vector{Int64}:\n",
       "     34\n",
       "     36\n",
       "    114\n",
       "    115\n",
       "    116\n",
       "    222\n",
       "    224\n",
       "   1179\n",
       "   1181\n",
       "   1383\n",
       "      ⋮\n",
       " 282212\n",
       " 282213\n",
       " 282214\n",
       " 282986\n",
       " 282988\n",
       " 283484\n",
       " 283486\n",
       " 284192\n",
       " 284194"
      ]
     },
     "metadata": {},
     "output_type": "display_data"
    }
   ],
   "source": [
    "# Check for duplicates\n",
    "findall(nonunique(df))"
   ]
  },
  {
   "cell_type": "code",
   "execution_count": 77,
   "metadata": {},
   "outputs": [
    {
     "data": {
      "text/html": [
       "<div><div style = \"float: left;\"><span>2×31 DataFrame</span></div><div style = \"clear: both;\"></div></div><div class = \"data-frame\" style = \"overflow-x: scroll;\"><table class = \"data-frame\" style = \"margin-bottom: 6px;\"><thead><tr class = \"header\"><th class = \"rowNumber\" style = \"font-weight: bold; text-align: right;\">Row</th><th style = \"text-align: left;\">Time</th><th style = \"text-align: left;\">V1</th><th style = \"text-align: left;\">V2</th><th style = \"text-align: left;\">V3</th><th style = \"text-align: left;\">V4</th><th style = \"text-align: left;\">V5</th><th style = \"text-align: left;\">V6</th><th style = \"text-align: left;\">V7</th><th style = \"text-align: left;\">V8</th><th style = \"text-align: left;\">V9</th><th style = \"text-align: left;\">V10</th><th style = \"text-align: left;\">V11</th><th style = \"text-align: left;\">V12</th><th style = \"text-align: left;\">V13</th><th style = \"text-align: left;\">V14</th><th style = \"text-align: left;\">V15</th><th style = \"text-align: left;\">V16</th><th style = \"text-align: left;\">V17</th><th style = \"text-align: left;\">V18</th><th style = \"text-align: left;\">V19</th><th style = \"text-align: left;\">V20</th><th style = \"text-align: left;\">V21</th><th style = \"text-align: left;\">V22</th><th style = \"text-align: left;\">V23</th><th style = \"text-align: left;\">V24</th><th style = \"text-align: left;\">V25</th><th style = \"text-align: left;\">V26</th><th style = \"text-align: left;\">V27</th><th style = \"text-align: left;\">V28</th><th style = \"text-align: left;\">Amount</th><th style = \"text-align: left;\">Class</th></tr><tr class = \"subheader headerLastRow\"><th class = \"rowNumber\" style = \"font-weight: bold; text-align: right;\"></th><th title = \"Float64\" style = \"text-align: left;\">Float64</th><th title = \"Float64\" style = \"text-align: left;\">Float64</th><th title = \"Float64\" style = \"text-align: left;\">Float64</th><th title = \"Float64\" style = \"text-align: left;\">Float64</th><th title = \"Float64\" style = \"text-align: left;\">Float64</th><th title = \"Float64\" style = \"text-align: left;\">Float64</th><th title = \"Float64\" style = \"text-align: left;\">Float64</th><th title = \"Float64\" style = \"text-align: left;\">Float64</th><th title = \"Float64\" style = \"text-align: left;\">Float64</th><th title = \"Float64\" style = \"text-align: left;\">Float64</th><th title = \"Float64\" style = \"text-align: left;\">Float64</th><th title = \"Float64\" style = \"text-align: left;\">Float64</th><th title = \"Float64\" style = \"text-align: left;\">Float64</th><th title = \"Float64\" style = \"text-align: left;\">Float64</th><th title = \"Float64\" style = \"text-align: left;\">Float64</th><th title = \"Float64\" style = \"text-align: left;\">Float64</th><th title = \"Float64\" style = \"text-align: left;\">Float64</th><th title = \"Float64\" style = \"text-align: left;\">Float64</th><th title = \"Float64\" style = \"text-align: left;\">Float64</th><th title = \"Float64\" style = \"text-align: left;\">Float64</th><th title = \"Float64\" style = \"text-align: left;\">Float64</th><th title = \"Float64\" style = \"text-align: left;\">Float64</th><th title = \"Float64\" style = \"text-align: left;\">Float64</th><th title = \"Float64\" style = \"text-align: left;\">Float64</th><th title = \"Float64\" style = \"text-align: left;\">Float64</th><th title = \"Float64\" style = \"text-align: left;\">Float64</th><th title = \"Float64\" style = \"text-align: left;\">Float64</th><th title = \"Float64\" style = \"text-align: left;\">Float64</th><th title = \"Float64\" style = \"text-align: left;\">Float64</th><th title = \"Float64\" style = \"text-align: left;\">Float64</th><th title = \"Int64\" style = \"text-align: left;\">Int64</th></tr></thead><tbody><tr><td class = \"rowNumber\" style = \"font-weight: bold; text-align: right;\">1</td><td style = \"text-align: right;\">26.0</td><td style = \"text-align: right;\">-0.529912</td><td style = \"text-align: right;\">0.873892</td><td style = \"text-align: right;\">1.34725</td><td style = \"text-align: right;\">0.145457</td><td style = \"text-align: right;\">0.414209</td><td style = \"text-align: right;\">0.100223</td><td style = \"text-align: right;\">0.711206</td><td style = \"text-align: right;\">0.176066</td><td style = \"text-align: right;\">-0.286717</td><td style = \"text-align: right;\">-0.484688</td><td style = \"text-align: right;\">0.87249</td><td style = \"text-align: right;\">0.851636</td><td style = \"text-align: right;\">-0.571745</td><td style = \"text-align: right;\">0.100974</td><td style = \"text-align: right;\">-1.51977</td><td style = \"text-align: right;\">-0.284376</td><td style = \"text-align: right;\">-0.310524</td><td style = \"text-align: right;\">-0.404248</td><td style = \"text-align: right;\">-0.823374</td><td style = \"text-align: right;\">-0.290348</td><td style = \"text-align: right;\">0.0469491</td><td style = \"text-align: right;\">0.208105</td><td style = \"text-align: right;\">-0.185548</td><td style = \"text-align: right;\">0.00103066</td><td style = \"text-align: right;\">0.0988157</td><td style = \"text-align: right;\">-0.552904</td><td style = \"text-align: right;\">-0.0732881</td><td style = \"text-align: right;\">0.023307</td><td style = \"text-align: right;\">6.14</td><td style = \"text-align: right;\">0</td></tr><tr><td class = \"rowNumber\" style = \"font-weight: bold; text-align: right;\">2</td><td style = \"text-align: right;\">26.0</td><td style = \"text-align: right;\">-0.529912</td><td style = \"text-align: right;\">0.873892</td><td style = \"text-align: right;\">1.34725</td><td style = \"text-align: right;\">0.145457</td><td style = \"text-align: right;\">0.414209</td><td style = \"text-align: right;\">0.100223</td><td style = \"text-align: right;\">0.711206</td><td style = \"text-align: right;\">0.176066</td><td style = \"text-align: right;\">-0.286717</td><td style = \"text-align: right;\">-0.484688</td><td style = \"text-align: right;\">0.87249</td><td style = \"text-align: right;\">0.851636</td><td style = \"text-align: right;\">-0.571745</td><td style = \"text-align: right;\">0.100974</td><td style = \"text-align: right;\">-1.51977</td><td style = \"text-align: right;\">-0.284376</td><td style = \"text-align: right;\">-0.310524</td><td style = \"text-align: right;\">-0.404248</td><td style = \"text-align: right;\">-0.823374</td><td style = \"text-align: right;\">-0.290348</td><td style = \"text-align: right;\">0.0469491</td><td style = \"text-align: right;\">0.208105</td><td style = \"text-align: right;\">-0.185548</td><td style = \"text-align: right;\">0.00103066</td><td style = \"text-align: right;\">0.0988157</td><td style = \"text-align: right;\">-0.552904</td><td style = \"text-align: right;\">-0.0732881</td><td style = \"text-align: right;\">0.023307</td><td style = \"text-align: right;\">6.14</td><td style = \"text-align: right;\">0</td></tr></tbody></table></div>"
      ],
      "text/latex": [
       "\\begin{tabular}{r|cccccccccc}\n",
       "\t& Time & V1 & V2 & V3 & V4 & V5 & V6 & V7 & V8 & \\\\\n",
       "\t\\hline\n",
       "\t& Float64 & Float64 & Float64 & Float64 & Float64 & Float64 & Float64 & Float64 & Float64 & \\\\\n",
       "\t\\hline\n",
       "\t1 & 26.0 & -0.529912 & 0.873892 & 1.34725 & 0.145457 & 0.414209 & 0.100223 & 0.711206 & 0.176066 & $\\dots$ \\\\\n",
       "\t2 & 26.0 & -0.529912 & 0.873892 & 1.34725 & 0.145457 & 0.414209 & 0.100223 & 0.711206 & 0.176066 & $\\dots$ \\\\\n",
       "\\end{tabular}\n"
      ],
      "text/plain": [
       "\u001b[1m2×31 DataFrame\u001b[0m\n",
       "\u001b[1m Row \u001b[0m│\u001b[1m Time    \u001b[0m\u001b[1m V1        \u001b[0m\u001b[1m V2       \u001b[0m\u001b[1m V3      \u001b[0m\u001b[1m V4       \u001b[0m\u001b[1m V5       \u001b[0m\u001b[1m V6       \u001b[0m\u001b[1m V7\u001b[0m ⋯\n",
       "     │\u001b[90m Float64 \u001b[0m\u001b[90m Float64   \u001b[0m\u001b[90m Float64  \u001b[0m\u001b[90m Float64 \u001b[0m\u001b[90m Float64  \u001b[0m\u001b[90m Float64  \u001b[0m\u001b[90m Float64  \u001b[0m\u001b[90m Fl\u001b[0m ⋯\n",
       "─────┼──────────────────────────────────────────────────────────────────────────\n",
       "   1 │    26.0  -0.529912  0.873892  1.34725  0.145457  0.414209  0.100223  0. ⋯\n",
       "   2 │    26.0  -0.529912  0.873892  1.34725  0.145457  0.414209  0.100223  0.\n",
       "\u001b[36m                                                              24 columns omitted\u001b[0m"
      ]
     },
     "metadata": {},
     "output_type": "display_data"
    }
   ],
   "source": [
    "df[[34, 33], :]"
   ]
  },
  {
   "cell_type": "code",
   "execution_count": 78,
   "metadata": {},
   "outputs": [
    {
     "data": {
      "text/html": [
       "<div><div style = \"float: left;\"><span>283726×31 DataFrame</span></div><div style = \"float: right;\"><span style = \"font-style: italic;\">283701 rows omitted</span></div><div style = \"clear: both;\"></div></div><div class = \"data-frame\" style = \"overflow-x: scroll;\"><table class = \"data-frame\" style = \"margin-bottom: 6px;\"><thead><tr class = \"header\"><th class = \"rowNumber\" style = \"font-weight: bold; text-align: right;\">Row</th><th style = \"text-align: left;\">Time</th><th style = \"text-align: left;\">V1</th><th style = \"text-align: left;\">V2</th><th style = \"text-align: left;\">V3</th><th style = \"text-align: left;\">V4</th><th style = \"text-align: left;\">V5</th><th style = \"text-align: left;\">V6</th><th style = \"text-align: left;\">V7</th><th style = \"text-align: left;\">V8</th><th style = \"text-align: left;\">V9</th><th style = \"text-align: left;\">V10</th><th style = \"text-align: left;\">V11</th><th style = \"text-align: left;\">V12</th><th style = \"text-align: left;\">V13</th><th style = \"text-align: left;\">V14</th><th style = \"text-align: left;\">V15</th><th style = \"text-align: left;\">V16</th><th style = \"text-align: left;\">V17</th><th style = \"text-align: left;\">V18</th><th style = \"text-align: left;\">V19</th><th style = \"text-align: left;\">V20</th><th style = \"text-align: left;\">V21</th><th style = \"text-align: left;\">V22</th><th style = \"text-align: left;\">V23</th><th style = \"text-align: left;\">V24</th><th style = \"text-align: left;\">V25</th><th style = \"text-align: left;\">V26</th><th style = \"text-align: left;\">V27</th><th style = \"text-align: left;\">V28</th><th style = \"text-align: left;\">Amount</th><th style = \"text-align: left;\">Class</th></tr><tr class = \"subheader headerLastRow\"><th class = \"rowNumber\" style = \"font-weight: bold; text-align: right;\"></th><th title = \"Float64\" style = \"text-align: left;\">Float64</th><th title = \"Float64\" style = \"text-align: left;\">Float64</th><th title = \"Float64\" style = \"text-align: left;\">Float64</th><th title = \"Float64\" style = \"text-align: left;\">Float64</th><th title = \"Float64\" style = \"text-align: left;\">Float64</th><th title = \"Float64\" style = \"text-align: left;\">Float64</th><th title = \"Float64\" style = \"text-align: left;\">Float64</th><th title = \"Float64\" style = \"text-align: left;\">Float64</th><th title = \"Float64\" style = \"text-align: left;\">Float64</th><th title = \"Float64\" style = \"text-align: left;\">Float64</th><th title = \"Float64\" style = \"text-align: left;\">Float64</th><th title = \"Float64\" style = \"text-align: left;\">Float64</th><th title = \"Float64\" style = \"text-align: left;\">Float64</th><th title = \"Float64\" style = \"text-align: left;\">Float64</th><th title = \"Float64\" style = \"text-align: left;\">Float64</th><th title = \"Float64\" style = \"text-align: left;\">Float64</th><th title = \"Float64\" style = \"text-align: left;\">Float64</th><th title = \"Float64\" style = \"text-align: left;\">Float64</th><th title = \"Float64\" style = \"text-align: left;\">Float64</th><th title = \"Float64\" style = \"text-align: left;\">Float64</th><th title = \"Float64\" style = \"text-align: left;\">Float64</th><th title = \"Float64\" style = \"text-align: left;\">Float64</th><th title = \"Float64\" style = \"text-align: left;\">Float64</th><th title = \"Float64\" style = \"text-align: left;\">Float64</th><th title = \"Float64\" style = \"text-align: left;\">Float64</th><th title = \"Float64\" style = \"text-align: left;\">Float64</th><th title = \"Float64\" style = \"text-align: left;\">Float64</th><th title = \"Float64\" style = \"text-align: left;\">Float64</th><th title = \"Float64\" style = \"text-align: left;\">Float64</th><th title = \"Float64\" style = \"text-align: left;\">Float64</th><th title = \"Int64\" style = \"text-align: left;\">Int64</th></tr></thead><tbody><tr><td class = \"rowNumber\" style = \"font-weight: bold; text-align: right;\">1</td><td style = \"text-align: right;\">0.0</td><td style = \"text-align: right;\">-1.35981</td><td style = \"text-align: right;\">-0.0727812</td><td style = \"text-align: right;\">2.53635</td><td style = \"text-align: right;\">1.37816</td><td style = \"text-align: right;\">-0.338321</td><td style = \"text-align: right;\">0.462388</td><td style = \"text-align: right;\">0.239599</td><td style = \"text-align: right;\">0.0986979</td><td style = \"text-align: right;\">0.363787</td><td style = \"text-align: right;\">0.0907942</td><td style = \"text-align: right;\">-0.5516</td><td style = \"text-align: right;\">-0.617801</td><td style = \"text-align: right;\">-0.99139</td><td style = \"text-align: right;\">-0.311169</td><td style = \"text-align: right;\">1.46818</td><td style = \"text-align: right;\">-0.470401</td><td style = \"text-align: right;\">0.207971</td><td style = \"text-align: right;\">0.0257906</td><td style = \"text-align: right;\">0.403993</td><td style = \"text-align: right;\">0.251412</td><td style = \"text-align: right;\">-0.0183068</td><td style = \"text-align: right;\">0.277838</td><td style = \"text-align: right;\">-0.110474</td><td style = \"text-align: right;\">0.0669281</td><td style = \"text-align: right;\">0.128539</td><td style = \"text-align: right;\">-0.189115</td><td style = \"text-align: right;\">0.133558</td><td style = \"text-align: right;\">-0.0210531</td><td style = \"text-align: right;\">149.62</td><td style = \"text-align: right;\">0</td></tr><tr><td class = \"rowNumber\" style = \"font-weight: bold; text-align: right;\">2</td><td style = \"text-align: right;\">0.0</td><td style = \"text-align: right;\">1.19186</td><td style = \"text-align: right;\">0.266151</td><td style = \"text-align: right;\">0.16648</td><td style = \"text-align: right;\">0.448154</td><td style = \"text-align: right;\">0.0600176</td><td style = \"text-align: right;\">-0.0823608</td><td style = \"text-align: right;\">-0.078803</td><td style = \"text-align: right;\">0.0851017</td><td style = \"text-align: right;\">-0.255425</td><td style = \"text-align: right;\">-0.166974</td><td style = \"text-align: right;\">1.61273</td><td style = \"text-align: right;\">1.06524</td><td style = \"text-align: right;\">0.489095</td><td style = \"text-align: right;\">-0.143772</td><td style = \"text-align: right;\">0.635558</td><td style = \"text-align: right;\">0.463917</td><td style = \"text-align: right;\">-0.114805</td><td style = \"text-align: right;\">-0.183361</td><td style = \"text-align: right;\">-0.145783</td><td style = \"text-align: right;\">-0.0690831</td><td style = \"text-align: right;\">-0.225775</td><td style = \"text-align: right;\">-0.638672</td><td style = \"text-align: right;\">0.101288</td><td style = \"text-align: right;\">-0.339846</td><td style = \"text-align: right;\">0.16717</td><td style = \"text-align: right;\">0.125895</td><td style = \"text-align: right;\">-0.0089831</td><td style = \"text-align: right;\">0.0147242</td><td style = \"text-align: right;\">2.69</td><td style = \"text-align: right;\">0</td></tr><tr><td class = \"rowNumber\" style = \"font-weight: bold; text-align: right;\">3</td><td style = \"text-align: right;\">1.0</td><td style = \"text-align: right;\">-1.35835</td><td style = \"text-align: right;\">-1.34016</td><td style = \"text-align: right;\">1.77321</td><td style = \"text-align: right;\">0.37978</td><td style = \"text-align: right;\">-0.503198</td><td style = \"text-align: right;\">1.8005</td><td style = \"text-align: right;\">0.791461</td><td style = \"text-align: right;\">0.247676</td><td style = \"text-align: right;\">-1.51465</td><td style = \"text-align: right;\">0.207643</td><td style = \"text-align: right;\">0.624501</td><td style = \"text-align: right;\">0.0660837</td><td style = \"text-align: right;\">0.717293</td><td style = \"text-align: right;\">-0.165946</td><td style = \"text-align: right;\">2.34586</td><td style = \"text-align: right;\">-2.89008</td><td style = \"text-align: right;\">1.10997</td><td style = \"text-align: right;\">-0.121359</td><td style = \"text-align: right;\">-2.26186</td><td style = \"text-align: right;\">0.52498</td><td style = \"text-align: right;\">0.247998</td><td style = \"text-align: right;\">0.771679</td><td style = \"text-align: right;\">0.909412</td><td style = \"text-align: right;\">-0.689281</td><td style = \"text-align: right;\">-0.327642</td><td style = \"text-align: right;\">-0.139097</td><td style = \"text-align: right;\">-0.0553528</td><td style = \"text-align: right;\">-0.0597518</td><td style = \"text-align: right;\">378.66</td><td style = \"text-align: right;\">0</td></tr><tr><td class = \"rowNumber\" style = \"font-weight: bold; text-align: right;\">4</td><td style = \"text-align: right;\">1.0</td><td style = \"text-align: right;\">-0.966272</td><td style = \"text-align: right;\">-0.185226</td><td style = \"text-align: right;\">1.79299</td><td style = \"text-align: right;\">-0.863291</td><td style = \"text-align: right;\">-0.0103089</td><td style = \"text-align: right;\">1.2472</td><td style = \"text-align: right;\">0.237609</td><td style = \"text-align: right;\">0.377436</td><td style = \"text-align: right;\">-1.38702</td><td style = \"text-align: right;\">-0.0549519</td><td style = \"text-align: right;\">-0.226487</td><td style = \"text-align: right;\">0.178228</td><td style = \"text-align: right;\">0.507757</td><td style = \"text-align: right;\">-0.287924</td><td style = \"text-align: right;\">-0.631418</td><td style = \"text-align: right;\">-1.05965</td><td style = \"text-align: right;\">-0.684093</td><td style = \"text-align: right;\">1.96578</td><td style = \"text-align: right;\">-1.23262</td><td style = \"text-align: right;\">-0.208038</td><td style = \"text-align: right;\">-0.1083</td><td style = \"text-align: right;\">0.0052736</td><td style = \"text-align: right;\">-0.190321</td><td style = \"text-align: right;\">-1.17558</td><td style = \"text-align: right;\">0.647376</td><td style = \"text-align: right;\">-0.221929</td><td style = \"text-align: right;\">0.0627228</td><td style = \"text-align: right;\">0.0614576</td><td style = \"text-align: right;\">123.5</td><td style = \"text-align: right;\">0</td></tr><tr><td class = \"rowNumber\" style = \"font-weight: bold; text-align: right;\">5</td><td style = \"text-align: right;\">2.0</td><td style = \"text-align: right;\">-1.15823</td><td style = \"text-align: right;\">0.877737</td><td style = \"text-align: right;\">1.54872</td><td style = \"text-align: right;\">0.403034</td><td style = \"text-align: right;\">-0.407193</td><td style = \"text-align: right;\">0.0959215</td><td style = \"text-align: right;\">0.592941</td><td style = \"text-align: right;\">-0.270533</td><td style = \"text-align: right;\">0.817739</td><td style = \"text-align: right;\">0.753074</td><td style = \"text-align: right;\">-0.822843</td><td style = \"text-align: right;\">0.538196</td><td style = \"text-align: right;\">1.34585</td><td style = \"text-align: right;\">-1.11967</td><td style = \"text-align: right;\">0.175121</td><td style = \"text-align: right;\">-0.451449</td><td style = \"text-align: right;\">-0.237033</td><td style = \"text-align: right;\">-0.0381948</td><td style = \"text-align: right;\">0.803487</td><td style = \"text-align: right;\">0.408542</td><td style = \"text-align: right;\">-0.0094307</td><td style = \"text-align: right;\">0.798278</td><td style = \"text-align: right;\">-0.137458</td><td style = \"text-align: right;\">0.141267</td><td style = \"text-align: right;\">-0.20601</td><td style = \"text-align: right;\">0.502292</td><td style = \"text-align: right;\">0.219422</td><td style = \"text-align: right;\">0.215153</td><td style = \"text-align: right;\">69.99</td><td style = \"text-align: right;\">0</td></tr><tr><td class = \"rowNumber\" style = \"font-weight: bold; text-align: right;\">6</td><td style = \"text-align: right;\">2.0</td><td style = \"text-align: right;\">-0.425966</td><td style = \"text-align: right;\">0.960523</td><td style = \"text-align: right;\">1.14111</td><td style = \"text-align: right;\">-0.168252</td><td style = \"text-align: right;\">0.420987</td><td style = \"text-align: right;\">-0.0297276</td><td style = \"text-align: right;\">0.476201</td><td style = \"text-align: right;\">0.260314</td><td style = \"text-align: right;\">-0.568671</td><td style = \"text-align: right;\">-0.371407</td><td style = \"text-align: right;\">1.34126</td><td style = \"text-align: right;\">0.359894</td><td style = \"text-align: right;\">-0.358091</td><td style = \"text-align: right;\">-0.137134</td><td style = \"text-align: right;\">0.517617</td><td style = \"text-align: right;\">0.401726</td><td style = \"text-align: right;\">-0.0581328</td><td style = \"text-align: right;\">0.0686531</td><td style = \"text-align: right;\">-0.0331938</td><td style = \"text-align: right;\">0.0849677</td><td style = \"text-align: right;\">-0.208254</td><td style = \"text-align: right;\">-0.559825</td><td style = \"text-align: right;\">-0.0263977</td><td style = \"text-align: right;\">-0.371427</td><td style = \"text-align: right;\">-0.232794</td><td style = \"text-align: right;\">0.105915</td><td style = \"text-align: right;\">0.253844</td><td style = \"text-align: right;\">0.0810803</td><td style = \"text-align: right;\">3.67</td><td style = \"text-align: right;\">0</td></tr><tr><td class = \"rowNumber\" style = \"font-weight: bold; text-align: right;\">7</td><td style = \"text-align: right;\">4.0</td><td style = \"text-align: right;\">1.22966</td><td style = \"text-align: right;\">0.141004</td><td style = \"text-align: right;\">0.0453708</td><td style = \"text-align: right;\">1.20261</td><td style = \"text-align: right;\">0.191881</td><td style = \"text-align: right;\">0.272708</td><td style = \"text-align: right;\">-0.005159</td><td style = \"text-align: right;\">0.0812129</td><td style = \"text-align: right;\">0.46496</td><td style = \"text-align: right;\">-0.0992543</td><td style = \"text-align: right;\">-1.41691</td><td style = \"text-align: right;\">-0.153826</td><td style = \"text-align: right;\">-0.751063</td><td style = \"text-align: right;\">0.167372</td><td style = \"text-align: right;\">0.0501436</td><td style = \"text-align: right;\">-0.443587</td><td style = \"text-align: right;\">0.00282051</td><td style = \"text-align: right;\">-0.611987</td><td style = \"text-align: right;\">-0.045575</td><td style = \"text-align: right;\">-0.219633</td><td style = \"text-align: right;\">-0.167716</td><td style = \"text-align: right;\">-0.27071</td><td style = \"text-align: right;\">-0.154104</td><td style = \"text-align: right;\">-0.780055</td><td style = \"text-align: right;\">0.750137</td><td style = \"text-align: right;\">-0.257237</td><td style = \"text-align: right;\">0.0345074</td><td style = \"text-align: right;\">0.00516777</td><td style = \"text-align: right;\">4.99</td><td style = \"text-align: right;\">0</td></tr><tr><td class = \"rowNumber\" style = \"font-weight: bold; text-align: right;\">8</td><td style = \"text-align: right;\">7.0</td><td style = \"text-align: right;\">-0.644269</td><td style = \"text-align: right;\">1.41796</td><td style = \"text-align: right;\">1.07438</td><td style = \"text-align: right;\">-0.492199</td><td style = \"text-align: right;\">0.948934</td><td style = \"text-align: right;\">0.428118</td><td style = \"text-align: right;\">1.12063</td><td style = \"text-align: right;\">-3.80786</td><td style = \"text-align: right;\">0.615375</td><td style = \"text-align: right;\">1.24938</td><td style = \"text-align: right;\">-0.619468</td><td style = \"text-align: right;\">0.291474</td><td style = \"text-align: right;\">1.75796</td><td style = \"text-align: right;\">-1.32387</td><td style = \"text-align: right;\">0.686133</td><td style = \"text-align: right;\">-0.076127</td><td style = \"text-align: right;\">-1.22213</td><td style = \"text-align: right;\">-0.358222</td><td style = \"text-align: right;\">0.324505</td><td style = \"text-align: right;\">-0.156742</td><td style = \"text-align: right;\">1.94347</td><td style = \"text-align: right;\">-1.01545</td><td style = \"text-align: right;\">0.0575035</td><td style = \"text-align: right;\">-0.649709</td><td style = \"text-align: right;\">-0.415267</td><td style = \"text-align: right;\">-0.0516343</td><td style = \"text-align: right;\">-1.20692</td><td style = \"text-align: right;\">-1.08534</td><td style = \"text-align: right;\">40.8</td><td style = \"text-align: right;\">0</td></tr><tr><td class = \"rowNumber\" style = \"font-weight: bold; text-align: right;\">9</td><td style = \"text-align: right;\">7.0</td><td style = \"text-align: right;\">-0.894286</td><td style = \"text-align: right;\">0.286157</td><td style = \"text-align: right;\">-0.113192</td><td style = \"text-align: right;\">-0.271526</td><td style = \"text-align: right;\">2.6696</td><td style = \"text-align: right;\">3.72182</td><td style = \"text-align: right;\">0.370145</td><td style = \"text-align: right;\">0.851084</td><td style = \"text-align: right;\">-0.392048</td><td style = \"text-align: right;\">-0.41043</td><td style = \"text-align: right;\">-0.705117</td><td style = \"text-align: right;\">-0.110452</td><td style = \"text-align: right;\">-0.286254</td><td style = \"text-align: right;\">0.0743554</td><td style = \"text-align: right;\">-0.328783</td><td style = \"text-align: right;\">-0.210077</td><td style = \"text-align: right;\">-0.499768</td><td style = \"text-align: right;\">0.118765</td><td style = \"text-align: right;\">0.570328</td><td style = \"text-align: right;\">0.0527357</td><td style = \"text-align: right;\">-0.0734251</td><td style = \"text-align: right;\">-0.268092</td><td style = \"text-align: right;\">-0.204233</td><td style = \"text-align: right;\">1.01159</td><td style = \"text-align: right;\">0.373205</td><td style = \"text-align: right;\">-0.384157</td><td style = \"text-align: right;\">0.0117474</td><td style = \"text-align: right;\">0.142404</td><td style = \"text-align: right;\">93.2</td><td style = \"text-align: right;\">0</td></tr><tr><td class = \"rowNumber\" style = \"font-weight: bold; text-align: right;\">10</td><td style = \"text-align: right;\">9.0</td><td style = \"text-align: right;\">-0.338262</td><td style = \"text-align: right;\">1.11959</td><td style = \"text-align: right;\">1.04437</td><td style = \"text-align: right;\">-0.222187</td><td style = \"text-align: right;\">0.499361</td><td style = \"text-align: right;\">-0.246761</td><td style = \"text-align: right;\">0.651583</td><td style = \"text-align: right;\">0.0695386</td><td style = \"text-align: right;\">-0.736727</td><td style = \"text-align: right;\">-0.366846</td><td style = \"text-align: right;\">1.01761</td><td style = \"text-align: right;\">0.83639</td><td style = \"text-align: right;\">1.00684</td><td style = \"text-align: right;\">-0.443523</td><td style = \"text-align: right;\">0.150219</td><td style = \"text-align: right;\">0.739453</td><td style = \"text-align: right;\">-0.54098</td><td style = \"text-align: right;\">0.476677</td><td style = \"text-align: right;\">0.451773</td><td style = \"text-align: right;\">0.203711</td><td style = \"text-align: right;\">-0.246914</td><td style = \"text-align: right;\">-0.633753</td><td style = \"text-align: right;\">-0.120794</td><td style = \"text-align: right;\">-0.38505</td><td style = \"text-align: right;\">-0.069733</td><td style = \"text-align: right;\">0.0941988</td><td style = \"text-align: right;\">0.246219</td><td style = \"text-align: right;\">0.0830756</td><td style = \"text-align: right;\">3.68</td><td style = \"text-align: right;\">0</td></tr><tr><td class = \"rowNumber\" style = \"font-weight: bold; text-align: right;\">11</td><td style = \"text-align: right;\">10.0</td><td style = \"text-align: right;\">1.44904</td><td style = \"text-align: right;\">-1.17634</td><td style = \"text-align: right;\">0.91386</td><td style = \"text-align: right;\">-1.37567</td><td style = \"text-align: right;\">-1.97138</td><td style = \"text-align: right;\">-0.629152</td><td style = \"text-align: right;\">-1.42324</td><td style = \"text-align: right;\">0.0484559</td><td style = \"text-align: right;\">-1.72041</td><td style = \"text-align: right;\">1.62666</td><td style = \"text-align: right;\">1.19964</td><td style = \"text-align: right;\">-0.67144</td><td style = \"text-align: right;\">-0.513947</td><td style = \"text-align: right;\">-0.095045</td><td style = \"text-align: right;\">0.23093</td><td style = \"text-align: right;\">0.0319675</td><td style = \"text-align: right;\">0.253415</td><td style = \"text-align: right;\">0.854344</td><td style = \"text-align: right;\">-0.221365</td><td style = \"text-align: right;\">-0.387226</td><td style = \"text-align: right;\">-0.0093019</td><td style = \"text-align: right;\">0.313894</td><td style = \"text-align: right;\">0.0277402</td><td style = \"text-align: right;\">0.500512</td><td style = \"text-align: right;\">0.251367</td><td style = \"text-align: right;\">-0.129478</td><td style = \"text-align: right;\">0.0428499</td><td style = \"text-align: right;\">0.0162533</td><td style = \"text-align: right;\">7.8</td><td style = \"text-align: right;\">0</td></tr><tr><td class = \"rowNumber\" style = \"font-weight: bold; text-align: right;\">12</td><td style = \"text-align: right;\">10.0</td><td style = \"text-align: right;\">0.384978</td><td style = \"text-align: right;\">0.616109</td><td style = \"text-align: right;\">-0.8743</td><td style = \"text-align: right;\">-0.0940186</td><td style = \"text-align: right;\">2.92458</td><td style = \"text-align: right;\">3.31703</td><td style = \"text-align: right;\">0.470455</td><td style = \"text-align: right;\">0.538247</td><td style = \"text-align: right;\">-0.558895</td><td style = \"text-align: right;\">0.309755</td><td style = \"text-align: right;\">-0.259116</td><td style = \"text-align: right;\">-0.326143</td><td style = \"text-align: right;\">-0.0900467</td><td style = \"text-align: right;\">0.362832</td><td style = \"text-align: right;\">0.928904</td><td style = \"text-align: right;\">-0.129487</td><td style = \"text-align: right;\">-0.809979</td><td style = \"text-align: right;\">0.359985</td><td style = \"text-align: right;\">0.707664</td><td style = \"text-align: right;\">0.125992</td><td style = \"text-align: right;\">0.0499237</td><td style = \"text-align: right;\">0.238422</td><td style = \"text-align: right;\">0.00912987</td><td style = \"text-align: right;\">0.99671</td><td style = \"text-align: right;\">-0.767315</td><td style = \"text-align: right;\">-0.492208</td><td style = \"text-align: right;\">0.0424724</td><td style = \"text-align: right;\">-0.0543374</td><td style = \"text-align: right;\">9.99</td><td style = \"text-align: right;\">0</td></tr><tr><td class = \"rowNumber\" style = \"font-weight: bold; text-align: right;\">13</td><td style = \"text-align: right;\">10.0</td><td style = \"text-align: right;\">1.25</td><td style = \"text-align: right;\">-1.22164</td><td style = \"text-align: right;\">0.38393</td><td style = \"text-align: right;\">-1.2349</td><td style = \"text-align: right;\">-1.48542</td><td style = \"text-align: right;\">-0.75323</td><td style = \"text-align: right;\">-0.689405</td><td style = \"text-align: right;\">-0.227487</td><td style = \"text-align: right;\">-2.09401</td><td style = \"text-align: right;\">1.32373</td><td style = \"text-align: right;\">0.227666</td><td style = \"text-align: right;\">-0.242682</td><td style = \"text-align: right;\">1.20542</td><td style = \"text-align: right;\">-0.317631</td><td style = \"text-align: right;\">0.725675</td><td style = \"text-align: right;\">-0.815612</td><td style = \"text-align: right;\">0.873936</td><td style = \"text-align: right;\">-0.847789</td><td style = \"text-align: right;\">-0.683193</td><td style = \"text-align: right;\">-0.102756</td><td style = \"text-align: right;\">-0.231809</td><td style = \"text-align: right;\">-0.483285</td><td style = \"text-align: right;\">0.0846677</td><td style = \"text-align: right;\">0.392831</td><td style = \"text-align: right;\">0.161135</td><td style = \"text-align: right;\">-0.35499</td><td style = \"text-align: right;\">0.0264155</td><td style = \"text-align: right;\">0.0424221</td><td style = \"text-align: right;\">121.5</td><td style = \"text-align: right;\">0</td></tr><tr><td style = \"text-align: right;\">&vellip;</td><td style = \"text-align: right;\">&vellip;</td><td style = \"text-align: right;\">&vellip;</td><td style = \"text-align: right;\">&vellip;</td><td style = \"text-align: right;\">&vellip;</td><td style = \"text-align: right;\">&vellip;</td><td style = \"text-align: right;\">&vellip;</td><td style = \"text-align: right;\">&vellip;</td><td style = \"text-align: right;\">&vellip;</td><td style = \"text-align: right;\">&vellip;</td><td style = \"text-align: right;\">&vellip;</td><td style = \"text-align: right;\">&vellip;</td><td style = \"text-align: right;\">&vellip;</td><td style = \"text-align: right;\">&vellip;</td><td style = \"text-align: right;\">&vellip;</td><td style = \"text-align: right;\">&vellip;</td><td style = \"text-align: right;\">&vellip;</td><td style = \"text-align: right;\">&vellip;</td><td style = \"text-align: right;\">&vellip;</td><td style = \"text-align: right;\">&vellip;</td><td style = \"text-align: right;\">&vellip;</td><td style = \"text-align: right;\">&vellip;</td><td style = \"text-align: right;\">&vellip;</td><td style = \"text-align: right;\">&vellip;</td><td style = \"text-align: right;\">&vellip;</td><td style = \"text-align: right;\">&vellip;</td><td style = \"text-align: right;\">&vellip;</td><td style = \"text-align: right;\">&vellip;</td><td style = \"text-align: right;\">&vellip;</td><td style = \"text-align: right;\">&vellip;</td><td style = \"text-align: right;\">&vellip;</td><td style = \"text-align: right;\">&vellip;</td></tr><tr><td class = \"rowNumber\" style = \"font-weight: bold; text-align: right;\">283715</td><td style = \"text-align: right;\">172778.0</td><td style = \"text-align: right;\">-12.5167</td><td style = \"text-align: right;\">10.1878</td><td style = \"text-align: right;\">-8.47667</td><td style = \"text-align: right;\">-2.51047</td><td style = \"text-align: right;\">-4.58667</td><td style = \"text-align: right;\">-1.39446</td><td style = \"text-align: right;\">-3.63252</td><td style = \"text-align: right;\">5.49858</td><td style = \"text-align: right;\">4.89309</td><td style = \"text-align: right;\">8.65532</td><td style = \"text-align: right;\">-1.05236</td><td style = \"text-align: right;\">2.83486</td><td style = \"text-align: right;\">1.08814</td><td style = \"text-align: right;\">1.2884</td><td style = \"text-align: right;\">-0.931503</td><td style = \"text-align: right;\">1.06786</td><td style = \"text-align: right;\">0.586179</td><td style = \"text-align: right;\">-0.0855241</td><td style = \"text-align: right;\">-0.571605</td><td style = \"text-align: right;\">3.49007</td><td style = \"text-align: right;\">-0.944759</td><td style = \"text-align: right;\">-1.56503</td><td style = \"text-align: right;\">0.890675</td><td style = \"text-align: right;\">-1.25328</td><td style = \"text-align: right;\">1.78672</td><td style = \"text-align: right;\">0.320763</td><td style = \"text-align: right;\">2.09071</td><td style = \"text-align: right;\">1.23286</td><td style = \"text-align: right;\">9.87</td><td style = \"text-align: right;\">0</td></tr><tr><td class = \"rowNumber\" style = \"font-weight: bold; text-align: right;\">283716</td><td style = \"text-align: right;\">172780.0</td><td style = \"text-align: right;\">1.88485</td><td style = \"text-align: right;\">-0.14354</td><td style = \"text-align: right;\">-0.999943</td><td style = \"text-align: right;\">1.50677</td><td style = \"text-align: right;\">-0.0352995</td><td style = \"text-align: right;\">-0.613638</td><td style = \"text-align: right;\">0.190241</td><td style = \"text-align: right;\">-0.249058</td><td style = \"text-align: right;\">0.666458</td><td style = \"text-align: right;\">0.120908</td><td style = \"text-align: right;\">-1.13418</td><td style = \"text-align: right;\">0.677729</td><td style = \"text-align: right;\">0.345928</td><td style = \"text-align: right;\">0.00201925</td><td style = \"text-align: right;\">-0.679626</td><td style = \"text-align: right;\">-0.549982</td><td style = \"text-align: right;\">-0.19995</td><td style = \"text-align: right;\">-0.420551</td><td style = \"text-align: right;\">-0.283278</td><td style = \"text-align: right;\">-0.153997</td><td style = \"text-align: right;\">0.144008</td><td style = \"text-align: right;\">0.634646</td><td style = \"text-align: right;\">-0.0421142</td><td style = \"text-align: right;\">-0.0532056</td><td style = \"text-align: right;\">0.316403</td><td style = \"text-align: right;\">-0.461441</td><td style = \"text-align: right;\">0.0182648</td><td style = \"text-align: right;\">-0.0410684</td><td style = \"text-align: right;\">60.0</td><td style = \"text-align: right;\">0</td></tr><tr><td class = \"rowNumber\" style = \"font-weight: bold; text-align: right;\">283717</td><td style = \"text-align: right;\">172782.0</td><td style = \"text-align: right;\">-0.241923</td><td style = \"text-align: right;\">0.712247</td><td style = \"text-align: right;\">0.399806</td><td style = \"text-align: right;\">-0.463406</td><td style = \"text-align: right;\">0.244531</td><td style = \"text-align: right;\">-1.34367</td><td style = \"text-align: right;\">0.929369</td><td style = \"text-align: right;\">-0.20621</td><td style = \"text-align: right;\">0.106234</td><td style = \"text-align: right;\">-0.284708</td><td style = \"text-align: right;\">-0.612982</td><td style = \"text-align: right;\">-0.0666547</td><td style = \"text-align: right;\">-0.732987</td><td style = \"text-align: right;\">0.237948</td><td style = \"text-align: right;\">-0.293959</td><td style = \"text-align: right;\">-0.245496</td><td style = \"text-align: right;\">-0.174846</td><td style = \"text-align: right;\">-0.891169</td><td style = \"text-align: right;\">-0.290491</td><td style = \"text-align: right;\">-0.139512</td><td style = \"text-align: right;\">-0.228876</td><td style = \"text-align: right;\">-0.514376</td><td style = \"text-align: right;\">0.279598</td><td style = \"text-align: right;\">0.371441</td><td style = \"text-align: right;\">-0.559238</td><td style = \"text-align: right;\">0.113144</td><td style = \"text-align: right;\">0.131507</td><td style = \"text-align: right;\">0.0812651</td><td style = \"text-align: right;\">5.49</td><td style = \"text-align: right;\">0</td></tr><tr><td class = \"rowNumber\" style = \"font-weight: bold; text-align: right;\">283718</td><td style = \"text-align: right;\">172782.0</td><td style = \"text-align: right;\">0.219529</td><td style = \"text-align: right;\">0.881246</td><td style = \"text-align: right;\">-0.635891</td><td style = \"text-align: right;\">0.960928</td><td style = \"text-align: right;\">-0.152971</td><td style = \"text-align: right;\">-1.01431</td><td style = \"text-align: right;\">0.427126</td><td style = \"text-align: right;\">0.12134</td><td style = \"text-align: right;\">-0.28567</td><td style = \"text-align: right;\">-0.11164</td><td style = \"text-align: right;\">-1.10923</td><td style = \"text-align: right;\">-0.453235</td><td style = \"text-align: right;\">-1.04695</td><td style = \"text-align: right;\">1.12267</td><td style = \"text-align: right;\">1.24352</td><td style = \"text-align: right;\">-1.4319</td><td style = \"text-align: right;\">0.939328</td><td style = \"text-align: right;\">-0.00237255</td><td style = \"text-align: right;\">2.89495</td><td style = \"text-align: right;\">0.00666603</td><td style = \"text-align: right;\">0.0999359</td><td style = \"text-align: right;\">0.33712</td><td style = \"text-align: right;\">0.251791</td><td style = \"text-align: right;\">0.0576878</td><td style = \"text-align: right;\">-1.50837</td><td style = \"text-align: right;\">0.144023</td><td style = \"text-align: right;\">0.181205</td><td style = \"text-align: right;\">0.215243</td><td style = \"text-align: right;\">24.05</td><td style = \"text-align: right;\">0</td></tr><tr><td class = \"rowNumber\" style = \"font-weight: bold; text-align: right;\">283719</td><td style = \"text-align: right;\">172783.0</td><td style = \"text-align: right;\">-1.77513</td><td style = \"text-align: right;\">-0.0042354</td><td style = \"text-align: right;\">1.18979</td><td style = \"text-align: right;\">0.331096</td><td style = \"text-align: right;\">1.19606</td><td style = \"text-align: right;\">5.51998</td><td style = \"text-align: right;\">-1.51818</td><td style = \"text-align: right;\">2.08083</td><td style = \"text-align: right;\">1.1595</td><td style = \"text-align: right;\">-0.594242</td><td style = \"text-align: right;\">-1.26407</td><td style = \"text-align: right;\">0.453596</td><td style = \"text-align: right;\">-0.243142</td><td style = \"text-align: right;\">-0.858719</td><td style = \"text-align: right;\">-0.766554</td><td style = \"text-align: right;\">-0.644646</td><td style = \"text-align: right;\">0.447184</td><td style = \"text-align: right;\">0.388721</td><td style = \"text-align: right;\">0.792135</td><td style = \"text-align: right;\">0.348176</td><td style = \"text-align: right;\">0.103302</td><td style = \"text-align: right;\">0.65485</td><td style = \"text-align: right;\">-0.348929</td><td style = \"text-align: right;\">0.745323</td><td style = \"text-align: right;\">0.704545</td><td style = \"text-align: right;\">-0.127579</td><td style = \"text-align: right;\">0.454379</td><td style = \"text-align: right;\">0.130308</td><td style = \"text-align: right;\">79.99</td><td style = \"text-align: right;\">0</td></tr><tr><td class = \"rowNumber\" style = \"font-weight: bold; text-align: right;\">283720</td><td style = \"text-align: right;\">172784.0</td><td style = \"text-align: right;\">2.03956</td><td style = \"text-align: right;\">-0.175233</td><td style = \"text-align: right;\">-1.19683</td><td style = \"text-align: right;\">0.23458</td><td style = \"text-align: right;\">-0.0087133</td><td style = \"text-align: right;\">-0.726571</td><td style = \"text-align: right;\">0.0170496</td><td style = \"text-align: right;\">-0.118228</td><td style = \"text-align: right;\">0.435402</td><td style = \"text-align: right;\">0.267772</td><td style = \"text-align: right;\">0.523316</td><td style = \"text-align: right;\">0.559047</td><td style = \"text-align: right;\">-0.83466</td><td style = \"text-align: right;\">0.626211</td><td style = \"text-align: right;\">-0.541494</td><td style = \"text-align: right;\">0.225361</td><td style = \"text-align: right;\">-0.605252</td><td style = \"text-align: right;\">-0.163049</td><td style = \"text-align: right;\">0.561695</td><td style = \"text-align: right;\">-0.256922</td><td style = \"text-align: right;\">-0.268048</td><td style = \"text-align: right;\">-0.717211</td><td style = \"text-align: right;\">0.29793</td><td style = \"text-align: right;\">-0.359769</td><td style = \"text-align: right;\">-0.31561</td><td style = \"text-align: right;\">0.201114</td><td style = \"text-align: right;\">-0.0808258</td><td style = \"text-align: right;\">-0.0750705</td><td style = \"text-align: right;\">2.68</td><td style = \"text-align: right;\">0</td></tr><tr><td class = \"rowNumber\" style = \"font-weight: bold; text-align: right;\">283721</td><td style = \"text-align: right;\">172785.0</td><td style = \"text-align: right;\">0.120316</td><td style = \"text-align: right;\">0.931005</td><td style = \"text-align: right;\">-0.546012</td><td style = \"text-align: right;\">-0.745097</td><td style = \"text-align: right;\">1.13031</td><td style = \"text-align: right;\">-0.235973</td><td style = \"text-align: right;\">0.812722</td><td style = \"text-align: right;\">0.115093</td><td style = \"text-align: right;\">-0.204064</td><td style = \"text-align: right;\">-0.657422</td><td style = \"text-align: right;\">0.644837</td><td style = \"text-align: right;\">0.190916</td><td style = \"text-align: right;\">-0.546329</td><td style = \"text-align: right;\">-0.731707</td><td style = \"text-align: right;\">-0.808036</td><td style = \"text-align: right;\">0.599628</td><td style = \"text-align: right;\">0.0704408</td><td style = \"text-align: right;\">0.37311</td><td style = \"text-align: right;\">0.128904</td><td style = \"text-align: right;\">0.000675833</td><td style = \"text-align: right;\">-0.314205</td><td style = \"text-align: right;\">-0.80852</td><td style = \"text-align: right;\">0.0503427</td><td style = \"text-align: right;\">0.1028</td><td style = \"text-align: right;\">-0.43587</td><td style = \"text-align: right;\">0.124079</td><td style = \"text-align: right;\">0.21794</td><td style = \"text-align: right;\">0.0688033</td><td style = \"text-align: right;\">2.69</td><td style = \"text-align: right;\">0</td></tr><tr><td class = \"rowNumber\" style = \"font-weight: bold; text-align: right;\">283722</td><td style = \"text-align: right;\">172786.0</td><td style = \"text-align: right;\">-11.8811</td><td style = \"text-align: right;\">10.0718</td><td style = \"text-align: right;\">-9.83478</td><td style = \"text-align: right;\">-2.06666</td><td style = \"text-align: right;\">-5.36447</td><td style = \"text-align: right;\">-2.60684</td><td style = \"text-align: right;\">-4.91822</td><td style = \"text-align: right;\">7.30533</td><td style = \"text-align: right;\">1.91443</td><td style = \"text-align: right;\">4.35617</td><td style = \"text-align: right;\">-1.59311</td><td style = \"text-align: right;\">2.71194</td><td style = \"text-align: right;\">-0.689256</td><td style = \"text-align: right;\">4.62694</td><td style = \"text-align: right;\">-0.924459</td><td style = \"text-align: right;\">1.10764</td><td style = \"text-align: right;\">1.99169</td><td style = \"text-align: right;\">0.510632</td><td style = \"text-align: right;\">-0.68292</td><td style = \"text-align: right;\">1.47583</td><td style = \"text-align: right;\">0.213454</td><td style = \"text-align: right;\">0.111864</td><td style = \"text-align: right;\">1.01448</td><td style = \"text-align: right;\">-0.509348</td><td style = \"text-align: right;\">1.43681</td><td style = \"text-align: right;\">0.250034</td><td style = \"text-align: right;\">0.943651</td><td style = \"text-align: right;\">0.823731</td><td style = \"text-align: right;\">0.77</td><td style = \"text-align: right;\">0</td></tr><tr><td class = \"rowNumber\" style = \"font-weight: bold; text-align: right;\">283723</td><td style = \"text-align: right;\">172787.0</td><td style = \"text-align: right;\">-0.732789</td><td style = \"text-align: right;\">-0.0550805</td><td style = \"text-align: right;\">2.03503</td><td style = \"text-align: right;\">-0.738589</td><td style = \"text-align: right;\">0.868229</td><td style = \"text-align: right;\">1.05842</td><td style = \"text-align: right;\">0.0243297</td><td style = \"text-align: right;\">0.294869</td><td style = \"text-align: right;\">0.5848</td><td style = \"text-align: right;\">-0.975926</td><td style = \"text-align: right;\">-0.150189</td><td style = \"text-align: right;\">0.915802</td><td style = \"text-align: right;\">1.21476</td><td style = \"text-align: right;\">-0.675143</td><td style = \"text-align: right;\">1.16493</td><td style = \"text-align: right;\">-0.711757</td><td style = \"text-align: right;\">-0.0256929</td><td style = \"text-align: right;\">-1.22118</td><td style = \"text-align: right;\">-1.54556</td><td style = \"text-align: right;\">0.0596159</td><td style = \"text-align: right;\">0.214205</td><td style = \"text-align: right;\">0.924384</td><td style = \"text-align: right;\">0.012463</td><td style = \"text-align: right;\">-1.01623</td><td style = \"text-align: right;\">-0.606624</td><td style = \"text-align: right;\">-0.395255</td><td style = \"text-align: right;\">0.0684725</td><td style = \"text-align: right;\">-0.0535274</td><td style = \"text-align: right;\">24.79</td><td style = \"text-align: right;\">0</td></tr><tr><td class = \"rowNumber\" style = \"font-weight: bold; text-align: right;\">283724</td><td style = \"text-align: right;\">172788.0</td><td style = \"text-align: right;\">1.91957</td><td style = \"text-align: right;\">-0.301254</td><td style = \"text-align: right;\">-3.24964</td><td style = \"text-align: right;\">-0.557828</td><td style = \"text-align: right;\">2.63052</td><td style = \"text-align: right;\">3.03126</td><td style = \"text-align: right;\">-0.296827</td><td style = \"text-align: right;\">0.708417</td><td style = \"text-align: right;\">0.432454</td><td style = \"text-align: right;\">-0.484782</td><td style = \"text-align: right;\">0.411614</td><td style = \"text-align: right;\">0.0631189</td><td style = \"text-align: right;\">-0.183699</td><td style = \"text-align: right;\">-0.510602</td><td style = \"text-align: right;\">1.32928</td><td style = \"text-align: right;\">0.140716</td><td style = \"text-align: right;\">0.313502</td><td style = \"text-align: right;\">0.395652</td><td style = \"text-align: right;\">-0.577252</td><td style = \"text-align: right;\">0.00139597</td><td style = \"text-align: right;\">0.232045</td><td style = \"text-align: right;\">0.578229</td><td style = \"text-align: right;\">-0.0375009</td><td style = \"text-align: right;\">0.640134</td><td style = \"text-align: right;\">0.265745</td><td style = \"text-align: right;\">-0.0873706</td><td style = \"text-align: right;\">0.00445477</td><td style = \"text-align: right;\">-0.0265608</td><td style = \"text-align: right;\">67.88</td><td style = \"text-align: right;\">0</td></tr><tr><td class = \"rowNumber\" style = \"font-weight: bold; text-align: right;\">283725</td><td style = \"text-align: right;\">172788.0</td><td style = \"text-align: right;\">-0.24044</td><td style = \"text-align: right;\">0.530483</td><td style = \"text-align: right;\">0.70251</td><td style = \"text-align: right;\">0.689799</td><td style = \"text-align: right;\">-0.377961</td><td style = \"text-align: right;\">0.623708</td><td style = \"text-align: right;\">-0.68618</td><td style = \"text-align: right;\">0.679145</td><td style = \"text-align: right;\">0.392087</td><td style = \"text-align: right;\">-0.399126</td><td style = \"text-align: right;\">-1.93385</td><td style = \"text-align: right;\">-0.962886</td><td style = \"text-align: right;\">-1.04208</td><td style = \"text-align: right;\">0.449624</td><td style = \"text-align: right;\">1.96256</td><td style = \"text-align: right;\">-0.608577</td><td style = \"text-align: right;\">0.509928</td><td style = \"text-align: right;\">1.11398</td><td style = \"text-align: right;\">2.89785</td><td style = \"text-align: right;\">0.127434</td><td style = \"text-align: right;\">0.265245</td><td style = \"text-align: right;\">0.800049</td><td style = \"text-align: right;\">-0.163298</td><td style = \"text-align: right;\">0.123205</td><td style = \"text-align: right;\">-0.569159</td><td style = \"text-align: right;\">0.546668</td><td style = \"text-align: right;\">0.108821</td><td style = \"text-align: right;\">0.104533</td><td style = \"text-align: right;\">10.0</td><td style = \"text-align: right;\">0</td></tr><tr><td class = \"rowNumber\" style = \"font-weight: bold; text-align: right;\">283726</td><td style = \"text-align: right;\">172792.0</td><td style = \"text-align: right;\">-0.533413</td><td style = \"text-align: right;\">-0.189733</td><td style = \"text-align: right;\">0.703337</td><td style = \"text-align: right;\">-0.506271</td><td style = \"text-align: right;\">-0.0125457</td><td style = \"text-align: right;\">-0.649617</td><td style = \"text-align: right;\">1.57701</td><td style = \"text-align: right;\">-0.41465</td><td style = \"text-align: right;\">0.48618</td><td style = \"text-align: right;\">-0.915427</td><td style = \"text-align: right;\">-1.04046</td><td style = \"text-align: right;\">-0.0315131</td><td style = \"text-align: right;\">-0.188093</td><td style = \"text-align: right;\">-0.0843165</td><td style = \"text-align: right;\">0.0413335</td><td style = \"text-align: right;\">-0.30262</td><td style = \"text-align: right;\">-0.660377</td><td style = \"text-align: right;\">0.16743</td><td style = \"text-align: right;\">-0.256117</td><td style = \"text-align: right;\">0.382948</td><td style = \"text-align: right;\">0.261057</td><td style = \"text-align: right;\">0.643078</td><td style = \"text-align: right;\">0.376777</td><td style = \"text-align: right;\">0.00879738</td><td style = \"text-align: right;\">-0.473649</td><td style = \"text-align: right;\">-0.818267</td><td style = \"text-align: right;\">-0.00241531</td><td style = \"text-align: right;\">0.0136489</td><td style = \"text-align: right;\">217.0</td><td style = \"text-align: right;\">0</td></tr></tbody></table></div>"
      ],
      "text/latex": [
       "\\begin{tabular}{r|cccccccc}\n",
       "\t& Time & V1 & V2 & V3 & V4 & V5 & V6 & \\\\\n",
       "\t\\hline\n",
       "\t& Float64 & Float64 & Float64 & Float64 & Float64 & Float64 & Float64 & \\\\\n",
       "\t\\hline\n",
       "\t1 & 0.0 & -1.35981 & -0.0727812 & 2.53635 & 1.37816 & -0.338321 & 0.462388 & $\\dots$ \\\\\n",
       "\t2 & 0.0 & 1.19186 & 0.266151 & 0.16648 & 0.448154 & 0.0600176 & -0.0823608 & $\\dots$ \\\\\n",
       "\t3 & 1.0 & -1.35835 & -1.34016 & 1.77321 & 0.37978 & -0.503198 & 1.8005 & $\\dots$ \\\\\n",
       "\t4 & 1.0 & -0.966272 & -0.185226 & 1.79299 & -0.863291 & -0.0103089 & 1.2472 & $\\dots$ \\\\\n",
       "\t5 & 2.0 & -1.15823 & 0.877737 & 1.54872 & 0.403034 & -0.407193 & 0.0959215 & $\\dots$ \\\\\n",
       "\t6 & 2.0 & -0.425966 & 0.960523 & 1.14111 & -0.168252 & 0.420987 & -0.0297276 & $\\dots$ \\\\\n",
       "\t7 & 4.0 & 1.22966 & 0.141004 & 0.0453708 & 1.20261 & 0.191881 & 0.272708 & $\\dots$ \\\\\n",
       "\t8 & 7.0 & -0.644269 & 1.41796 & 1.07438 & -0.492199 & 0.948934 & 0.428118 & $\\dots$ \\\\\n",
       "\t9 & 7.0 & -0.894286 & 0.286157 & -0.113192 & -0.271526 & 2.6696 & 3.72182 & $\\dots$ \\\\\n",
       "\t10 & 9.0 & -0.338262 & 1.11959 & 1.04437 & -0.222187 & 0.499361 & -0.246761 & $\\dots$ \\\\\n",
       "\t11 & 10.0 & 1.44904 & -1.17634 & 0.91386 & -1.37567 & -1.97138 & -0.629152 & $\\dots$ \\\\\n",
       "\t12 & 10.0 & 0.384978 & 0.616109 & -0.8743 & -0.0940186 & 2.92458 & 3.31703 & $\\dots$ \\\\\n",
       "\t13 & 10.0 & 1.25 & -1.22164 & 0.38393 & -1.2349 & -1.48542 & -0.75323 & $\\dots$ \\\\\n",
       "\t14 & 11.0 & 1.06937 & 0.287722 & 0.828613 & 2.71252 & -0.178398 & 0.337544 & $\\dots$ \\\\\n",
       "\t15 & 12.0 & -2.79185 & -0.327771 & 1.64175 & 1.76747 & -0.136588 & 0.807596 & $\\dots$ \\\\\n",
       "\t16 & 12.0 & -0.752417 & 0.345485 & 2.05732 & -1.46864 & -1.15839 & -0.0778498 & $\\dots$ \\\\\n",
       "\t17 & 12.0 & 1.10322 & -0.0402962 & 1.26733 & 1.28909 & -0.735997 & 0.288069 & $\\dots$ \\\\\n",
       "\t18 & 13.0 & -0.436905 & 0.918966 & 0.924591 & -0.727219 & 0.915679 & -0.127867 & $\\dots$ \\\\\n",
       "\t19 & 14.0 & -5.40126 & -5.45015 & 1.1863 & 1.73624 & 3.04911 & -1.76341 & $\\dots$ \\\\\n",
       "\t20 & 15.0 & 1.49294 & -1.02935 & 0.454795 & -1.43803 & -1.55543 & -0.720961 & $\\dots$ \\\\\n",
       "\t21 & 16.0 & 0.694885 & -1.36182 & 1.02922 & 0.834159 & -1.19121 & 1.30911 & $\\dots$ \\\\\n",
       "\t22 & 17.0 & 0.962496 & 0.328461 & -0.171479 & 2.1092 & 1.12957 & 1.69604 & $\\dots$ \\\\\n",
       "\t23 & 18.0 & 1.16662 & 0.50212 & -0.0673003 & 2.26157 & 0.428804 & 0.0894735 & $\\dots$ \\\\\n",
       "\t24 & 18.0 & 0.247491 & 0.277666 & 1.18547 & -0.0926025 & -1.31439 & -0.150116 & $\\dots$ \\\\\n",
       "\t$\\dots$ & $\\dots$ & $\\dots$ & $\\dots$ & $\\dots$ & $\\dots$ & $\\dots$ & $\\dots$ &  \\\\\n",
       "\\end{tabular}\n"
      ],
      "text/plain": [
       "\u001b[1m283726×31 DataFrame\u001b[0m\n",
       "\u001b[1m    Row \u001b[0m│\u001b[1m Time     \u001b[0m\u001b[1m V1         \u001b[0m\u001b[1m V2         \u001b[0m\u001b[1m V3         \u001b[0m\u001b[1m V4        \u001b[0m\u001b[1m V5         \u001b[0m\u001b[1m\u001b[0m ⋯\n",
       "        │\u001b[90m Float64  \u001b[0m\u001b[90m Float64    \u001b[0m\u001b[90m Float64    \u001b[0m\u001b[90m Float64    \u001b[0m\u001b[90m Float64   \u001b[0m\u001b[90m Float64    \u001b[0m\u001b[90m\u001b[0m ⋯\n",
       "────────┼───────────────────────────────────────────────────────────────────────\n",
       "      1 │      0.0   -1.35981   -0.0727812   2.53635     1.37816   -0.338321   ⋯\n",
       "      2 │      0.0    1.19186    0.266151    0.16648     0.448154   0.0600176\n",
       "      3 │      1.0   -1.35835   -1.34016     1.77321     0.37978   -0.503198\n",
       "      4 │      1.0   -0.966272  -0.185226    1.79299    -0.863291  -0.0103089\n",
       "      5 │      2.0   -1.15823    0.877737    1.54872     0.403034  -0.407193   ⋯\n",
       "      6 │      2.0   -0.425966   0.960523    1.14111    -0.168252   0.420987\n",
       "      7 │      4.0    1.22966    0.141004    0.0453708   1.20261    0.191881\n",
       "      8 │      7.0   -0.644269   1.41796     1.07438    -0.492199   0.948934\n",
       "   ⋮    │    ⋮          ⋮           ⋮           ⋮           ⋮          ⋮       ⋱\n",
       " 283720 │ 172784.0    2.03956   -0.175233   -1.19683     0.23458   -0.0087133  ⋯\n",
       " 283721 │ 172785.0    0.120316   0.931005   -0.546012   -0.745097   1.13031\n",
       " 283722 │ 172786.0  -11.8811    10.0718     -9.83478    -2.06666   -5.36447\n",
       " 283723 │ 172787.0   -0.732789  -0.0550805   2.03503    -0.738589   0.868229\n",
       " 283724 │ 172788.0    1.91957   -0.301254   -3.24964    -0.557828   2.63052    ⋯\n",
       " 283725 │ 172788.0   -0.24044    0.530483    0.70251     0.689799  -0.377961\n",
       " 283726 │ 172792.0   -0.533413  -0.189733    0.703337   -0.506271  -0.0125457\n",
       "\u001b[36m                                              25 columns and 283711 rows omitted\u001b[0m"
      ]
     },
     "metadata": {},
     "output_type": "display_data"
    }
   ],
   "source": [
    "deleteat!(df, findall(nonunique(df)))"
   ]
  },
  {
   "cell_type": "code",
   "execution_count": 79,
   "metadata": {},
   "outputs": [
    {
     "data": {
      "text/plain": [
       "Int64[]"
      ]
     },
     "metadata": {},
     "output_type": "display_data"
    }
   ],
   "source": [
    "findall(nonunique(df))"
   ]
  },
  {
   "cell_type": "code",
   "execution_count": 122,
   "metadata": {},
   "outputs": [
    {
     "data": {
      "text/html": [
       "<div><div style = \"float: left;\"><span>283726×30 DataFrame</span></div><div style = \"float: right;\"><span style = \"font-style: italic;\">283701 rows omitted</span></div><div style = \"clear: both;\"></div></div><div class = \"data-frame\" style = \"overflow-x: scroll;\"><table class = \"data-frame\" style = \"margin-bottom: 6px;\"><thead><tr class = \"header\"><th class = \"rowNumber\" style = \"font-weight: bold; text-align: right;\">Row</th><th style = \"text-align: left;\">Time</th><th style = \"text-align: left;\">V1</th><th style = \"text-align: left;\">V2</th><th style = \"text-align: left;\">V3</th><th style = \"text-align: left;\">V4</th><th style = \"text-align: left;\">V5</th><th style = \"text-align: left;\">V6</th><th style = \"text-align: left;\">V7</th><th style = \"text-align: left;\">V8</th><th style = \"text-align: left;\">V9</th><th style = \"text-align: left;\">V10</th><th style = \"text-align: left;\">V11</th><th style = \"text-align: left;\">V12</th><th style = \"text-align: left;\">V13</th><th style = \"text-align: left;\">V14</th><th style = \"text-align: left;\">V15</th><th style = \"text-align: left;\">V16</th><th style = \"text-align: left;\">V17</th><th style = \"text-align: left;\">V18</th><th style = \"text-align: left;\">V19</th><th style = \"text-align: left;\">V20</th><th style = \"text-align: left;\">V21</th><th style = \"text-align: left;\">V22</th><th style = \"text-align: left;\">V23</th><th style = \"text-align: left;\">V24</th><th style = \"text-align: left;\">V25</th><th style = \"text-align: left;\">V26</th><th style = \"text-align: left;\">V27</th><th style = \"text-align: left;\">V28</th><th style = \"text-align: left;\">Amount</th></tr><tr class = \"subheader headerLastRow\"><th class = \"rowNumber\" style = \"font-weight: bold; text-align: right;\"></th><th title = \"Float64\" style = \"text-align: left;\">Float64</th><th title = \"Float64\" style = \"text-align: left;\">Float64</th><th title = \"Float64\" style = \"text-align: left;\">Float64</th><th title = \"Float64\" style = \"text-align: left;\">Float64</th><th title = \"Float64\" style = \"text-align: left;\">Float64</th><th title = \"Float64\" style = \"text-align: left;\">Float64</th><th title = \"Float64\" style = \"text-align: left;\">Float64</th><th title = \"Float64\" style = \"text-align: left;\">Float64</th><th title = \"Float64\" style = \"text-align: left;\">Float64</th><th title = \"Float64\" style = \"text-align: left;\">Float64</th><th title = \"Float64\" style = \"text-align: left;\">Float64</th><th title = \"Float64\" style = \"text-align: left;\">Float64</th><th title = \"Float64\" style = \"text-align: left;\">Float64</th><th title = \"Float64\" style = \"text-align: left;\">Float64</th><th title = \"Float64\" style = \"text-align: left;\">Float64</th><th title = \"Float64\" style = \"text-align: left;\">Float64</th><th title = \"Float64\" style = \"text-align: left;\">Float64</th><th title = \"Float64\" style = \"text-align: left;\">Float64</th><th title = \"Float64\" style = \"text-align: left;\">Float64</th><th title = \"Float64\" style = \"text-align: left;\">Float64</th><th title = \"Float64\" style = \"text-align: left;\">Float64</th><th title = \"Float64\" style = \"text-align: left;\">Float64</th><th title = \"Float64\" style = \"text-align: left;\">Float64</th><th title = \"Float64\" style = \"text-align: left;\">Float64</th><th title = \"Float64\" style = \"text-align: left;\">Float64</th><th title = \"Float64\" style = \"text-align: left;\">Float64</th><th title = \"Float64\" style = \"text-align: left;\">Float64</th><th title = \"Float64\" style = \"text-align: left;\">Float64</th><th title = \"Float64\" style = \"text-align: left;\">Float64</th><th title = \"Float64\" style = \"text-align: left;\">Float64</th></tr></thead><tbody><tr><td class = \"rowNumber\" style = \"font-weight: bold; text-align: right;\">1</td><td style = \"text-align: right;\">0.0</td><td style = \"text-align: right;\">-1.35981</td><td style = \"text-align: right;\">-0.0727812</td><td style = \"text-align: right;\">2.53635</td><td style = \"text-align: right;\">1.37816</td><td style = \"text-align: right;\">-0.338321</td><td style = \"text-align: right;\">0.462388</td><td style = \"text-align: right;\">0.239599</td><td style = \"text-align: right;\">0.0986979</td><td style = \"text-align: right;\">0.363787</td><td style = \"text-align: right;\">0.0907942</td><td style = \"text-align: right;\">-0.5516</td><td style = \"text-align: right;\">-0.617801</td><td style = \"text-align: right;\">-0.99139</td><td style = \"text-align: right;\">-0.311169</td><td style = \"text-align: right;\">1.46818</td><td style = \"text-align: right;\">-0.470401</td><td style = \"text-align: right;\">0.207971</td><td style = \"text-align: right;\">0.0257906</td><td style = \"text-align: right;\">0.403993</td><td style = \"text-align: right;\">0.251412</td><td style = \"text-align: right;\">-0.0183068</td><td style = \"text-align: right;\">0.277838</td><td style = \"text-align: right;\">-0.110474</td><td style = \"text-align: right;\">0.0669281</td><td style = \"text-align: right;\">0.128539</td><td style = \"text-align: right;\">-0.189115</td><td style = \"text-align: right;\">0.133558</td><td style = \"text-align: right;\">-0.0210531</td><td style = \"text-align: right;\">149.62</td></tr><tr><td class = \"rowNumber\" style = \"font-weight: bold; text-align: right;\">2</td><td style = \"text-align: right;\">0.0</td><td style = \"text-align: right;\">1.19186</td><td style = \"text-align: right;\">0.266151</td><td style = \"text-align: right;\">0.16648</td><td style = \"text-align: right;\">0.448154</td><td style = \"text-align: right;\">0.0600176</td><td style = \"text-align: right;\">-0.0823608</td><td style = \"text-align: right;\">-0.078803</td><td style = \"text-align: right;\">0.0851017</td><td style = \"text-align: right;\">-0.255425</td><td style = \"text-align: right;\">-0.166974</td><td style = \"text-align: right;\">1.61273</td><td style = \"text-align: right;\">1.06524</td><td style = \"text-align: right;\">0.489095</td><td style = \"text-align: right;\">-0.143772</td><td style = \"text-align: right;\">0.635558</td><td style = \"text-align: right;\">0.463917</td><td style = \"text-align: right;\">-0.114805</td><td style = \"text-align: right;\">-0.183361</td><td style = \"text-align: right;\">-0.145783</td><td style = \"text-align: right;\">-0.0690831</td><td style = \"text-align: right;\">-0.225775</td><td style = \"text-align: right;\">-0.638672</td><td style = \"text-align: right;\">0.101288</td><td style = \"text-align: right;\">-0.339846</td><td style = \"text-align: right;\">0.16717</td><td style = \"text-align: right;\">0.125895</td><td style = \"text-align: right;\">-0.0089831</td><td style = \"text-align: right;\">0.0147242</td><td style = \"text-align: right;\">2.69</td></tr><tr><td class = \"rowNumber\" style = \"font-weight: bold; text-align: right;\">3</td><td style = \"text-align: right;\">1.0</td><td style = \"text-align: right;\">-1.35835</td><td style = \"text-align: right;\">-1.34016</td><td style = \"text-align: right;\">1.77321</td><td style = \"text-align: right;\">0.37978</td><td style = \"text-align: right;\">-0.503198</td><td style = \"text-align: right;\">1.8005</td><td style = \"text-align: right;\">0.791461</td><td style = \"text-align: right;\">0.247676</td><td style = \"text-align: right;\">-1.51465</td><td style = \"text-align: right;\">0.207643</td><td style = \"text-align: right;\">0.624501</td><td style = \"text-align: right;\">0.0660837</td><td style = \"text-align: right;\">0.717293</td><td style = \"text-align: right;\">-0.165946</td><td style = \"text-align: right;\">2.34586</td><td style = \"text-align: right;\">-2.89008</td><td style = \"text-align: right;\">1.10997</td><td style = \"text-align: right;\">-0.121359</td><td style = \"text-align: right;\">-2.26186</td><td style = \"text-align: right;\">0.52498</td><td style = \"text-align: right;\">0.247998</td><td style = \"text-align: right;\">0.771679</td><td style = \"text-align: right;\">0.909412</td><td style = \"text-align: right;\">-0.689281</td><td style = \"text-align: right;\">-0.327642</td><td style = \"text-align: right;\">-0.139097</td><td style = \"text-align: right;\">-0.0553528</td><td style = \"text-align: right;\">-0.0597518</td><td style = \"text-align: right;\">378.66</td></tr><tr><td class = \"rowNumber\" style = \"font-weight: bold; text-align: right;\">4</td><td style = \"text-align: right;\">1.0</td><td style = \"text-align: right;\">-0.966272</td><td style = \"text-align: right;\">-0.185226</td><td style = \"text-align: right;\">1.79299</td><td style = \"text-align: right;\">-0.863291</td><td style = \"text-align: right;\">-0.0103089</td><td style = \"text-align: right;\">1.2472</td><td style = \"text-align: right;\">0.237609</td><td style = \"text-align: right;\">0.377436</td><td style = \"text-align: right;\">-1.38702</td><td style = \"text-align: right;\">-0.0549519</td><td style = \"text-align: right;\">-0.226487</td><td style = \"text-align: right;\">0.178228</td><td style = \"text-align: right;\">0.507757</td><td style = \"text-align: right;\">-0.287924</td><td style = \"text-align: right;\">-0.631418</td><td style = \"text-align: right;\">-1.05965</td><td style = \"text-align: right;\">-0.684093</td><td style = \"text-align: right;\">1.96578</td><td style = \"text-align: right;\">-1.23262</td><td style = \"text-align: right;\">-0.208038</td><td style = \"text-align: right;\">-0.1083</td><td style = \"text-align: right;\">0.0052736</td><td style = \"text-align: right;\">-0.190321</td><td style = \"text-align: right;\">-1.17558</td><td style = \"text-align: right;\">0.647376</td><td style = \"text-align: right;\">-0.221929</td><td style = \"text-align: right;\">0.0627228</td><td style = \"text-align: right;\">0.0614576</td><td style = \"text-align: right;\">123.5</td></tr><tr><td class = \"rowNumber\" style = \"font-weight: bold; text-align: right;\">5</td><td style = \"text-align: right;\">2.0</td><td style = \"text-align: right;\">-1.15823</td><td style = \"text-align: right;\">0.877737</td><td style = \"text-align: right;\">1.54872</td><td style = \"text-align: right;\">0.403034</td><td style = \"text-align: right;\">-0.407193</td><td style = \"text-align: right;\">0.0959215</td><td style = \"text-align: right;\">0.592941</td><td style = \"text-align: right;\">-0.270533</td><td style = \"text-align: right;\">0.817739</td><td style = \"text-align: right;\">0.753074</td><td style = \"text-align: right;\">-0.822843</td><td style = \"text-align: right;\">0.538196</td><td style = \"text-align: right;\">1.34585</td><td style = \"text-align: right;\">-1.11967</td><td style = \"text-align: right;\">0.175121</td><td style = \"text-align: right;\">-0.451449</td><td style = \"text-align: right;\">-0.237033</td><td style = \"text-align: right;\">-0.0381948</td><td style = \"text-align: right;\">0.803487</td><td style = \"text-align: right;\">0.408542</td><td style = \"text-align: right;\">-0.0094307</td><td style = \"text-align: right;\">0.798278</td><td style = \"text-align: right;\">-0.137458</td><td style = \"text-align: right;\">0.141267</td><td style = \"text-align: right;\">-0.20601</td><td style = \"text-align: right;\">0.502292</td><td style = \"text-align: right;\">0.219422</td><td style = \"text-align: right;\">0.215153</td><td style = \"text-align: right;\">69.99</td></tr><tr><td class = \"rowNumber\" style = \"font-weight: bold; text-align: right;\">6</td><td style = \"text-align: right;\">2.0</td><td style = \"text-align: right;\">-0.425966</td><td style = \"text-align: right;\">0.960523</td><td style = \"text-align: right;\">1.14111</td><td style = \"text-align: right;\">-0.168252</td><td style = \"text-align: right;\">0.420987</td><td style = \"text-align: right;\">-0.0297276</td><td style = \"text-align: right;\">0.476201</td><td style = \"text-align: right;\">0.260314</td><td style = \"text-align: right;\">-0.568671</td><td style = \"text-align: right;\">-0.371407</td><td style = \"text-align: right;\">1.34126</td><td style = \"text-align: right;\">0.359894</td><td style = \"text-align: right;\">-0.358091</td><td style = \"text-align: right;\">-0.137134</td><td style = \"text-align: right;\">0.517617</td><td style = \"text-align: right;\">0.401726</td><td style = \"text-align: right;\">-0.0581328</td><td style = \"text-align: right;\">0.0686531</td><td style = \"text-align: right;\">-0.0331938</td><td style = \"text-align: right;\">0.0849677</td><td style = \"text-align: right;\">-0.208254</td><td style = \"text-align: right;\">-0.559825</td><td style = \"text-align: right;\">-0.0263977</td><td style = \"text-align: right;\">-0.371427</td><td style = \"text-align: right;\">-0.232794</td><td style = \"text-align: right;\">0.105915</td><td style = \"text-align: right;\">0.253844</td><td style = \"text-align: right;\">0.0810803</td><td style = \"text-align: right;\">3.67</td></tr><tr><td class = \"rowNumber\" style = \"font-weight: bold; text-align: right;\">7</td><td style = \"text-align: right;\">4.0</td><td style = \"text-align: right;\">1.22966</td><td style = \"text-align: right;\">0.141004</td><td style = \"text-align: right;\">0.0453708</td><td style = \"text-align: right;\">1.20261</td><td style = \"text-align: right;\">0.191881</td><td style = \"text-align: right;\">0.272708</td><td style = \"text-align: right;\">-0.005159</td><td style = \"text-align: right;\">0.0812129</td><td style = \"text-align: right;\">0.46496</td><td style = \"text-align: right;\">-0.0992543</td><td style = \"text-align: right;\">-1.41691</td><td style = \"text-align: right;\">-0.153826</td><td style = \"text-align: right;\">-0.751063</td><td style = \"text-align: right;\">0.167372</td><td style = \"text-align: right;\">0.0501436</td><td style = \"text-align: right;\">-0.443587</td><td style = \"text-align: right;\">0.00282051</td><td style = \"text-align: right;\">-0.611987</td><td style = \"text-align: right;\">-0.045575</td><td style = \"text-align: right;\">-0.219633</td><td style = \"text-align: right;\">-0.167716</td><td style = \"text-align: right;\">-0.27071</td><td style = \"text-align: right;\">-0.154104</td><td style = \"text-align: right;\">-0.780055</td><td style = \"text-align: right;\">0.750137</td><td style = \"text-align: right;\">-0.257237</td><td style = \"text-align: right;\">0.0345074</td><td style = \"text-align: right;\">0.00516777</td><td style = \"text-align: right;\">4.99</td></tr><tr><td class = \"rowNumber\" style = \"font-weight: bold; text-align: right;\">8</td><td style = \"text-align: right;\">7.0</td><td style = \"text-align: right;\">-0.644269</td><td style = \"text-align: right;\">1.41796</td><td style = \"text-align: right;\">1.07438</td><td style = \"text-align: right;\">-0.492199</td><td style = \"text-align: right;\">0.948934</td><td style = \"text-align: right;\">0.428118</td><td style = \"text-align: right;\">1.12063</td><td style = \"text-align: right;\">-3.80786</td><td style = \"text-align: right;\">0.615375</td><td style = \"text-align: right;\">1.24938</td><td style = \"text-align: right;\">-0.619468</td><td style = \"text-align: right;\">0.291474</td><td style = \"text-align: right;\">1.75796</td><td style = \"text-align: right;\">-1.32387</td><td style = \"text-align: right;\">0.686133</td><td style = \"text-align: right;\">-0.076127</td><td style = \"text-align: right;\">-1.22213</td><td style = \"text-align: right;\">-0.358222</td><td style = \"text-align: right;\">0.324505</td><td style = \"text-align: right;\">-0.156742</td><td style = \"text-align: right;\">1.94347</td><td style = \"text-align: right;\">-1.01545</td><td style = \"text-align: right;\">0.0575035</td><td style = \"text-align: right;\">-0.649709</td><td style = \"text-align: right;\">-0.415267</td><td style = \"text-align: right;\">-0.0516343</td><td style = \"text-align: right;\">-1.20692</td><td style = \"text-align: right;\">-1.08534</td><td style = \"text-align: right;\">40.8</td></tr><tr><td class = \"rowNumber\" style = \"font-weight: bold; text-align: right;\">9</td><td style = \"text-align: right;\">7.0</td><td style = \"text-align: right;\">-0.894286</td><td style = \"text-align: right;\">0.286157</td><td style = \"text-align: right;\">-0.113192</td><td style = \"text-align: right;\">-0.271526</td><td style = \"text-align: right;\">2.6696</td><td style = \"text-align: right;\">3.72182</td><td style = \"text-align: right;\">0.370145</td><td style = \"text-align: right;\">0.851084</td><td style = \"text-align: right;\">-0.392048</td><td style = \"text-align: right;\">-0.41043</td><td style = \"text-align: right;\">-0.705117</td><td style = \"text-align: right;\">-0.110452</td><td style = \"text-align: right;\">-0.286254</td><td style = \"text-align: right;\">0.0743554</td><td style = \"text-align: right;\">-0.328783</td><td style = \"text-align: right;\">-0.210077</td><td style = \"text-align: right;\">-0.499768</td><td style = \"text-align: right;\">0.118765</td><td style = \"text-align: right;\">0.570328</td><td style = \"text-align: right;\">0.0527357</td><td style = \"text-align: right;\">-0.0734251</td><td style = \"text-align: right;\">-0.268092</td><td style = \"text-align: right;\">-0.204233</td><td style = \"text-align: right;\">1.01159</td><td style = \"text-align: right;\">0.373205</td><td style = \"text-align: right;\">-0.384157</td><td style = \"text-align: right;\">0.0117474</td><td style = \"text-align: right;\">0.142404</td><td style = \"text-align: right;\">93.2</td></tr><tr><td class = \"rowNumber\" style = \"font-weight: bold; text-align: right;\">10</td><td style = \"text-align: right;\">9.0</td><td style = \"text-align: right;\">-0.338262</td><td style = \"text-align: right;\">1.11959</td><td style = \"text-align: right;\">1.04437</td><td style = \"text-align: right;\">-0.222187</td><td style = \"text-align: right;\">0.499361</td><td style = \"text-align: right;\">-0.246761</td><td style = \"text-align: right;\">0.651583</td><td style = \"text-align: right;\">0.0695386</td><td style = \"text-align: right;\">-0.736727</td><td style = \"text-align: right;\">-0.366846</td><td style = \"text-align: right;\">1.01761</td><td style = \"text-align: right;\">0.83639</td><td style = \"text-align: right;\">1.00684</td><td style = \"text-align: right;\">-0.443523</td><td style = \"text-align: right;\">0.150219</td><td style = \"text-align: right;\">0.739453</td><td style = \"text-align: right;\">-0.54098</td><td style = \"text-align: right;\">0.476677</td><td style = \"text-align: right;\">0.451773</td><td style = \"text-align: right;\">0.203711</td><td style = \"text-align: right;\">-0.246914</td><td style = \"text-align: right;\">-0.633753</td><td style = \"text-align: right;\">-0.120794</td><td style = \"text-align: right;\">-0.38505</td><td style = \"text-align: right;\">-0.069733</td><td style = \"text-align: right;\">0.0941988</td><td style = \"text-align: right;\">0.246219</td><td style = \"text-align: right;\">0.0830756</td><td style = \"text-align: right;\">3.68</td></tr><tr><td class = \"rowNumber\" style = \"font-weight: bold; text-align: right;\">11</td><td style = \"text-align: right;\">10.0</td><td style = \"text-align: right;\">1.44904</td><td style = \"text-align: right;\">-1.17634</td><td style = \"text-align: right;\">0.91386</td><td style = \"text-align: right;\">-1.37567</td><td style = \"text-align: right;\">-1.97138</td><td style = \"text-align: right;\">-0.629152</td><td style = \"text-align: right;\">-1.42324</td><td style = \"text-align: right;\">0.0484559</td><td style = \"text-align: right;\">-1.72041</td><td style = \"text-align: right;\">1.62666</td><td style = \"text-align: right;\">1.19964</td><td style = \"text-align: right;\">-0.67144</td><td style = \"text-align: right;\">-0.513947</td><td style = \"text-align: right;\">-0.095045</td><td style = \"text-align: right;\">0.23093</td><td style = \"text-align: right;\">0.0319675</td><td style = \"text-align: right;\">0.253415</td><td style = \"text-align: right;\">0.854344</td><td style = \"text-align: right;\">-0.221365</td><td style = \"text-align: right;\">-0.387226</td><td style = \"text-align: right;\">-0.0093019</td><td style = \"text-align: right;\">0.313894</td><td style = \"text-align: right;\">0.0277402</td><td style = \"text-align: right;\">0.500512</td><td style = \"text-align: right;\">0.251367</td><td style = \"text-align: right;\">-0.129478</td><td style = \"text-align: right;\">0.0428499</td><td style = \"text-align: right;\">0.0162533</td><td style = \"text-align: right;\">7.8</td></tr><tr><td class = \"rowNumber\" style = \"font-weight: bold; text-align: right;\">12</td><td style = \"text-align: right;\">10.0</td><td style = \"text-align: right;\">0.384978</td><td style = \"text-align: right;\">0.616109</td><td style = \"text-align: right;\">-0.8743</td><td style = \"text-align: right;\">-0.0940186</td><td style = \"text-align: right;\">2.92458</td><td style = \"text-align: right;\">3.31703</td><td style = \"text-align: right;\">0.470455</td><td style = \"text-align: right;\">0.538247</td><td style = \"text-align: right;\">-0.558895</td><td style = \"text-align: right;\">0.309755</td><td style = \"text-align: right;\">-0.259116</td><td style = \"text-align: right;\">-0.326143</td><td style = \"text-align: right;\">-0.0900467</td><td style = \"text-align: right;\">0.362832</td><td style = \"text-align: right;\">0.928904</td><td style = \"text-align: right;\">-0.129487</td><td style = \"text-align: right;\">-0.809979</td><td style = \"text-align: right;\">0.359985</td><td style = \"text-align: right;\">0.707664</td><td style = \"text-align: right;\">0.125992</td><td style = \"text-align: right;\">0.0499237</td><td style = \"text-align: right;\">0.238422</td><td style = \"text-align: right;\">0.00912987</td><td style = \"text-align: right;\">0.99671</td><td style = \"text-align: right;\">-0.767315</td><td style = \"text-align: right;\">-0.492208</td><td style = \"text-align: right;\">0.0424724</td><td style = \"text-align: right;\">-0.0543374</td><td style = \"text-align: right;\">9.99</td></tr><tr><td class = \"rowNumber\" style = \"font-weight: bold; text-align: right;\">13</td><td style = \"text-align: right;\">10.0</td><td style = \"text-align: right;\">1.25</td><td style = \"text-align: right;\">-1.22164</td><td style = \"text-align: right;\">0.38393</td><td style = \"text-align: right;\">-1.2349</td><td style = \"text-align: right;\">-1.48542</td><td style = \"text-align: right;\">-0.75323</td><td style = \"text-align: right;\">-0.689405</td><td style = \"text-align: right;\">-0.227487</td><td style = \"text-align: right;\">-2.09401</td><td style = \"text-align: right;\">1.32373</td><td style = \"text-align: right;\">0.227666</td><td style = \"text-align: right;\">-0.242682</td><td style = \"text-align: right;\">1.20542</td><td style = \"text-align: right;\">-0.317631</td><td style = \"text-align: right;\">0.725675</td><td style = \"text-align: right;\">-0.815612</td><td style = \"text-align: right;\">0.873936</td><td style = \"text-align: right;\">-0.847789</td><td style = \"text-align: right;\">-0.683193</td><td style = \"text-align: right;\">-0.102756</td><td style = \"text-align: right;\">-0.231809</td><td style = \"text-align: right;\">-0.483285</td><td style = \"text-align: right;\">0.0846677</td><td style = \"text-align: right;\">0.392831</td><td style = \"text-align: right;\">0.161135</td><td style = \"text-align: right;\">-0.35499</td><td style = \"text-align: right;\">0.0264155</td><td style = \"text-align: right;\">0.0424221</td><td style = \"text-align: right;\">121.5</td></tr><tr><td style = \"text-align: right;\">&vellip;</td><td style = \"text-align: right;\">&vellip;</td><td style = \"text-align: right;\">&vellip;</td><td style = \"text-align: right;\">&vellip;</td><td style = \"text-align: right;\">&vellip;</td><td style = \"text-align: right;\">&vellip;</td><td style = \"text-align: right;\">&vellip;</td><td style = \"text-align: right;\">&vellip;</td><td style = \"text-align: right;\">&vellip;</td><td style = \"text-align: right;\">&vellip;</td><td style = \"text-align: right;\">&vellip;</td><td style = \"text-align: right;\">&vellip;</td><td style = \"text-align: right;\">&vellip;</td><td style = \"text-align: right;\">&vellip;</td><td style = \"text-align: right;\">&vellip;</td><td style = \"text-align: right;\">&vellip;</td><td style = \"text-align: right;\">&vellip;</td><td style = \"text-align: right;\">&vellip;</td><td style = \"text-align: right;\">&vellip;</td><td style = \"text-align: right;\">&vellip;</td><td style = \"text-align: right;\">&vellip;</td><td style = \"text-align: right;\">&vellip;</td><td style = \"text-align: right;\">&vellip;</td><td style = \"text-align: right;\">&vellip;</td><td style = \"text-align: right;\">&vellip;</td><td style = \"text-align: right;\">&vellip;</td><td style = \"text-align: right;\">&vellip;</td><td style = \"text-align: right;\">&vellip;</td><td style = \"text-align: right;\">&vellip;</td><td style = \"text-align: right;\">&vellip;</td><td style = \"text-align: right;\">&vellip;</td></tr><tr><td class = \"rowNumber\" style = \"font-weight: bold; text-align: right;\">283715</td><td style = \"text-align: right;\">172778.0</td><td style = \"text-align: right;\">-12.5167</td><td style = \"text-align: right;\">10.1878</td><td style = \"text-align: right;\">-8.47667</td><td style = \"text-align: right;\">-2.51047</td><td style = \"text-align: right;\">-4.58667</td><td style = \"text-align: right;\">-1.39446</td><td style = \"text-align: right;\">-3.63252</td><td style = \"text-align: right;\">5.49858</td><td style = \"text-align: right;\">4.89309</td><td style = \"text-align: right;\">8.65532</td><td style = \"text-align: right;\">-1.05236</td><td style = \"text-align: right;\">2.83486</td><td style = \"text-align: right;\">1.08814</td><td style = \"text-align: right;\">1.2884</td><td style = \"text-align: right;\">-0.931503</td><td style = \"text-align: right;\">1.06786</td><td style = \"text-align: right;\">0.586179</td><td style = \"text-align: right;\">-0.0855241</td><td style = \"text-align: right;\">-0.571605</td><td style = \"text-align: right;\">3.49007</td><td style = \"text-align: right;\">-0.944759</td><td style = \"text-align: right;\">-1.56503</td><td style = \"text-align: right;\">0.890675</td><td style = \"text-align: right;\">-1.25328</td><td style = \"text-align: right;\">1.78672</td><td style = \"text-align: right;\">0.320763</td><td style = \"text-align: right;\">2.09071</td><td style = \"text-align: right;\">1.23286</td><td style = \"text-align: right;\">9.87</td></tr><tr><td class = \"rowNumber\" style = \"font-weight: bold; text-align: right;\">283716</td><td style = \"text-align: right;\">172780.0</td><td style = \"text-align: right;\">1.88485</td><td style = \"text-align: right;\">-0.14354</td><td style = \"text-align: right;\">-0.999943</td><td style = \"text-align: right;\">1.50677</td><td style = \"text-align: right;\">-0.0352995</td><td style = \"text-align: right;\">-0.613638</td><td style = \"text-align: right;\">0.190241</td><td style = \"text-align: right;\">-0.249058</td><td style = \"text-align: right;\">0.666458</td><td style = \"text-align: right;\">0.120908</td><td style = \"text-align: right;\">-1.13418</td><td style = \"text-align: right;\">0.677729</td><td style = \"text-align: right;\">0.345928</td><td style = \"text-align: right;\">0.00201925</td><td style = \"text-align: right;\">-0.679626</td><td style = \"text-align: right;\">-0.549982</td><td style = \"text-align: right;\">-0.19995</td><td style = \"text-align: right;\">-0.420551</td><td style = \"text-align: right;\">-0.283278</td><td style = \"text-align: right;\">-0.153997</td><td style = \"text-align: right;\">0.144008</td><td style = \"text-align: right;\">0.634646</td><td style = \"text-align: right;\">-0.0421142</td><td style = \"text-align: right;\">-0.0532056</td><td style = \"text-align: right;\">0.316403</td><td style = \"text-align: right;\">-0.461441</td><td style = \"text-align: right;\">0.0182648</td><td style = \"text-align: right;\">-0.0410684</td><td style = \"text-align: right;\">60.0</td></tr><tr><td class = \"rowNumber\" style = \"font-weight: bold; text-align: right;\">283717</td><td style = \"text-align: right;\">172782.0</td><td style = \"text-align: right;\">-0.241923</td><td style = \"text-align: right;\">0.712247</td><td style = \"text-align: right;\">0.399806</td><td style = \"text-align: right;\">-0.463406</td><td style = \"text-align: right;\">0.244531</td><td style = \"text-align: right;\">-1.34367</td><td style = \"text-align: right;\">0.929369</td><td style = \"text-align: right;\">-0.20621</td><td style = \"text-align: right;\">0.106234</td><td style = \"text-align: right;\">-0.284708</td><td style = \"text-align: right;\">-0.612982</td><td style = \"text-align: right;\">-0.0666547</td><td style = \"text-align: right;\">-0.732987</td><td style = \"text-align: right;\">0.237948</td><td style = \"text-align: right;\">-0.293959</td><td style = \"text-align: right;\">-0.245496</td><td style = \"text-align: right;\">-0.174846</td><td style = \"text-align: right;\">-0.891169</td><td style = \"text-align: right;\">-0.290491</td><td style = \"text-align: right;\">-0.139512</td><td style = \"text-align: right;\">-0.228876</td><td style = \"text-align: right;\">-0.514376</td><td style = \"text-align: right;\">0.279598</td><td style = \"text-align: right;\">0.371441</td><td style = \"text-align: right;\">-0.559238</td><td style = \"text-align: right;\">0.113144</td><td style = \"text-align: right;\">0.131507</td><td style = \"text-align: right;\">0.0812651</td><td style = \"text-align: right;\">5.49</td></tr><tr><td class = \"rowNumber\" style = \"font-weight: bold; text-align: right;\">283718</td><td style = \"text-align: right;\">172782.0</td><td style = \"text-align: right;\">0.219529</td><td style = \"text-align: right;\">0.881246</td><td style = \"text-align: right;\">-0.635891</td><td style = \"text-align: right;\">0.960928</td><td style = \"text-align: right;\">-0.152971</td><td style = \"text-align: right;\">-1.01431</td><td style = \"text-align: right;\">0.427126</td><td style = \"text-align: right;\">0.12134</td><td style = \"text-align: right;\">-0.28567</td><td style = \"text-align: right;\">-0.11164</td><td style = \"text-align: right;\">-1.10923</td><td style = \"text-align: right;\">-0.453235</td><td style = \"text-align: right;\">-1.04695</td><td style = \"text-align: right;\">1.12267</td><td style = \"text-align: right;\">1.24352</td><td style = \"text-align: right;\">-1.4319</td><td style = \"text-align: right;\">0.939328</td><td style = \"text-align: right;\">-0.00237255</td><td style = \"text-align: right;\">2.89495</td><td style = \"text-align: right;\">0.00666603</td><td style = \"text-align: right;\">0.0999359</td><td style = \"text-align: right;\">0.33712</td><td style = \"text-align: right;\">0.251791</td><td style = \"text-align: right;\">0.0576878</td><td style = \"text-align: right;\">-1.50837</td><td style = \"text-align: right;\">0.144023</td><td style = \"text-align: right;\">0.181205</td><td style = \"text-align: right;\">0.215243</td><td style = \"text-align: right;\">24.05</td></tr><tr><td class = \"rowNumber\" style = \"font-weight: bold; text-align: right;\">283719</td><td style = \"text-align: right;\">172783.0</td><td style = \"text-align: right;\">-1.77513</td><td style = \"text-align: right;\">-0.0042354</td><td style = \"text-align: right;\">1.18979</td><td style = \"text-align: right;\">0.331096</td><td style = \"text-align: right;\">1.19606</td><td style = \"text-align: right;\">5.51998</td><td style = \"text-align: right;\">-1.51818</td><td style = \"text-align: right;\">2.08083</td><td style = \"text-align: right;\">1.1595</td><td style = \"text-align: right;\">-0.594242</td><td style = \"text-align: right;\">-1.26407</td><td style = \"text-align: right;\">0.453596</td><td style = \"text-align: right;\">-0.243142</td><td style = \"text-align: right;\">-0.858719</td><td style = \"text-align: right;\">-0.766554</td><td style = \"text-align: right;\">-0.644646</td><td style = \"text-align: right;\">0.447184</td><td style = \"text-align: right;\">0.388721</td><td style = \"text-align: right;\">0.792135</td><td style = \"text-align: right;\">0.348176</td><td style = \"text-align: right;\">0.103302</td><td style = \"text-align: right;\">0.65485</td><td style = \"text-align: right;\">-0.348929</td><td style = \"text-align: right;\">0.745323</td><td style = \"text-align: right;\">0.704545</td><td style = \"text-align: right;\">-0.127579</td><td style = \"text-align: right;\">0.454379</td><td style = \"text-align: right;\">0.130308</td><td style = \"text-align: right;\">79.99</td></tr><tr><td class = \"rowNumber\" style = \"font-weight: bold; text-align: right;\">283720</td><td style = \"text-align: right;\">172784.0</td><td style = \"text-align: right;\">2.03956</td><td style = \"text-align: right;\">-0.175233</td><td style = \"text-align: right;\">-1.19683</td><td style = \"text-align: right;\">0.23458</td><td style = \"text-align: right;\">-0.0087133</td><td style = \"text-align: right;\">-0.726571</td><td style = \"text-align: right;\">0.0170496</td><td style = \"text-align: right;\">-0.118228</td><td style = \"text-align: right;\">0.435402</td><td style = \"text-align: right;\">0.267772</td><td style = \"text-align: right;\">0.523316</td><td style = \"text-align: right;\">0.559047</td><td style = \"text-align: right;\">-0.83466</td><td style = \"text-align: right;\">0.626211</td><td style = \"text-align: right;\">-0.541494</td><td style = \"text-align: right;\">0.225361</td><td style = \"text-align: right;\">-0.605252</td><td style = \"text-align: right;\">-0.163049</td><td style = \"text-align: right;\">0.561695</td><td style = \"text-align: right;\">-0.256922</td><td style = \"text-align: right;\">-0.268048</td><td style = \"text-align: right;\">-0.717211</td><td style = \"text-align: right;\">0.29793</td><td style = \"text-align: right;\">-0.359769</td><td style = \"text-align: right;\">-0.31561</td><td style = \"text-align: right;\">0.201114</td><td style = \"text-align: right;\">-0.0808258</td><td style = \"text-align: right;\">-0.0750705</td><td style = \"text-align: right;\">2.68</td></tr><tr><td class = \"rowNumber\" style = \"font-weight: bold; text-align: right;\">283721</td><td style = \"text-align: right;\">172785.0</td><td style = \"text-align: right;\">0.120316</td><td style = \"text-align: right;\">0.931005</td><td style = \"text-align: right;\">-0.546012</td><td style = \"text-align: right;\">-0.745097</td><td style = \"text-align: right;\">1.13031</td><td style = \"text-align: right;\">-0.235973</td><td style = \"text-align: right;\">0.812722</td><td style = \"text-align: right;\">0.115093</td><td style = \"text-align: right;\">-0.204064</td><td style = \"text-align: right;\">-0.657422</td><td style = \"text-align: right;\">0.644837</td><td style = \"text-align: right;\">0.190916</td><td style = \"text-align: right;\">-0.546329</td><td style = \"text-align: right;\">-0.731707</td><td style = \"text-align: right;\">-0.808036</td><td style = \"text-align: right;\">0.599628</td><td style = \"text-align: right;\">0.0704408</td><td style = \"text-align: right;\">0.37311</td><td style = \"text-align: right;\">0.128904</td><td style = \"text-align: right;\">0.000675833</td><td style = \"text-align: right;\">-0.314205</td><td style = \"text-align: right;\">-0.80852</td><td style = \"text-align: right;\">0.0503427</td><td style = \"text-align: right;\">0.1028</td><td style = \"text-align: right;\">-0.43587</td><td style = \"text-align: right;\">0.124079</td><td style = \"text-align: right;\">0.21794</td><td style = \"text-align: right;\">0.0688033</td><td style = \"text-align: right;\">2.69</td></tr><tr><td class = \"rowNumber\" style = \"font-weight: bold; text-align: right;\">283722</td><td style = \"text-align: right;\">172786.0</td><td style = \"text-align: right;\">-11.8811</td><td style = \"text-align: right;\">10.0718</td><td style = \"text-align: right;\">-9.83478</td><td style = \"text-align: right;\">-2.06666</td><td style = \"text-align: right;\">-5.36447</td><td style = \"text-align: right;\">-2.60684</td><td style = \"text-align: right;\">-4.91822</td><td style = \"text-align: right;\">7.30533</td><td style = \"text-align: right;\">1.91443</td><td style = \"text-align: right;\">4.35617</td><td style = \"text-align: right;\">-1.59311</td><td style = \"text-align: right;\">2.71194</td><td style = \"text-align: right;\">-0.689256</td><td style = \"text-align: right;\">4.62694</td><td style = \"text-align: right;\">-0.924459</td><td style = \"text-align: right;\">1.10764</td><td style = \"text-align: right;\">1.99169</td><td style = \"text-align: right;\">0.510632</td><td style = \"text-align: right;\">-0.68292</td><td style = \"text-align: right;\">1.47583</td><td style = \"text-align: right;\">0.213454</td><td style = \"text-align: right;\">0.111864</td><td style = \"text-align: right;\">1.01448</td><td style = \"text-align: right;\">-0.509348</td><td style = \"text-align: right;\">1.43681</td><td style = \"text-align: right;\">0.250034</td><td style = \"text-align: right;\">0.943651</td><td style = \"text-align: right;\">0.823731</td><td style = \"text-align: right;\">0.77</td></tr><tr><td class = \"rowNumber\" style = \"font-weight: bold; text-align: right;\">283723</td><td style = \"text-align: right;\">172787.0</td><td style = \"text-align: right;\">-0.732789</td><td style = \"text-align: right;\">-0.0550805</td><td style = \"text-align: right;\">2.03503</td><td style = \"text-align: right;\">-0.738589</td><td style = \"text-align: right;\">0.868229</td><td style = \"text-align: right;\">1.05842</td><td style = \"text-align: right;\">0.0243297</td><td style = \"text-align: right;\">0.294869</td><td style = \"text-align: right;\">0.5848</td><td style = \"text-align: right;\">-0.975926</td><td style = \"text-align: right;\">-0.150189</td><td style = \"text-align: right;\">0.915802</td><td style = \"text-align: right;\">1.21476</td><td style = \"text-align: right;\">-0.675143</td><td style = \"text-align: right;\">1.16493</td><td style = \"text-align: right;\">-0.711757</td><td style = \"text-align: right;\">-0.0256929</td><td style = \"text-align: right;\">-1.22118</td><td style = \"text-align: right;\">-1.54556</td><td style = \"text-align: right;\">0.0596159</td><td style = \"text-align: right;\">0.214205</td><td style = \"text-align: right;\">0.924384</td><td style = \"text-align: right;\">0.012463</td><td style = \"text-align: right;\">-1.01623</td><td style = \"text-align: right;\">-0.606624</td><td style = \"text-align: right;\">-0.395255</td><td style = \"text-align: right;\">0.0684725</td><td style = \"text-align: right;\">-0.0535274</td><td style = \"text-align: right;\">24.79</td></tr><tr><td class = \"rowNumber\" style = \"font-weight: bold; text-align: right;\">283724</td><td style = \"text-align: right;\">172788.0</td><td style = \"text-align: right;\">1.91957</td><td style = \"text-align: right;\">-0.301254</td><td style = \"text-align: right;\">-3.24964</td><td style = \"text-align: right;\">-0.557828</td><td style = \"text-align: right;\">2.63052</td><td style = \"text-align: right;\">3.03126</td><td style = \"text-align: right;\">-0.296827</td><td style = \"text-align: right;\">0.708417</td><td style = \"text-align: right;\">0.432454</td><td style = \"text-align: right;\">-0.484782</td><td style = \"text-align: right;\">0.411614</td><td style = \"text-align: right;\">0.0631189</td><td style = \"text-align: right;\">-0.183699</td><td style = \"text-align: right;\">-0.510602</td><td style = \"text-align: right;\">1.32928</td><td style = \"text-align: right;\">0.140716</td><td style = \"text-align: right;\">0.313502</td><td style = \"text-align: right;\">0.395652</td><td style = \"text-align: right;\">-0.577252</td><td style = \"text-align: right;\">0.00139597</td><td style = \"text-align: right;\">0.232045</td><td style = \"text-align: right;\">0.578229</td><td style = \"text-align: right;\">-0.0375009</td><td style = \"text-align: right;\">0.640134</td><td style = \"text-align: right;\">0.265745</td><td style = \"text-align: right;\">-0.0873706</td><td style = \"text-align: right;\">0.00445477</td><td style = \"text-align: right;\">-0.0265608</td><td style = \"text-align: right;\">67.88</td></tr><tr><td class = \"rowNumber\" style = \"font-weight: bold; text-align: right;\">283725</td><td style = \"text-align: right;\">172788.0</td><td style = \"text-align: right;\">-0.24044</td><td style = \"text-align: right;\">0.530483</td><td style = \"text-align: right;\">0.70251</td><td style = \"text-align: right;\">0.689799</td><td style = \"text-align: right;\">-0.377961</td><td style = \"text-align: right;\">0.623708</td><td style = \"text-align: right;\">-0.68618</td><td style = \"text-align: right;\">0.679145</td><td style = \"text-align: right;\">0.392087</td><td style = \"text-align: right;\">-0.399126</td><td style = \"text-align: right;\">-1.93385</td><td style = \"text-align: right;\">-0.962886</td><td style = \"text-align: right;\">-1.04208</td><td style = \"text-align: right;\">0.449624</td><td style = \"text-align: right;\">1.96256</td><td style = \"text-align: right;\">-0.608577</td><td style = \"text-align: right;\">0.509928</td><td style = \"text-align: right;\">1.11398</td><td style = \"text-align: right;\">2.89785</td><td style = \"text-align: right;\">0.127434</td><td style = \"text-align: right;\">0.265245</td><td style = \"text-align: right;\">0.800049</td><td style = \"text-align: right;\">-0.163298</td><td style = \"text-align: right;\">0.123205</td><td style = \"text-align: right;\">-0.569159</td><td style = \"text-align: right;\">0.546668</td><td style = \"text-align: right;\">0.108821</td><td style = \"text-align: right;\">0.104533</td><td style = \"text-align: right;\">10.0</td></tr><tr><td class = \"rowNumber\" style = \"font-weight: bold; text-align: right;\">283726</td><td style = \"text-align: right;\">172792.0</td><td style = \"text-align: right;\">-0.533413</td><td style = \"text-align: right;\">-0.189733</td><td style = \"text-align: right;\">0.703337</td><td style = \"text-align: right;\">-0.506271</td><td style = \"text-align: right;\">-0.0125457</td><td style = \"text-align: right;\">-0.649617</td><td style = \"text-align: right;\">1.57701</td><td style = \"text-align: right;\">-0.41465</td><td style = \"text-align: right;\">0.48618</td><td style = \"text-align: right;\">-0.915427</td><td style = \"text-align: right;\">-1.04046</td><td style = \"text-align: right;\">-0.0315131</td><td style = \"text-align: right;\">-0.188093</td><td style = \"text-align: right;\">-0.0843165</td><td style = \"text-align: right;\">0.0413335</td><td style = \"text-align: right;\">-0.30262</td><td style = \"text-align: right;\">-0.660377</td><td style = \"text-align: right;\">0.16743</td><td style = \"text-align: right;\">-0.256117</td><td style = \"text-align: right;\">0.382948</td><td style = \"text-align: right;\">0.261057</td><td style = \"text-align: right;\">0.643078</td><td style = \"text-align: right;\">0.376777</td><td style = \"text-align: right;\">0.00879738</td><td style = \"text-align: right;\">-0.473649</td><td style = \"text-align: right;\">-0.818267</td><td style = \"text-align: right;\">-0.00241531</td><td style = \"text-align: right;\">0.0136489</td><td style = \"text-align: right;\">217.0</td></tr></tbody></table></div>"
      ],
      "text/latex": [
       "\\begin{tabular}{r|cccccccc}\n",
       "\t& Time & V1 & V2 & V3 & V4 & V5 & V6 & \\\\\n",
       "\t\\hline\n",
       "\t& Float64 & Float64 & Float64 & Float64 & Float64 & Float64 & Float64 & \\\\\n",
       "\t\\hline\n",
       "\t1 & 0.0 & -1.35981 & -0.0727812 & 2.53635 & 1.37816 & -0.338321 & 0.462388 & $\\dots$ \\\\\n",
       "\t2 & 0.0 & 1.19186 & 0.266151 & 0.16648 & 0.448154 & 0.0600176 & -0.0823608 & $\\dots$ \\\\\n",
       "\t3 & 1.0 & -1.35835 & -1.34016 & 1.77321 & 0.37978 & -0.503198 & 1.8005 & $\\dots$ \\\\\n",
       "\t4 & 1.0 & -0.966272 & -0.185226 & 1.79299 & -0.863291 & -0.0103089 & 1.2472 & $\\dots$ \\\\\n",
       "\t5 & 2.0 & -1.15823 & 0.877737 & 1.54872 & 0.403034 & -0.407193 & 0.0959215 & $\\dots$ \\\\\n",
       "\t6 & 2.0 & -0.425966 & 0.960523 & 1.14111 & -0.168252 & 0.420987 & -0.0297276 & $\\dots$ \\\\\n",
       "\t7 & 4.0 & 1.22966 & 0.141004 & 0.0453708 & 1.20261 & 0.191881 & 0.272708 & $\\dots$ \\\\\n",
       "\t8 & 7.0 & -0.644269 & 1.41796 & 1.07438 & -0.492199 & 0.948934 & 0.428118 & $\\dots$ \\\\\n",
       "\t9 & 7.0 & -0.894286 & 0.286157 & -0.113192 & -0.271526 & 2.6696 & 3.72182 & $\\dots$ \\\\\n",
       "\t10 & 9.0 & -0.338262 & 1.11959 & 1.04437 & -0.222187 & 0.499361 & -0.246761 & $\\dots$ \\\\\n",
       "\t11 & 10.0 & 1.44904 & -1.17634 & 0.91386 & -1.37567 & -1.97138 & -0.629152 & $\\dots$ \\\\\n",
       "\t12 & 10.0 & 0.384978 & 0.616109 & -0.8743 & -0.0940186 & 2.92458 & 3.31703 & $\\dots$ \\\\\n",
       "\t13 & 10.0 & 1.25 & -1.22164 & 0.38393 & -1.2349 & -1.48542 & -0.75323 & $\\dots$ \\\\\n",
       "\t14 & 11.0 & 1.06937 & 0.287722 & 0.828613 & 2.71252 & -0.178398 & 0.337544 & $\\dots$ \\\\\n",
       "\t15 & 12.0 & -2.79185 & -0.327771 & 1.64175 & 1.76747 & -0.136588 & 0.807596 & $\\dots$ \\\\\n",
       "\t16 & 12.0 & -0.752417 & 0.345485 & 2.05732 & -1.46864 & -1.15839 & -0.0778498 & $\\dots$ \\\\\n",
       "\t17 & 12.0 & 1.10322 & -0.0402962 & 1.26733 & 1.28909 & -0.735997 & 0.288069 & $\\dots$ \\\\\n",
       "\t18 & 13.0 & -0.436905 & 0.918966 & 0.924591 & -0.727219 & 0.915679 & -0.127867 & $\\dots$ \\\\\n",
       "\t19 & 14.0 & -5.40126 & -5.45015 & 1.1863 & 1.73624 & 3.04911 & -1.76341 & $\\dots$ \\\\\n",
       "\t20 & 15.0 & 1.49294 & -1.02935 & 0.454795 & -1.43803 & -1.55543 & -0.720961 & $\\dots$ \\\\\n",
       "\t21 & 16.0 & 0.694885 & -1.36182 & 1.02922 & 0.834159 & -1.19121 & 1.30911 & $\\dots$ \\\\\n",
       "\t22 & 17.0 & 0.962496 & 0.328461 & -0.171479 & 2.1092 & 1.12957 & 1.69604 & $\\dots$ \\\\\n",
       "\t23 & 18.0 & 1.16662 & 0.50212 & -0.0673003 & 2.26157 & 0.428804 & 0.0894735 & $\\dots$ \\\\\n",
       "\t24 & 18.0 & 0.247491 & 0.277666 & 1.18547 & -0.0926025 & -1.31439 & -0.150116 & $\\dots$ \\\\\n",
       "\t$\\dots$ & $\\dots$ & $\\dots$ & $\\dots$ & $\\dots$ & $\\dots$ & $\\dots$ & $\\dots$ &  \\\\\n",
       "\\end{tabular}\n"
      ],
      "text/plain": [
       "\u001b[1m283726×30 DataFrame\u001b[0m\n",
       "\u001b[1m    Row \u001b[0m│\u001b[1m Time     \u001b[0m\u001b[1m V1         \u001b[0m\u001b[1m V2         \u001b[0m\u001b[1m V3         \u001b[0m\u001b[1m V4        \u001b[0m\u001b[1m V5         \u001b[0m\u001b[1m\u001b[0m ⋯\n",
       "        │\u001b[90m Float64  \u001b[0m\u001b[90m Float64    \u001b[0m\u001b[90m Float64    \u001b[0m\u001b[90m Float64    \u001b[0m\u001b[90m Float64   \u001b[0m\u001b[90m Float64    \u001b[0m\u001b[90m\u001b[0m ⋯\n",
       "────────┼───────────────────────────────────────────────────────────────────────\n",
       "      1 │      0.0   -1.35981   -0.0727812   2.53635     1.37816   -0.338321   ⋯\n",
       "      2 │      0.0    1.19186    0.266151    0.16648     0.448154   0.0600176\n",
       "      3 │      1.0   -1.35835   -1.34016     1.77321     0.37978   -0.503198\n",
       "      4 │      1.0   -0.966272  -0.185226    1.79299    -0.863291  -0.0103089\n",
       "      5 │      2.0   -1.15823    0.877737    1.54872     0.403034  -0.407193   ⋯\n",
       "      6 │      2.0   -0.425966   0.960523    1.14111    -0.168252   0.420987\n",
       "      7 │      4.0    1.22966    0.141004    0.0453708   1.20261    0.191881\n",
       "      8 │      7.0   -0.644269   1.41796     1.07438    -0.492199   0.948934\n",
       "   ⋮    │    ⋮          ⋮           ⋮           ⋮           ⋮          ⋮       ⋱\n",
       " 283720 │ 172784.0    2.03956   -0.175233   -1.19683     0.23458   -0.0087133  ⋯\n",
       " 283721 │ 172785.0    0.120316   0.931005   -0.546012   -0.745097   1.13031\n",
       " 283722 │ 172786.0  -11.8811    10.0718     -9.83478    -2.06666   -5.36447\n",
       " 283723 │ 172787.0   -0.732789  -0.0550805   2.03503    -0.738589   0.868229\n",
       " 283724 │ 172788.0    1.91957   -0.301254   -3.24964    -0.557828   2.63052    ⋯\n",
       " 283725 │ 172788.0   -0.24044    0.530483    0.70251     0.689799  -0.377961\n",
       " 283726 │ 172792.0   -0.533413  -0.189733    0.703337   -0.506271  -0.0125457\n",
       "\u001b[36m                                              24 columns and 283711 rows omitted\u001b[0m"
      ]
     },
     "metadata": {},
     "output_type": "display_data"
    }
   ],
   "source": [
    "X"
   ]
  },
  {
   "cell_type": "code",
   "execution_count": 123,
   "metadata": {},
   "outputs": [
    {
     "data": {
      "text/plain": [
       "56-element Vector{NamedTuple{(:name, :package_name, :is_supervised, :abstract_type, :constructor, :deep_properties, :docstring, :fit_data_scitype, :human_name, :hyperparameter_ranges, :hyperparameter_types, :hyperparameters, :implemented_methods, :inverse_transform_scitype, :is_pure_julia, :is_wrapper, :iteration_parameter, :load_path, :package_license, :package_url, :package_uuid, :predict_scitype, :prediction_type, :reporting_operations, :reports_feature_importances, :supports_class_weights, :supports_online, :supports_training_losses, :supports_weights, :target_in_fit, :transform_scitype, :input_scitype, :target_scitype, :output_scitype)}}:\n",
       " (name = AdaBoostClassifier, package_name = MLJScikitLearnInterface, ... )\n",
       " (name = AdaBoostStumpClassifier, package_name = DecisionTree, ... )\n",
       " (name = BaggingClassifier, package_name = MLJScikitLearnInterface, ... )\n",
       " (name = BayesianLDA, package_name = MLJScikitLearnInterface, ... )\n",
       " (name = BayesianLDA, package_name = MultivariateStats, ... )\n",
       " (name = BayesianQDA, package_name = MLJScikitLearnInterface, ... )\n",
       " (name = BayesianSubspaceLDA, package_name = MultivariateStats, ... )\n",
       " (name = CatBoostClassifier, package_name = CatBoost, ... )\n",
       " (name = ConstantClassifier, package_name = MLJModels, ... )\n",
       " (name = DecisionTreeClassifier, package_name = BetaML, ... )\n",
       " ⋮\n",
       " (name = SGDClassifier, package_name = MLJScikitLearnInterface, ... )\n",
       " (name = SVC, package_name = LIBSVM, ... )\n",
       " (name = SVMClassifier, package_name = MLJScikitLearnInterface, ... )\n",
       " (name = SVMLinearClassifier, package_name = MLJScikitLearnInterface, ... )\n",
       " (name = SVMNuClassifier, package_name = MLJScikitLearnInterface, ... )\n",
       " (name = StableForestClassifier, package_name = SIRUS, ... )\n",
       " (name = StableRulesClassifier, package_name = SIRUS, ... )\n",
       " (name = SubspaceLDA, package_name = MultivariateStats, ... )\n",
       " (name = XGBoostClassifier, package_name = XGBoost, ... )"
      ]
     },
     "metadata": {},
     "output_type": "display_data"
    }
   ],
   "source": [
    "models(matching(X, y))"
   ]
  },
  {
   "cell_type": "code",
   "execution_count": 124,
   "metadata": {},
   "outputs": [
    {
     "data": {
      "text/plain": [
       "6-element Vector{NamedTuple{(:name, :package_name, :is_supervised, :abstract_type, :constructor, :deep_properties, :docstring, :fit_data_scitype, :human_name, :hyperparameter_ranges, :hyperparameter_types, :hyperparameters, :implemented_methods, :inverse_transform_scitype, :is_pure_julia, :is_wrapper, :iteration_parameter, :load_path, :package_license, :package_url, :package_uuid, :predict_scitype, :prediction_type, :reporting_operations, :reports_feature_importances, :supports_class_weights, :supports_online, :supports_training_losses, :supports_weights, :target_in_fit, :transform_scitype, :input_scitype, :target_scitype, :output_scitype)}}:\n",
       " (name = EvoTreeMLE, package_name = EvoTrees, ... )\n",
       " (name = LogisticCVClassifier, package_name = MLJScikitLearnInterface, ... )\n",
       " (name = LogisticClassifier, package_name = MLJLinearModels, ... )\n",
       " (name = LogisticClassifier, package_name = MLJScikitLearnInterface, ... )\n",
       " (name = MultinomialClassifier, package_name = MLJLinearModels, ... )\n",
       " (name = RobustRegressor, package_name = MLJLinearModels, ... )"
      ]
     },
     "metadata": {},
     "output_type": "display_data"
    }
   ],
   "source": [
    "models(\"Logistic\")"
   ]
  },
  {
   "cell_type": "code",
   "execution_count": 132,
   "metadata": {},
   "outputs": [
    {
     "data": {
      "text/plain": [
       "(\u001b[1m212794×31 DataFrame\u001b[0m\n",
       "\u001b[1m    Row \u001b[0m│\u001b[1m Time     \u001b[0m\u001b[1m V1         \u001b[0m\u001b[1m V2         \u001b[0m\u001b[1m V3        \u001b[0m\u001b[1m V4         \u001b[0m\u001b[1m V5         \u001b[0m\u001b[1m\u001b[0m ⋯\n",
       "        │\u001b[90m Float64  \u001b[0m\u001b[90m Float64    \u001b[0m\u001b[90m Float64    \u001b[0m\u001b[90m Float64   \u001b[0m\u001b[90m Float64    \u001b[0m\u001b[90m Float64    \u001b[0m\u001b[90m\u001b[0m ⋯\n",
       "────────┼───────────────────────────────────────────────────────────────────────\n",
       "      1 │  49562.0   0.59037    -2.01247     0.788921  -0.2916     -1.54375    ⋯\n",
       "      2 │  37971.0   1.27981     0.677326   -0.67603    0.911893    0.760736\n",
       "      3 │ 129835.0  -0.0886577   2.83582    -2.96355    5.07747     1.89333\n",
       "      4 │ 147389.0   1.92133    -0.38435    -0.562811   1.22396    -0.437917\n",
       "      5 │ 134629.0  -1.3527     -2.022      -2.29802   -0.354166   -1.80783    ⋯\n",
       "      6 │ 112023.0   2.18556    -0.80918    -3.43578   -1.72912     2.23522\n",
       "      7 │ 113109.0   0.0326985   0.830803    0.121427  -0.680168    0.677764\n",
       "      8 │ 128370.0  -1.31843     0.95351     1.59371    1.33271     0.0144527\n",
       "   ⋮    │    ⋮          ⋮           ⋮           ⋮          ⋮           ⋮       ⋱\n",
       " 212788 │ 168280.0   2.00937     0.519102   -2.37847    1.46097     1.09377    ⋯\n",
       " 212789 │  70808.0   0.997835   -0.771807    1.12739    0.264841   -1.46733\n",
       " 212790 │   4209.0   1.1184      0.255538    0.896717   1.15527    -0.27741\n",
       " 212791 │ 135668.0   0.238894    0.468254    0.237992  -0.0258143   0.0833093\n",
       " 212792 │  43269.0  -1.55441    -0.578136    0.734391  -1.19441    -2.82487    ⋯\n",
       " 212793 │  64981.0   1.16107     0.0921367   0.669054   1.21961    -0.50048\n",
       " 212794 │  43789.0  -0.571967    0.611276    0.845594  -1.2785      0.995565\n",
       "\u001b[36m                                              25 columns and 212779 rows omitted\u001b[0m, \u001b[1m70932×31 DataFrame\u001b[0m\n",
       "\u001b[1m   Row \u001b[0m│\u001b[1m Time     \u001b[0m\u001b[1m V1         \u001b[0m\u001b[1m V2         \u001b[0m\u001b[1m V3        \u001b[0m\u001b[1m V4         \u001b[0m\u001b[1m V5         \u001b[0m\u001b[1m \u001b[0m ⋯\n",
       "       │\u001b[90m Float64  \u001b[0m\u001b[90m Float64    \u001b[0m\u001b[90m Float64    \u001b[0m\u001b[90m Float64   \u001b[0m\u001b[90m Float64    \u001b[0m\u001b[90m Float64    \u001b[0m\u001b[90m \u001b[0m ⋯\n",
       "───────┼────────────────────────────────────────────────────────────────────────\n",
       "     1 │  65748.0  -2.10699    -1.73723     1.12976   -2.49354     0.217604    ⋯\n",
       "     2 │ 143864.0  -1.0251      1.06866     1.157     -0.937724    0.0531704\n",
       "     3 │ 128746.0   1.9535      0.792721   -1.06995    3.84533     0.779075\n",
       "     4 │  42152.0   0.669972   -0.844081    0.617642   1.10534    -0.583056\n",
       "     5 │  60404.0  -1.82076     1.38652     0.932152  -0.551407    1.02499     ⋯\n",
       "     6 │ 159493.0   2.27771    -0.697228   -1.8449    -1.31266     0.182347\n",
       "     7 │  43784.0   0.903929   -0.061827    1.51739    2.77252    -0.160455\n",
       "     8 │ 134324.0   1.86432    -1.0876     -0.960701  -1.11614     0.0623336\n",
       "   ⋮   │    ⋮          ⋮           ⋮           ⋮          ⋮           ⋮        ⋱\n",
       " 70926 │ 111014.0   2.0218      0.0508183  -2.09897    0.0738357   0.777276    ⋯\n",
       " 70927 │ 149436.0   1.38443    -1.34731    -1.64286    0.0700877   0.330543\n",
       " 70928 │  71073.0  -0.940391    0.929038    1.94924    0.842734   -0.637715\n",
       " 70929 │  69473.0  -0.915892    0.634       1.86447   -0.149032    0.620728\n",
       " 70930 │  19780.0   1.28802    -0.295505    0.688362  -0.709518   -0.740265    ⋯\n",
       " 70931 │  48171.0  -0.0766509   1.09409     1.34849    0.750047    0.577826\n",
       " 70932 │ 161503.0   1.97283     0.0498821  -0.714708   1.22792     0.124835\n",
       "\u001b[36m                                               25 columns and 70917 rows omitted\u001b[0m)"
      ]
     },
     "metadata": {},
     "output_type": "display_data"
    }
   ],
   "source": [
    "df_train, df_test = MLJ.partition(df, 0.75, shuffle = true)"
   ]
  },
  {
   "cell_type": "code",
   "execution_count": 135,
   "metadata": {},
   "outputs": [
    {
     "data": {
      "text/plain": [
       "212794-element CategoricalArray{Int64,1,UInt32}:\n",
       " 0\n",
       " 0\n",
       " 0\n",
       " 0\n",
       " 0\n",
       " 0\n",
       " 0\n",
       " 0\n",
       " 0\n",
       " 0\n",
       " ⋮\n",
       " 0\n",
       " 0\n",
       " 0\n",
       " 0\n",
       " 0\n",
       " 0\n",
       " 0\n",
       " 0\n",
       " 0"
      ]
     },
     "metadata": {},
     "output_type": "display_data"
    }
   ],
   "source": [
    "y_train, X_train = unpack(df_train, ==(:Class))\n",
    "y_train = categorical(y_train)"
   ]
  },
  {
   "cell_type": "code",
   "execution_count": 139,
   "metadata": {},
   "outputs": [
    {
     "data": {
      "text/plain": [
       "70932-element CategoricalArray{Int64,1,UInt32}:\n",
       " 0\n",
       " 0\n",
       " 0\n",
       " 0\n",
       " 0\n",
       " 0\n",
       " 0\n",
       " 0\n",
       " 0\n",
       " 0\n",
       " ⋮\n",
       " 0\n",
       " 0\n",
       " 0\n",
       " 0\n",
       " 0\n",
       " 0\n",
       " 0\n",
       " 0\n",
       " 0"
      ]
     },
     "metadata": {},
     "output_type": "display_data"
    }
   ],
   "source": [
    "y_test, X_test = unpack(df_test, ==(:Class))\n",
    "y_test = categorical(y_test)"
   ]
  },
  {
   "cell_type": "code",
   "execution_count": 140,
   "metadata": {},
   "outputs": [
    {
     "data": {
      "text/plain": [
       "56-element Vector{NamedTuple{(:name, :package_name, :is_supervised, :abstract_type, :constructor, :deep_properties, :docstring, :fit_data_scitype, :human_name, :hyperparameter_ranges, :hyperparameter_types, :hyperparameters, :implemented_methods, :inverse_transform_scitype, :is_pure_julia, :is_wrapper, :iteration_parameter, :load_path, :package_license, :package_url, :package_uuid, :predict_scitype, :prediction_type, :reporting_operations, :reports_feature_importances, :supports_class_weights, :supports_online, :supports_training_losses, :supports_weights, :target_in_fit, :transform_scitype, :input_scitype, :target_scitype, :output_scitype)}}:\n",
       " (name = AdaBoostClassifier, package_name = MLJScikitLearnInterface, ... )\n",
       " (name = AdaBoostStumpClassifier, package_name = DecisionTree, ... )\n",
       " (name = BaggingClassifier, package_name = MLJScikitLearnInterface, ... )\n",
       " (name = BayesianLDA, package_name = MLJScikitLearnInterface, ... )\n",
       " (name = BayesianLDA, package_name = MultivariateStats, ... )\n",
       " (name = BayesianQDA, package_name = MLJScikitLearnInterface, ... )\n",
       " (name = BayesianSubspaceLDA, package_name = MultivariateStats, ... )\n",
       " (name = CatBoostClassifier, package_name = CatBoost, ... )\n",
       " (name = ConstantClassifier, package_name = MLJModels, ... )\n",
       " (name = DecisionTreeClassifier, package_name = BetaML, ... )\n",
       " ⋮\n",
       " (name = SGDClassifier, package_name = MLJScikitLearnInterface, ... )\n",
       " (name = SVC, package_name = LIBSVM, ... )\n",
       " (name = SVMClassifier, package_name = MLJScikitLearnInterface, ... )\n",
       " (name = SVMLinearClassifier, package_name = MLJScikitLearnInterface, ... )\n",
       " (name = SVMNuClassifier, package_name = MLJScikitLearnInterface, ... )\n",
       " (name = StableForestClassifier, package_name = SIRUS, ... )\n",
       " (name = StableRulesClassifier, package_name = SIRUS, ... )\n",
       " (name = SubspaceLDA, package_name = MultivariateStats, ... )\n",
       " (name = XGBoostClassifier, package_name = XGBoost, ... )"
      ]
     },
     "metadata": {},
     "output_type": "display_data"
    }
   ],
   "source": [
    "models(matching(X_train, y_train))"
   ]
  },
  {
   "cell_type": "code",
   "execution_count": 141,
   "metadata": {},
   "outputs": [
    {
     "name": "stdout",
     "output_type": "stream",
     "text": [
      "import MLJLinearModels ✔\n"
     ]
    },
    {
     "name": "stderr",
     "output_type": "stream",
     "text": [
      "┌ Info: For silent loading, specify `verbosity=0`. \n",
      "└ @ Main /Users/luwate/.julia/packages/MLJModels/8W54X/src/loading.jl:159\n"
     ]
    },
    {
     "data": {
      "text/plain": [
       "LogisticClassifier"
      ]
     },
     "metadata": {},
     "output_type": "display_data"
    }
   ],
   "source": [
    "logistic_model = @load LogisticClassifier pkg=MLJLinearModels\n"
   ]
  },
  {
   "cell_type": "code",
   "execution_count": 143,
   "metadata": {},
   "outputs": [
    {
     "data": {
      "text/plain": [
       "LogisticClassifier(\n",
       "  lambda = 2.220446049250313e-16, \n",
       "  gamma = 0.0, \n",
       "  penalty = :l2, \n",
       "  fit_intercept = true, \n",
       "  penalize_intercept = false, \n",
       "  scale_penalty_with_samples = true, \n",
       "  solver = nothing)"
      ]
     },
     "metadata": {},
     "output_type": "display_data"
    }
   ],
   "source": [
    "logistic_model = logistic_model()"
   ]
  },
  {
   "cell_type": "code",
   "execution_count": 145,
   "metadata": {},
   "outputs": [
    {
     "data": {
      "text/plain": [
       "untrained Machine; caches model-specific representations of data\n",
       "  model: LogisticClassifier(lambda = 2.220446049250313e-16, …)\n",
       "  args: \n",
       "    1:\tSource @531 ⏎ Table{AbstractVector{Continuous}}\n",
       "    2:\tSource @690 ⏎ AbstractVector{Multiclass{2}}\n"
      ]
     },
     "metadata": {},
     "output_type": "display_data"
    }
   ],
   "source": [
    "model = machine(logistic_model, X_train, y_train)"
   ]
  },
  {
   "cell_type": "code",
   "execution_count": 146,
   "metadata": {},
   "outputs": [
    {
     "name": "stderr",
     "output_type": "stream",
     "text": [
      "┌ Info: Training machine(LogisticClassifier(lambda = 2.220446049250313e-16, …), …).\n",
      "└ @ MLJBase /Users/luwate/.julia/packages/MLJBase/7nGJF/src/machines.jl:499\n",
      "┌ Info: Solver: LBFGS{Optim.Options{Float64, Nothing}, @NamedTuple{}}\n",
      "│   optim_options: Optim.Options{Float64, Nothing}\n",
      "│   lbfgs_options: @NamedTuple{} NamedTuple()\n",
      "└ @ MLJLinearModels /Users/luwate/.julia/packages/MLJLinearModels/yYgtO/src/mlj/interface.jl:72\n"
     ]
    },
    {
     "data": {
      "text/plain": [
       "trained Machine; caches model-specific representations of data\n",
       "  model: LogisticClassifier(lambda = 2.220446049250313e-16, …)\n",
       "  args: \n",
       "    1:\tSource @531 ⏎ Table{AbstractVector{Continuous}}\n",
       "    2:\tSource @690 ⏎ AbstractVector{Multiclass{2}}\n"
      ]
     },
     "metadata": {},
     "output_type": "display_data"
    }
   ],
   "source": [
    "fit!(model)"
   ]
  },
  {
   "cell_type": "code",
   "execution_count": 149,
   "metadata": {},
   "outputs": [
    {
     "data": {
      "text/plain": [
       "212794-element CategoricalDistributions.UnivariateFiniteVector{Multiclass{2}, Int64, UInt32, Float64}:\n",
       " UnivariateFinite{Multiclass{2}}(0=>1.0, 1=>1.51e-5)\n",
       " UnivariateFinite{Multiclass{2}}(0=>0.982, 1=>0.0179)\n",
       " UnivariateFinite{Multiclass{2}}(0=>1.0, 1=>1.01e-6)\n",
       " UnivariateFinite{Multiclass{2}}(0=>1.0, 1=>7.71e-8)\n",
       " UnivariateFinite{Multiclass{2}}(0=>1.0, 1=>8.0e-15)\n",
       " UnivariateFinite{Multiclass{2}}(0=>1.0, 1=>4.96e-6)\n",
       " UnivariateFinite{Multiclass{2}}(0=>1.0, 1=>5.63e-6)\n",
       " UnivariateFinite{Multiclass{2}}(0=>1.0, 1=>1.11e-6)\n",
       " UnivariateFinite{Multiclass{2}}(0=>1.0, 1=>9.56e-7)\n",
       " UnivariateFinite{Multiclass{2}}(0=>1.0, 1=>4.07e-6)\n",
       " ⋮\n",
       " UnivariateFinite{Multiclass{2}}(0=>0.997, 1=>0.00327)\n",
       " UnivariateFinite{Multiclass{2}}(0=>1.0, 1=>7.77e-8)\n",
       " UnivariateFinite{Multiclass{2}}(0=>1.0, 1=>1.39e-8)\n",
       " UnivariateFinite{Multiclass{2}}(0=>1.0, 1=>0.000121)\n",
       " UnivariateFinite{Multiclass{2}}(0=>0.651, 1=>0.349)\n",
       " UnivariateFinite{Multiclass{2}}(0=>1.0, 1=>5.76e-7)\n",
       " UnivariateFinite{Multiclass{2}}(0=>1.0, 1=>6.52e-5)\n",
       " UnivariateFinite{Multiclass{2}}(0=>0.999, 1=>0.000926)\n",
       " UnivariateFinite{Multiclass{2}}(0=>0.999, 1=>0.0013)"
      ]
     },
     "metadata": {},
     "output_type": "display_data"
    }
   ],
   "source": [
    "predictions = predict(model, X_train)"
   ]
  },
  {
   "cell_type": "code",
   "execution_count": 150,
   "metadata": {},
   "outputs": [
    {
     "data": {
      "text/plain": [
       "212794-element CategoricalArray{Int64,1,UInt32}:\n",
       " 0\n",
       " 0\n",
       " 0\n",
       " 0\n",
       " 0\n",
       " 0\n",
       " 0\n",
       " 0\n",
       " 0\n",
       " 0\n",
       " ⋮\n",
       " 0\n",
       " 0\n",
       " 0\n",
       " 0\n",
       " 0\n",
       " 0\n",
       " 0\n",
       " 0\n",
       " 0"
      ]
     },
     "metadata": {},
     "output_type": "display_data"
    }
   ],
   "source": [
    "ŷ = mode.(predictions)"
   ]
  },
  {
   "cell_type": "code",
   "execution_count": 151,
   "metadata": {},
   "outputs": [
    {
     "data": {
      "text/plain": [
       "0.9983082229762117"
      ]
     },
     "metadata": {},
     "output_type": "display_data"
    }
   ],
   "source": [
    "accuracy(y_train, ŷ)"
   ]
  },
  {
   "cell_type": "code",
   "execution_count": 152,
   "metadata": {},
   "outputs": [
    {
     "data": {
      "text/plain": [
       "70932-element CategoricalArray{Int64,1,UInt32}:\n",
       " 0\n",
       " 0\n",
       " 0\n",
       " 0\n",
       " 0\n",
       " 0\n",
       " 0\n",
       " 0\n",
       " 0\n",
       " 0\n",
       " ⋮\n",
       " 0\n",
       " 0\n",
       " 0\n",
       " 0\n",
       " 0\n",
       " 0\n",
       " 0\n",
       " 0\n",
       " 0"
      ]
     },
     "metadata": {},
     "output_type": "display_data"
    }
   ],
   "source": [
    "ŷ = mode.(predict(model, X_test))"
   ]
  },
  {
   "cell_type": "code",
   "execution_count": 153,
   "metadata": {},
   "outputs": [
    {
     "data": {
      "text/plain": [
       "0.9984069249421982"
      ]
     },
     "metadata": {},
     "output_type": "display_data"
    }
   ],
   "source": [
    "accuracy(y_test, ŷ)"
   ]
  },
  {
   "cell_type": "code",
   "execution_count": null,
   "metadata": {},
   "outputs": [],
   "source": []
  }
 ],
 "metadata": {
  "kernelspec": {
   "display_name": "Julia 1.10.5",
   "language": "julia",
   "name": "julia-1.10"
  },
  "language_info": {
   "file_extension": ".jl",
   "mimetype": "application/julia",
   "name": "julia",
   "version": "1.10.5"
  }
 },
 "nbformat": 4,
 "nbformat_minor": 2
}
